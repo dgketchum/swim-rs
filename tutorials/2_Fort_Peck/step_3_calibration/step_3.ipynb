{
 "cells": [
  {
   "cell_type": "markdown",
   "id": "cc99414e-f1dd-40e1-9253-309c7a42cf8a",
   "metadata": {},
   "source": [
    "# Calibration Tutorial - Fork Peck, MT - Unirrigated Flux Plot\n",
    "\n",
    "## Step 3: Calibrate\n",
    "\n",
    "Now we see if we are able to improve the model's performance through calibration.\n",
    "\n",
    "The main calibration tool used in SWIM (PEST++) has been developed over many years by many clever and diligent developers. They've done us a huge favor by writing great documentation that covers the highly varied functionality of PEST++. It's worth it to check out the materials, which will serve those looking for a cursory look, all the way to those that want a deep dive. Several stand-out resources to refer to are the following:\n",
    "\n",
    "1. The PEST Manual 4th. Ed., Doherty, J., 2002.: https://www.epa.gov/sites/default/files/documents/PESTMAN.PDF. This treats the use of PESTS++ predecessor PEST, but does a great job explaining how we might estimate parameters given observations and a model.\n",
    "2. The GMDSI tutorial notebooks. These are applications of PEST++ using the groundwater modeling software MODFLOW and the modern Python inteface to PEST++, pyemu: https://github.com/gmdsi/GMDSI_notebooks\n",
    "3. The PEST++ User's Manual (https://github.com/usgs/pestpp/blob/master/documentation/pestpp_users_manual.md).\n",
    "4. Calibration and Uncertainty Analysis for Complex Environmental Models. Doherty, J., 2015. See https://pesthomepage.org/pest-book.\n",
    "\n",
    "Note: We are not using the flux data for calibration, it's only for validation. We'd probably get a pretty good SWIM model using the flux data to tune the model, but we're interested in the broad applicability of the method, and thus only use the widely-available SSEBop and SNODAS data."
   ]
  },
  {
   "cell_type": "markdown",
   "id": "dd8a1fdc-97e7-4aa3-8af0-5820f2f647f5",
   "metadata": {},
   "source": [
    "### 1. PEST++ Installation\n",
    "\n",
    "The PEST++ developers do a great job describing the installation process, so we won't cover it here.\n",
    "\n",
    "Get the latest release of PEST++ for your operating system: https://github.com/usgs/pestpp/releases\n",
    "\n",
    "Follow the installation instructions: https://github.com/usgs/pestpp/blob/master/documentation/cmake.md"
   ]
  },
  {
   "cell_type": "markdown",
   "id": "92b92b84-9823-4e1d-a74f-0ccb4a75df22",
   "metadata": {},
   "source": [
    "### 2. Setup the calibration files\n",
    "\n",
    "In order to use PEST++, we need to run through what is, perhaps, a common loop in model calibration:\n",
    "\n",
    "1. Intialize the model with intial conditions.\n",
    "2. Run the model, write the results.\n",
    "3. Compare the results to observations.\n",
    "4. Propose a new, hopefully better, set of parameters.\n",
    "5. Run the model with the new parameters, write the results.\n",
    "6. Repeat 3 - 5.\n",
    "\n",
    "And so on, until we are satisfied with the performance of the model. \n",
    "\n",
    "The purpose of the SWIM calibration approach and this tutorial is to set up a system where the model and the calibration software can operate with minimal interaction. All we need SWIM to do is take the proposed parameters and use them in a model run, and write the results in a convenient format in a convenient place. All we need the calibration software to do is to compare the model results to observations, determine how to tweak the parameters we've told it are 'tunable', and write a new parameter proposal in a convenient format in a convenient place. If we succeed in building such a system, and have maintained independence between the calibration software and the model, we should be able to make changes to one and not need to make changes to the other. In theory, this objective makes development easier.\n",
    "\n",
    "The `calibration` package in SWIM contains software to build what we need to do this with three modules:\n",
    "\n",
    "1. `build_pp_files.py` uses several functions to build the files that control PEST++ behavior:\n",
    "   - The function `build_pest` builds the main `.pst` control file, which defines the eight tunable SWIM model parameters `'aw', 'rew', 'tew', 'ndvi_alpha', 'ndvi_beta', 'mad', 'swe_alpha'`, and `'swe_beta'`. These are three soil water holding capacity parameters (`'aw', 'rew', 'tew'`), the coefficients that control the relationship between remote-sensing-based NDVI and the model transpiration rate parameter `Kcb` (`'ndvi_alpha', 'ndvi_beta'`), the control on when soil water deficit begins to impact transpiration rate (`'mad'`), and the two coefficients that determine the melting rate of snow (`'swe_alpha'`, `'swe_beta'`). The `.pst` file also contains the observation data, which we have derived from SNODAS (SWE) and SSEBop (ETf). Further, the file contains estimates of the noise we believe is in the data. Finally, the `.pst` points to the main Python file that will be used to call the `pestpp-ies` command, the function that runs the PEST++ implementation of Iterative Ensemble Smoother, the algorithm we'll use.\n",
    "2. `custom_forward_run.py` has a single, simple function (`run`) that uses a system call to execute a SWIM script that runs the model, much like how we've run it ouselves previously. You will need to modify `custom_forward_run.py` to enter your machine's path.\n",
    "3. `run_pest.py` is the module that we launch, and that starts PEST++ running. This will also need to be modified to use your machine's path.\n",
    "\n",
    "The actual flow of code execution during calibration is a little confusing, because we use a Python script (`run_pest.py`) to run a command line executable (`'pestpp-ies'`), which itself then executes `custom_forward_run.py` to finally run our Python SWIM code! I know!\n"
   ]
  },
  {
   "cell_type": "code",
   "execution_count": 7,
   "id": "661e64ca-d584-4fad-affc-ae7918d8901d",
   "metadata": {},
   "outputs": [],
   "source": [
    "import json\n",
    "import os\n",
    "import sys\n",
    "\n",
    "from tqdm import tqdm\n",
    "import numpy as np\n",
    "import pandas as pd\n",
    "import geopandas as gpd\n",
    "\n",
    "root = os.path.abspath('../../..')\n",
    "sys.path.append(root)\n",
    "\n",
    "from prep.prep_plots import preproc\n",
    "\n",
    "from calibrate.pest_builder import PestBuilder\n",
    "from swim.config import ProjectConfig\n",
    "\n",
    "from calibrate.run_pest import run_pst"
   ]
  },
  {
   "cell_type": "markdown",
   "id": "5c803238-ff82-4c79-9393-e9ec3d5e3e94",
   "metadata": {},
   "source": [
    "Let's instantiate our `ProjectConfig` object:"
   ]
  },
  {
   "cell_type": "code",
   "execution_count": 14,
   "id": "651d60b1-2ba1-4768-8e75-554cc15a8cd0",
   "metadata": {},
   "outputs": [
    {
     "name": "stdout",
     "output_type": "stream",
     "text": [
      "\n",
      "\n",
      "Config: /home/dgketchum/PycharmProjects/swim-rs/tutorials/2_Fort_Peck/config.toml\n",
      "CALIBRATION OFF\n",
      "FORECAST OFF\n"
     ]
    }
   ],
   "source": [
    "project = '2_Fort_Peck'\n",
    "project_ws = os.path.join(root, 'tutorials', project)\n",
    "if not os.path.isdir(project_ws):\n",
    "    root_ = os.path.abspath('')\n",
    "    project_ws_ = os.path.join(root, 'tutorials', project)\n",
    "\n",
    "config_path = os.path.join(project_ws, 'config.toml')\n",
    "\n",
    "config = ProjectConfig()\n",
    "config.read_config(config_path, project_ws)"
   ]
  },
  {
   "metadata": {},
   "cell_type": "code",
   "outputs": [],
   "execution_count": null,
   "source": [
    "# write the observed data to files within project workspace (tutorial directory)\n",
    "preproc(config_path, project_ws)"
   ],
   "id": "a4d8a2443049634c"
  },
  {
   "cell_type": "markdown",
   "id": "eab94103-d18f-44f0-8fb5-f94eedf900ef",
   "metadata": {},
   "source": [
    "### The PestBuilder object\n",
    "\n",
    "We use the PestBuilder class to do (almost) everything we need to set up for calibration. PestBuilder needs access to our `input_data` and `config` objects, plus we've got a custom python script we need to point it to:"
   ]
  },
  {
   "cell_type": "code",
   "execution_count": 18,
   "id": "084cc207-0d35-4eb7-b80d-73e4bc589d16",
   "metadata": {},
   "outputs": [
    {
     "name": "stdout",
     "output_type": "stream",
     "text": [
      "\n",
      "\n",
      "Config: /home/dgketchum/PycharmProjects/swim-rs/tutorials/2_Fort_Peck/config.toml\n",
      "CALIBRATION OFF\n",
      "FORECAST OFF\n"
     ]
    }
   ],
   "source": [
    "py_script = os.path.join(project_ws, 'custom_forward_run.py')\n",
    "\n",
    "builder = PestBuilder(project_ws=project_ws, config_file=config_path, use_existing=False, python_script=py_script)"
   ]
  },
  {
   "metadata": {},
   "cell_type": "markdown",
   "source": [
    "The `PestBuilder` calss initializes by reading in the configuration object with `ProjectConfig`, and the sample plot data with the `SamplePlots` object.\n",
    "\n",
    "Next, we build the `.pst` file. The method `build_pest` will erase the existing pest directory if there is one! It will also copy everything from `project_ws` into the `pest` directory, which is nice because it will only manipulate copies after that. The function builds the `4_Flux_Network.pst` file, which is the only argument needed at this time to run PEST++ on the problem.\n",
    "\n",
    "Note that during the processing of the ETf data, we wrote an e.g., `etf_inv_irr_ct.csv` table that simply marked the image capture dates. In build_pest(), the observations are given weight 1.0 on these dates, and weight 0.0 on non-capture dates, sp we don't use interpolated ETf values for calibration. The idea here is to only evaluate the objective function on capture dates to give the model the freedom to behave like a soil water balance model on in-between dates.\n",
    "\n",
    "The `custom_forward_run.py` script is used by PEST++ to launch our model. This script is important to get right; it will ensure the model is writing the output to the correct location, so PEST++ can find it and use it to improve the parameter set.\n",
    "\n",
    "Good. Now, let's build the `.pst` control file for our calibration project."
   ],
   "id": "a7ea1219b4611f86"
  },
  {
   "metadata": {},
   "cell_type": "code",
   "outputs": [],
   "execution_count": null,
   "source": [
    "# Build the pest control file\n",
    "# It will copy everything from the project_ws into a new 'pest' directory\n",
    "builder.build_pest()"
   ],
   "id": "ca0505779edf4f17"
  },
  {
   "cell_type": "markdown",
   "id": "f7602362-4d90-411a-91b0-cfbf6159c45c",
   "metadata": {},
   "source": [
    "See that all the data from `project_ws` are now copied to the 'pest' directory at `swim-rs/2_Fort_Peck/pest`, including the data folder, the other steps to this tutorial, etc. We also see the new files that were built:"
   ]
  },
  {
   "metadata": {},
   "cell_type": "code",
   "outputs": [],
   "execution_count": null,
   "source": [
    "original_files = [f for f in sorted(os.listdir(builder.pest_dir)) if os.path.isfile(os.path.join(builder.pest_dir, f))]\n",
    "original_files"
   ],
   "id": "c833b8d12725e6c5"
  },
  {
   "cell_type": "markdown",
   "id": "e6091dec-70a2-4aa8-b915-0eaf36a38812",
   "metadata": {},
   "source": [
    "Check out the files. We see the PEST++ control file, several csv files pointing to parameter information, our python run script, and .tpl and .ins files that spell out to PEST++ where to put the parameter data, and how to read the observations. The params.csv holds our default parameter values and intial estimates of soil parameters from the soils database.\n",
    "\n",
    "The PEST++ version 2 control file is succint; it delegates the work of detailing how to handle model output, observations, and parameter prosal file and format info to other files."
   ]
  },
  {
   "cell_type": "code",
   "execution_count": 21,
   "id": "8983a375-3ebd-465e-ac15-43d61e668ed4",
   "metadata": {},
   "outputs": [
    {
     "name": "stdout",
     "output_type": "stream",
     "text": [
      "pcf version=2\n",
      "* control data keyword\n",
      "pestmode                                 estimation\n",
      "noptmax                                 0\n",
      "svdmode                                 1\n",
      "maxsing                          10000000\n",
      "eigthresh                           1e-06\n",
      "eigwrite                                1\n",
      "* parameter groups external\n",
      "2_fort_peck.pargp_data.csv\n",
      "* parameter data external\n",
      "2_fort_peck.par_data.csv\n",
      "* observation data external\n",
      "2_fort_peck.obs_data.csv\n",
      "* model command line\n",
      "python custom_forward_run.py\n",
      "* model input external\n",
      "2_fort_peck.tplfile_data.csv\n",
      "* model output external\n",
      "2_fort_peck.insfile_data.csv\n",
      "\n"
     ]
    }
   ],
   "source": [
    "with open(builder.pst_file, 'r') as f: \n",
    "    print(f.read())"
   ]
  },
  {
   "metadata": {},
   "cell_type": "markdown",
   "source": [
    "Once we have to control file built, we will want to use the `build_localizer` method that writes a `.loc` file matching the 'obersvations' from SNODAS and SSEBop to the parameters we want to tune them with. We only tune the SWE parameters `swe_alpha` and `swe_beta` using the SNODAS data, while we tune the other parameters using the SSEBop ETf data. The localizer matrix specifies that for PEST++.\n",
    "\n",
    "Will will also run the `write_control_settings` that will change how many time the model runs."
   ],
   "id": "8a31521817cdc10c"
  },
  {
   "metadata": {},
   "cell_type": "code",
   "outputs": [],
   "execution_count": null,
   "source": [
    "builder.build_localizer()\n",
    "builder.write_control_settings(noptmax=3, reals=5)"
   ],
   "id": "313107d797b67c0"
  },
  {
   "cell_type": "markdown",
   "id": "9bcf2585-4079-484c-b808-9a827bcd9f56",
   "metadata": {},
   "source": [
    "The control file settings have been changed. The `noptmax` (number of optimization iterations) was increased to 3, with 5 model 'realizations' (runs) per cycle. Once we get the calibration running smoothly, increase the `reals` parameter to a larger number, perhaps 100. We can also see the addition of the `loc.mat` localizer file."
   ]
  },
  {
   "metadata": {},
   "cell_type": "code",
   "outputs": [],
   "execution_count": null,
   "source": [
    "with open(builder.pst_file, 'r') as f:\n",
    "    print(f.read())"
   ],
   "id": "85d301c04c8a182d"
  },
  {
   "metadata": {},
   "cell_type": "markdown",
   "source": [
    "**Congratulations** if you've made it this far. There is a lot going on in this project, and staying organized while preparing up to harness a powerful tool like PEST++ is a significant achievement!\n",
    "\n",
    "Let's see if we can improve SWIM through calibration. We're using multiprocessing; feel free to change `workers` to suit your machine.\n",
    "\n",
    "Run the calibration launcher:"
   ],
   "id": "1a5863229208acce"
  },
  {
   "metadata": {},
   "cell_type": "code",
   "outputs": [],
   "execution_count": null,
   "source": [
    "workers = 8\n",
    "\n",
    "run_pst(builder.pest_dir,\n",
    "        'pestpp-ies',\n",
    "        builder.pst_file,\n",
    "        num_workers=workers,\n",
    "        worker_root=builder.workers_dir,\n",
    "        master_dir=builder.master_dir,\n",
    "        verbose=True)"
   ],
   "id": "36bd299d7c0da8a2"
  },
  {
   "cell_type": "markdown",
   "id": "34a4847e-6f76-4adc-bc55-c48c2dcb0a63",
   "metadata": {},
   "source": [
    "If it runs, you see a progress updater that will have something like `01/05 11:35:11 mn:0.16  runs(C5   |F0    |T0    ) agents(R1   |W0   |U0   ) 0`. The `C` stands for 'complete', and if it increases, PEST++ is running. Go get a coffee. \n",
    "\n",
    "Let's assume it didn't run.\n",
    "\n",
    "### Debugging Tips\n",
    "\n",
    " - If you never saw the panther, then `pestpp-ies` was probably not executed. Make sure you can run `pestpp-ies` from the command line in any directory on your machine. You may need to point to the executable with a full path, like `/home/skywalker/software/pestpp-ies`, or a path that ends with the '.exe' extension, if on a Windows machine. In this case, you will need to update the `PATHS` dict above to ensure we are providing `run_pest.py`'s `run_pst` with the correct executable.\n",
    " - If you never saw the panther and got a Python error traceback, read it carefully. It's tricky to get the interface to work, as we need to launch `run_pest.py`, it needs to launch `pestpp-ies`, that launches `custom_forward_run.py`, which finally actually runs the model with `run/run_mp.py`.\n",
    "\n",
    "   A good debugging approach is to start from the bottom up by getting `run_mp.optimize_fields` to run from arguments provided under `if __name__ == '__main__':` in `run_mp.py`. Then get `run_mp.py` to run by launching the `custom_forward_run.py` located in your 'pest' directory. Then try running `run/run_pest.py` with arguments provided under `if __name__ == '__main__':`. Trust a simpler way code flow that doesn't decrease flexibility is sought.\n",
    "\n",
    " - Try running the `pestpp-ies` commmand from the 'pest' folder. This runs the program in a single thread, and can rule out problems with the 'pest' folder's files and structure. If you can run this, the problem is likely with the `run/run_pest.py` function `run_pst`. Double check the paths and arguments. Try launching it from `run/run_pest.py` instead of from this notebook.\n",
    "   \n",
    " - If you saw the panther, then `pestpp-ies` ran. Great. You are close. The traceback (message in the ouput) that traces your error is very informative, but the last error is likely not what you need to track down. It's common to see something like\n",
    "    ```\n",
    "    thread processing instruction file raised an exception: InstructionFile error in file 'swe_US-FPe.ins' : output file'pred/pred_swe_US-FPe.np' not found\n",
    "    ```\n",
    "\n",
    "This interrupted the PEST++ execution of the realization, but likely wasn't the true cause. The error of not finding SWIM's prediction in `pred_swe_US-FPe.np` is actually because SWIM never completed it's run, because SWIM itself has an error. If you look higher up the traceback, you might find a Python error, like \n",
    "    \n",
    "    ```\n",
    "    File \"/home/yoda/PycharmProjects/swim-rs/swim/config.py\", line 124, in read_config\n",
    "    cal_files, mult_files = set(os.listdir(self.calibration_dir)), set(_files)\n",
    "    FileNotFoundError: [Errno 2] No such file or directory: ''\n",
    "    ```\n",
    " We see that we forgot to set the `calibration_dir` in the config file and Python raises an error when it sees only `''`, but expects a path to a directory.\n",
    "\n",
    "These are just a few ideas. As always, the key to debugging is reading the hints in the traceback and moving up the code operation chain until the problem is found. Science says 9/10 errors are due to paths not being set correctly.\n",
    " \n"
   ]
  },
  {
   "cell_type": "markdown",
   "id": "b2e1b24b-a32f-4a51-bc3f-06b682b34a16",
   "metadata": {},
   "source": [
    "Once we get a successful run, we see we have many more files in the 'pest' directory, but what we want are the calibrated parameters we'll need to use to run SWIM in forecast mode (i.e., a calibrated run of the model). The should be in the 'pest' directory, though in cases theu may end up in 'master', the location where multiprocessing by pyemu of PEST++ was coordinated:"
   ]
  },
  {
   "metadata": {},
   "cell_type": "code",
   "outputs": [],
   "execution_count": null,
   "source": "[f for f in sorted(os.listdir(builder.pest_dir)) if '.par.csv' in f]",
   "id": "5ee674697f82b423"
  },
  {
   "cell_type": "markdown",
   "id": "f2d4dccc-1a00-4720-b9e8-ed77eb390a33",
   "metadata": {},
   "source": [
    "Make sure these exist. There is a parameter file for each optimization run, the intial '0' run, and the three optimization runs we specified with `noptmax`. Each file has a row for each realization, with columns having a parameter value for each tunable parameter. This is the valuable data we will examine in the next step."
   ]
  },
  {
   "cell_type": "markdown",
   "id": "832dee5a-ac2b-4f9c-941e-0977e7ea2106",
   "metadata": {},
   "source": [
    "This workflow benefits from a powerful machine; the higher number of workers you can employ, the faster the otpimization will run."
   ]
  },
  {
   "cell_type": "code",
   "execution_count": null,
   "id": "4d30a3c7-5614-4148-ac0b-7e7e231af597",
   "metadata": {},
   "outputs": [],
   "source": []
  }
 ],
 "metadata": {
  "kernelspec": {
   "display_name": "Python 3 (ipykernel)",
   "language": "python",
   "name": "python3"
  },
  "language_info": {
   "codemirror_mode": {
    "name": "ipython",
    "version": 3
   },
   "file_extension": ".py",
   "mimetype": "text/x-python",
   "name": "python",
   "nbconvert_exporter": "python",
   "pygments_lexer": "ipython3",
   "version": "3.9.18"
  }
 },
 "nbformat": 4,
 "nbformat_minor": 5
}
