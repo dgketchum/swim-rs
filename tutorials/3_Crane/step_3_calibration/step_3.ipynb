{
 "cells": [
  {
   "cell_type": "markdown",
   "id": "cc99414e-f1dd-40e1-9253-309c7a42cf8a",
   "metadata": {},
   "source": [
    "# Calibration Tutorial - Crane, OR - Irrigated Flux Plot\n",
    "\n",
    "## Step 3: Calibrate\n",
    "\n",
    "Now we see if we are able to improve the model's performance through calibration.\n",
    "\n",
    "The main calibration tool used in SWIM (PEST++) has been developed over many years by many clever and diligent developers. They've done us a huge favor by writing great documentation that covers the highly varied functionality of PEST++. It's worth it to check out the materials, which will serve those looking for a cursory look, all the way to those that want a deep dive. Several stand-out resources to refer to are the following:\n",
    "\n",
    "1. The PEST Manual 4th. Ed., Doherty, J., 2002.: https://www.epa.gov/sites/default/files/documents/PESTMAN.PDF. This treats the use of PESTS++ predecessor PEST, but does a great job explaining how we might estimate parameters given observations and a model.\n",
    "2. The GMDSI tutorial notebooks. These are applications of PEST++ using the groundwater modeling software MODFLOW and the modern Python inteface to PEST++, pyemu: https://github.com/gmdsi/GMDSI_notebooks\n",
    "3. The PEST++ User's Manual (https://github.com/usgs/pestpp/blob/master/documentation/pestpp_users_manual.md).\n",
    "4. Calibration and Uncertainty Analysis for Complex Environmental Models. Doherty, J., 2015. See https://pesthomepage.org/pest-book.\n",
    "\n",
    "Note: We are not using the flux data for calibration, it's only for validation. We'd probably get a pretty good SWIM model using the flux data to tune the model, but we're interested in the broad applicability of the method, and thus only use the widely-available SSEBop and SNODAS data."
   ]
  },
  {
   "cell_type": "markdown",
   "id": "dd8a1fdc-97e7-4aa3-8af0-5820f2f647f5",
   "metadata": {},
   "source": [
    "### 1. PEST++ Installation\n",
    "\n",
    "The PEST++ developers do a great job describing the installation process, so we won't cover it here.\n",
    "\n",
    "Get the latest release of PEST++ for your operating system: https://github.com/usgs/pestpp/releases\n",
    "\n",
    "Follow the installation instructions: https://github.com/usgs/pestpp/blob/master/documentation/cmake.md"
   ]
  },
  {
   "cell_type": "markdown",
   "id": "92b92b84-9823-4e1d-a74f-0ccb4a75df22",
   "metadata": {},
   "source": [
    "### 2. Setup the calibration files\n",
    "\n",
    "In order to use PEST++, we need to run through what is, perhaps, a common loop in model calibration:\n",
    "\n",
    "1. Intialize the model with intial conditions.\n",
    "2. Run the model, write the results.\n",
    "3. Compare the results to observations.\n",
    "4. Propose a new, hopefully better, set of parameters.\n",
    "5. Run the model with the new parameters, write the results.\n",
    "6. Repeat 3 - 5.\n",
    "\n",
    "And so on, until we are satisfied with the performance of the model. \n",
    "\n",
    "The purpose of the SWIM calibration approach and this tutorial is to set up a system where the model and the calibration software can operate with minimal interaction. All we need SWIM to do is take the proposed parameters and use them in a model run, and write the results in a convenient format in a convenient place. All we need the calibration software to do is to compare the model results to observations, determine how to tweak the parameters we've told it are 'tunable', and write a new parameter proposal in a convenient format in a convenient place. If we succeed in building such a system, and have maintained independence between the calibration software and the model, we should be able to make changes to one and not need to make changes to the other. In theory, this objective makes development easier.\n",
    "\n",
    "The `calibration` package in SWIM contains software to build what we need to do this with three modules:\n",
    "\n",
    "1. `build_pp_files.py` uses several functions to build the files that control PEST++ behavior:\n",
    "   - The function `build_pest` builds the main `.pst` control file, which defines the eight tunable SWIM model parameters `'aw', 'rew', 'tew', 'ndvi_alpha', 'ndvi_beta', 'mad', 'swe_alpha'`, and `'swe_beta'`. These are three soil water holding capacity parameters (`'aw', 'rew', 'tew'`), the coefficients that control the relationship between remote-sensing-based NDVI and the model transpiration rate parameter `Kcb` (`'ndvi_alpha', 'ndvi_beta'`), the control on when soil water deficit begins to impact transpiration rate (`'mad'`), and the two coefficients that determine the melting rate of snow (`'swe_alpha'`, `'swe_beta'`). The `.pst` file also contains the observation data, which we have derived from SNODAS (SWE) and SSEBop (ETf). Further, the file contains estimates of the noise we believe is in the data. Finally, the `.pst` points to the main Python file that will be used to call the `pestpp-ies` command, the function that runs the PEST++ implementation of Iterative Ensemble Smoother, the algorithm we'll use.\n",
    "2. `custom_forward_run.py` has a single, simple function (`run`) that uses a system call to execute a SWIM script that runs the model, much like how we've run it ouselves previously. You will need to modify `custom_forward_run.py` to enter your machine's path.\n",
    "3. `run_pest.py` is the module that we launch, and that starts PEST++ running. This will also need to be modified to use your machine's path.\n",
    "\n",
    "The actual flow of code execution during calibration is a little confusing, because we use a Python script (`run_pest.py`) to run a command line executable (`'pestpp-ies'`), which itself then executes `custom_forward_run.py` to finally run our Python SWIM code! I know!\n"
   ]
  },
  {
   "cell_type": "code",
   "execution_count": 1,
   "id": "661e64ca-d584-4fad-affc-ae7918d8901d",
   "metadata": {},
   "outputs": [],
   "source": [
    "import json\n",
    "import os\n",
    "import sys\n",
    "\n",
    "from tqdm import tqdm\n",
    "import numpy as np\n",
    "import pandas as pd\n",
    "import geopandas as gpd\n",
    "\n",
    "root = os.path.abspath('../../..')\n",
    "sys.path.append(root)\n",
    "\n",
    "from prep.prep_plots import preproc\n",
    "\n",
    "from calibrate.pest_builder import PestBuilder\n",
    "from swim.config import ProjectConfig\n",
    "\n",
    "from calibrate.run_pest import run_pst"
   ]
  },
  {
   "metadata": {},
   "cell_type": "markdown",
   "source": "Let's instantiate our `ProjectConfig` object:",
   "id": "1398177f4184c397"
  },
  {
   "metadata": {},
   "cell_type": "code",
   "outputs": [],
   "execution_count": null,
   "source": [
    "project = '3_Crane'\n",
    "project_ws = os.path.join(root, 'tutorials', project)\n",
    "if not os.path.isdir(project_ws):\n",
    "    root_ = os.path.abspath('')\n",
    "    project_ws_ = os.path.join(root, 'tutorials', project)\n",
    "\n",
    "config_path = os.path.join(project_ws, 'config.toml')\n",
    "\n",
    "config = ProjectConfig()\n",
    "config.read_config(config_path, project_ws)"
   ],
   "id": "b133f06aed0452af"
  },
  {
   "metadata": {},
   "cell_type": "code",
   "outputs": [],
   "execution_count": null,
   "source": "preproc(config_path, project_ws)",
   "id": "5b009cc449203e2a"
  },
  {
   "metadata": {},
   "cell_type": "markdown",
   "source": [
    "### The PestBuilder object\n",
    "\n",
    "We use the PestBuilder class to do (almost) everything we need to set up for calibration. PestBuilder needs access to our `input_data` and `config` objects, plus we've got a custom python script we need to point it to:"
   ],
   "id": "12cf70e29e2c84b4"
  },
  {
   "metadata": {},
   "cell_type": "code",
   "outputs": [],
   "execution_count": null,
   "source": [
    "py_script = os.path.join(project_ws, 'custom_forward_run.py')\n",
    "\n",
    "builder = PestBuilder(project_ws=project_ws, config_file=config_path, use_existing=False, python_script=py_script)"
   ],
   "id": "210bf37e02ecb035"
  },
  {
   "cell_type": "markdown",
   "id": "eab94103-d18f-44f0-8fb5-f94eedf900ef",
   "metadata": {},
   "source": [
    "The `PestBuilder` calss initializes by reading in the configuration object with `ProjectConfig`, and the sample plot data with the `SamplePlots` object.\n",
    "\n",
    "Next, we build the `.pst` file. The method `build_pest` will erase the existing pest directory if there is one! It will also copy everything from `project_ws` into the `pest` directory, which is nice because it will only manipulate copies after that. The function builds the `4_Flux_Network.pst` file, which is the only argument needed at this time to run PEST++ on the problem.\n",
    "\n",
    "Note that during the processing of the ETf data, we wrote an e.g., `etf_inv_irr_ct.csv` table that simply marked the image capture dates. In build_pest(), the observations are given weight 1.0 on these dates, and weight 0.0 on non-capture dates, sp we don't use interpolated ETf values for calibration. The idea here is to only evaluate the objective function on capture dates to give the model the freedom to behave like a soil water balance model on in-between dates.\n",
    "\n",
    "The `custom_forward_run.py` script is used by PEST++ to launch our model. This script is important to get right; it will ensure the model is writing the output to the correct location, so PEST++ can find it and use it to improve the parameter set.\n",
    "\n",
    "Good. Now, let's build the `.pst` control file for our calibration project."
   ]
  },
  {
   "cell_type": "code",
   "execution_count": 5,
   "id": "8bbfb69a-e21d-40f9-9fc8-7bdf9adfb8e3",
   "metadata": {
    "scrolled": true
   },
   "outputs": [
    {
     "name": "stdout",
     "output_type": "stream",
     "text": [
      "2025-01-05 22:38:58.464203 starting: opening PstFrom.log for logging\n",
      "2025-01-05 22:38:58.464376 starting PstFrom process\n",
      "2025-01-05 22:38:58.464420 starting: setting up dirs\n",
      "2025-01-05 22:38:58.464635 starting: removing existing new_d '/home/dgketchum/PycharmProjects/swim-rs/tutorials/3_Crane/pest'\n",
      "2025-01-05 22:38:58.563176 finished: removing existing new_d '/home/dgketchum/PycharmProjects/swim-rs/tutorials/3_Crane/pest' took: 0:00:00.098541\n",
      "2025-01-05 22:38:58.563233 starting: copying original_d '/home/dgketchum/PycharmProjects/swim-rs/tutorials/3_Crane' to new_d '/home/dgketchum/PycharmProjects/swim-rs/tutorials/3_Crane/pest'\n",
      "2025-01-05 22:38:59.095167 finished: copying original_d '/home/dgketchum/PycharmProjects/swim-rs/tutorials/3_Crane' to new_d '/home/dgketchum/PycharmProjects/swim-rs/tutorials/3_Crane/pest' took: 0:00:00.531934\n",
      "2025-01-05 22:38:59.095612 finished: setting up dirs took: 0:00:00.631192\n",
      "2025-01-05 22:38:59.095702 starting: adding constant type m style parameters for file(s) ['params.csv']\n",
      "2025-01-05 22:38:59.095773 starting: loading list-style /home/dgketchum/PycharmProjects/swim-rs/tutorials/3_Crane/pest/params.csv\n",
      "2025-01-05 22:38:59.095816 starting: reading list-style file: /home/dgketchum/PycharmProjects/swim-rs/tutorials/3_Crane/pest/params.csv\n",
      "2025-01-05 22:38:59.097039 finished: reading list-style file: /home/dgketchum/PycharmProjects/swim-rs/tutorials/3_Crane/pest/params.csv took: 0:00:00.001223\n",
      "2025-01-05 22:38:59.097114 loaded list-style '/home/dgketchum/PycharmProjects/swim-rs/tutorials/3_Crane/pest/params.csv' of shape (9, 3)\n",
      "2025-01-05 22:38:59.098393 finished: loading list-style /home/dgketchum/PycharmProjects/swim-rs/tutorials/3_Crane/pest/params.csv took: 0:00:00.002620\n",
      "2025-01-05 22:38:59.098464 starting: writing list-style template file '/home/dgketchum/PycharmProjects/swim-rs/tutorials/3_Crane/pest/p_aw_S2_0_constant.csv.tpl'\n",
      "2025-01-05 22:38:59.106108 finished: writing list-style template file '/home/dgketchum/PycharmProjects/swim-rs/tutorials/3_Crane/pest/p_aw_S2_0_constant.csv.tpl' took: 0:00:00.007644\n",
      "2025-01-05 22:38:59.109147 finished: adding constant type m style parameters for file(s) ['params.csv'] took: 0:00:00.013445\n",
      "2025-01-05 22:38:59.109237 starting: adding constant type m style parameters for file(s) ['params.csv']\n",
      "2025-01-05 22:38:59.109307 starting: loading list-style /home/dgketchum/PycharmProjects/swim-rs/tutorials/3_Crane/pest/params.csv\n",
      "2025-01-05 22:38:59.109350 starting: reading list-style file: /home/dgketchum/PycharmProjects/swim-rs/tutorials/3_Crane/pest/params.csv\n",
      "2025-01-05 22:38:59.110276 finished: reading list-style file: /home/dgketchum/PycharmProjects/swim-rs/tutorials/3_Crane/pest/params.csv took: 0:00:00.000926\n",
      "2025-01-05 22:38:59.110336 loaded list-style '/home/dgketchum/PycharmProjects/swim-rs/tutorials/3_Crane/pest/params.csv' of shape (9, 3)\n",
      "2025-01-05 22:38:59.123103 finished: loading list-style /home/dgketchum/PycharmProjects/swim-rs/tutorials/3_Crane/pest/params.csv took: 0:00:00.013796\n",
      "2025-01-05 22:38:59.123189 starting: writing list-style template file '/home/dgketchum/PycharmProjects/swim-rs/tutorials/3_Crane/pest/p_rew_S2_0_constant.csv.tpl'\n",
      "2025-01-05 22:38:59.131503 finished: writing list-style template file '/home/dgketchum/PycharmProjects/swim-rs/tutorials/3_Crane/pest/p_rew_S2_0_constant.csv.tpl' took: 0:00:00.008314\n",
      "2025-01-05 22:38:59.134341 finished: adding constant type m style parameters for file(s) ['params.csv'] took: 0:00:00.025104\n",
      "2025-01-05 22:38:59.134428 starting: adding constant type m style parameters for file(s) ['params.csv']\n",
      "2025-01-05 22:38:59.134499 starting: loading list-style /home/dgketchum/PycharmProjects/swim-rs/tutorials/3_Crane/pest/params.csv\n",
      "2025-01-05 22:38:59.134542 starting: reading list-style file: /home/dgketchum/PycharmProjects/swim-rs/tutorials/3_Crane/pest/params.csv\n",
      "2025-01-05 22:38:59.135452 finished: reading list-style file: /home/dgketchum/PycharmProjects/swim-rs/tutorials/3_Crane/pest/params.csv took: 0:00:00.000910\n",
      "2025-01-05 22:38:59.135511 loaded list-style '/home/dgketchum/PycharmProjects/swim-rs/tutorials/3_Crane/pest/params.csv' of shape (9, 3)\n",
      "2025-01-05 22:38:59.137656 finished: loading list-style /home/dgketchum/PycharmProjects/swim-rs/tutorials/3_Crane/pest/params.csv took: 0:00:00.003157\n",
      "2025-01-05 22:38:59.137727 starting: writing list-style template file '/home/dgketchum/PycharmProjects/swim-rs/tutorials/3_Crane/pest/p_tew_S2_0_constant.csv.tpl'\n",
      "2025-01-05 22:38:59.145148 finished: writing list-style template file '/home/dgketchum/PycharmProjects/swim-rs/tutorials/3_Crane/pest/p_tew_S2_0_constant.csv.tpl' took: 0:00:00.007421\n",
      "2025-01-05 22:38:59.148417 finished: adding constant type m style parameters for file(s) ['params.csv'] took: 0:00:00.013989\n",
      "2025-01-05 22:38:59.148509 starting: adding constant type m style parameters for file(s) ['params.csv']\n",
      "2025-01-05 22:38:59.148581 starting: loading list-style /home/dgketchum/PycharmProjects/swim-rs/tutorials/3_Crane/pest/params.csv\n",
      "2025-01-05 22:38:59.148625 starting: reading list-style file: /home/dgketchum/PycharmProjects/swim-rs/tutorials/3_Crane/pest/params.csv\n",
      "2025-01-05 22:38:59.149544 finished: reading list-style file: /home/dgketchum/PycharmProjects/swim-rs/tutorials/3_Crane/pest/params.csv took: 0:00:00.000919\n",
      "2025-01-05 22:38:59.149604 loaded list-style '/home/dgketchum/PycharmProjects/swim-rs/tutorials/3_Crane/pest/params.csv' of shape (9, 3)\n",
      "2025-01-05 22:38:59.168842 finished: loading list-style /home/dgketchum/PycharmProjects/swim-rs/tutorials/3_Crane/pest/params.csv took: 0:00:00.020261\n",
      "2025-01-05 22:38:59.169039 starting: writing list-style template file '/home/dgketchum/PycharmProjects/swim-rs/tutorials/3_Crane/pest/p_ndvi_alpha_S2_0_constant.csv.tpl'\n",
      "2025-01-05 22:38:59.184184 finished: writing list-style template file '/home/dgketchum/PycharmProjects/swim-rs/tutorials/3_Crane/pest/p_ndvi_alpha_S2_0_constant.csv.tpl' took: 0:00:00.015145\n",
      "2025-01-05 22:38:59.188878 finished: adding constant type m style parameters for file(s) ['params.csv'] took: 0:00:00.040369\n",
      "2025-01-05 22:38:59.189028 starting: adding constant type m style parameters for file(s) ['params.csv']\n",
      "2025-01-05 22:38:59.189156 starting: loading list-style /home/dgketchum/PycharmProjects/swim-rs/tutorials/3_Crane/pest/params.csv\n",
      "2025-01-05 22:38:59.189229 starting: reading list-style file: /home/dgketchum/PycharmProjects/swim-rs/tutorials/3_Crane/pest/params.csv\n",
      "2025-01-05 22:38:59.190759 finished: reading list-style file: /home/dgketchum/PycharmProjects/swim-rs/tutorials/3_Crane/pest/params.csv took: 0:00:00.001530\n",
      "2025-01-05 22:38:59.190841 loaded list-style '/home/dgketchum/PycharmProjects/swim-rs/tutorials/3_Crane/pest/params.csv' of shape (9, 3)\n",
      "2025-01-05 22:38:59.202777 finished: loading list-style /home/dgketchum/PycharmProjects/swim-rs/tutorials/3_Crane/pest/params.csv took: 0:00:00.013621\n",
      "2025-01-05 22:38:59.202908 starting: writing list-style template file '/home/dgketchum/PycharmProjects/swim-rs/tutorials/3_Crane/pest/p_ndvi_beta_S2_0_constant.csv.tpl'\n",
      "2025-01-05 22:38:59.213828 finished: writing list-style template file '/home/dgketchum/PycharmProjects/swim-rs/tutorials/3_Crane/pest/p_ndvi_beta_S2_0_constant.csv.tpl' took: 0:00:00.010920\n",
      "2025-01-05 22:38:59.218207 finished: adding constant type m style parameters for file(s) ['params.csv'] took: 0:00:00.029179\n",
      "2025-01-05 22:38:59.218344 starting: adding constant type m style parameters for file(s) ['params.csv']\n",
      "2025-01-05 22:38:59.218459 starting: loading list-style /home/dgketchum/PycharmProjects/swim-rs/tutorials/3_Crane/pest/params.csv\n",
      "2025-01-05 22:38:59.218526 starting: reading list-style file: /home/dgketchum/PycharmProjects/swim-rs/tutorials/3_Crane/pest/params.csv\n",
      "2025-01-05 22:38:59.220074 finished: reading list-style file: /home/dgketchum/PycharmProjects/swim-rs/tutorials/3_Crane/pest/params.csv took: 0:00:00.001548\n",
      "2025-01-05 22:38:59.220155 loaded list-style '/home/dgketchum/PycharmProjects/swim-rs/tutorials/3_Crane/pest/params.csv' of shape (9, 3)\n",
      "2025-01-05 22:38:59.236244 finished: loading list-style /home/dgketchum/PycharmProjects/swim-rs/tutorials/3_Crane/pest/params.csv took: 0:00:00.017785\n",
      "2025-01-05 22:38:59.236510 starting: writing list-style template file '/home/dgketchum/PycharmProjects/swim-rs/tutorials/3_Crane/pest/p_mad_S2_0_constant.csv.tpl'\n",
      "2025-01-05 22:38:59.247155 finished: writing list-style template file '/home/dgketchum/PycharmProjects/swim-rs/tutorials/3_Crane/pest/p_mad_S2_0_constant.csv.tpl' took: 0:00:00.010645\n",
      "2025-01-05 22:38:59.251448 finished: adding constant type m style parameters for file(s) ['params.csv'] took: 0:00:00.033104\n",
      "2025-01-05 22:38:59.251582 starting: adding constant type m style parameters for file(s) ['params.csv']\n",
      "2025-01-05 22:38:59.251708 starting: loading list-style /home/dgketchum/PycharmProjects/swim-rs/tutorials/3_Crane/pest/params.csv\n",
      "2025-01-05 22:38:59.251780 starting: reading list-style file: /home/dgketchum/PycharmProjects/swim-rs/tutorials/3_Crane/pest/params.csv\n",
      "2025-01-05 22:38:59.253174 finished: reading list-style file: /home/dgketchum/PycharmProjects/swim-rs/tutorials/3_Crane/pest/params.csv took: 0:00:00.001394\n",
      "2025-01-05 22:38:59.253254 loaded list-style '/home/dgketchum/PycharmProjects/swim-rs/tutorials/3_Crane/pest/params.csv' of shape (9, 3)\n",
      "2025-01-05 22:38:59.256928 finished: loading list-style /home/dgketchum/PycharmProjects/swim-rs/tutorials/3_Crane/pest/params.csv took: 0:00:00.005220\n",
      "2025-01-05 22:38:59.257028 starting: writing list-style template file '/home/dgketchum/PycharmProjects/swim-rs/tutorials/3_Crane/pest/p_swe_alpha_S2_0_constant.csv.tpl'\n",
      "2025-01-05 22:38:59.265766 finished: writing list-style template file '/home/dgketchum/PycharmProjects/swim-rs/tutorials/3_Crane/pest/p_swe_alpha_S2_0_constant.csv.tpl' took: 0:00:00.008738\n",
      "2025-01-05 22:38:59.268758 finished: adding constant type m style parameters for file(s) ['params.csv'] took: 0:00:00.017176\n",
      "2025-01-05 22:38:59.268863 starting: adding constant type m style parameters for file(s) ['params.csv']\n",
      "2025-01-05 22:38:59.268938 starting: loading list-style /home/dgketchum/PycharmProjects/swim-rs/tutorials/3_Crane/pest/params.csv\n",
      "2025-01-05 22:38:59.268984 starting: reading list-style file: /home/dgketchum/PycharmProjects/swim-rs/tutorials/3_Crane/pest/params.csv\n",
      "2025-01-05 22:38:59.270003 finished: reading list-style file: /home/dgketchum/PycharmProjects/swim-rs/tutorials/3_Crane/pest/params.csv took: 0:00:00.001019\n",
      "2025-01-05 22:38:59.270101 loaded list-style '/home/dgketchum/PycharmProjects/swim-rs/tutorials/3_Crane/pest/params.csv' of shape (9, 3)\n",
      "2025-01-05 22:38:59.301634 finished: loading list-style /home/dgketchum/PycharmProjects/swim-rs/tutorials/3_Crane/pest/params.csv took: 0:00:00.032696\n",
      "2025-01-05 22:38:59.301955 starting: writing list-style template file '/home/dgketchum/PycharmProjects/swim-rs/tutorials/3_Crane/pest/p_swe_beta_S2_0_constant.csv.tpl'\n",
      "2025-01-05 22:38:59.312726 finished: writing list-style template file '/home/dgketchum/PycharmProjects/swim-rs/tutorials/3_Crane/pest/p_swe_beta_S2_0_constant.csv.tpl' took: 0:00:00.010771\n",
      "2025-01-05 22:38:59.317116 finished: adding constant type m style parameters for file(s) ['params.csv'] took: 0:00:00.048253\n",
      "2025-01-05 22:38:59.681317 starting: adding observations from output file obs/obs_etf_S2.np\n",
      "2025-01-05 22:38:59.681426 starting: adding observations from array output file 'obs/obs_etf_S2.np'\n",
      "2025-01-05 22:38:59.699079 starting: adding observation from instruction file '/home/dgketchum/PycharmProjects/swim-rs/tutorials/3_Crane/pest/etf_S2.ins'\n",
      "2025-01-05 22:38:59.800605 finished: adding observation from instruction file '/home/dgketchum/PycharmProjects/swim-rs/tutorials/3_Crane/pest/etf_S2.ins' took: 0:00:00.101526\n",
      "2025-01-05 22:38:59.801223 finished: adding observations from array output file 'obs/obs_etf_S2.np' took: 0:00:00.119797\n",
      "2025-01-05 22:38:59.801429 finished: adding observations from output file obs/obs_etf_S2.np took: 0:00:00.120112\n",
      "2025-01-05 22:39:00.593820 starting: adding observations from output file obs/obs_swe_S2.np\n",
      "2025-01-05 22:39:00.593943 starting: adding observations from array output file 'obs/obs_swe_S2.np'\n",
      "2025-01-05 22:39:00.606281 starting: adding observation from instruction file '/home/dgketchum/PycharmProjects/swim-rs/tutorials/3_Crane/pest/swe_S2.ins'\n",
      "2025-01-05 22:39:00.695194 finished: adding observation from instruction file '/home/dgketchum/PycharmProjects/swim-rs/tutorials/3_Crane/pest/swe_S2.ins' took: 0:00:00.088913\n",
      "2025-01-05 22:39:00.695991 finished: adding observations from array output file 'obs/obs_swe_S2.np' took: 0:00:00.102048\n",
      "2025-01-05 22:39:00.696159 finished: adding observations from output file obs/obs_swe_S2.np took: 0:00:00.102339\n",
      "noptmax:0, npar_adj:8, nnz_obs:3465\n",
      "noptmax:0, npar_adj:8, nnz_obs:3465\n",
      "9862 rows in swe, 9862 rows in etf\n",
      "Configured PEST++ for 1 targets, \n"
     ]
    }
   ],
   "source": [
    "# Build the pest control file\n",
    "# It will copy everything from the project_ws into a new 'pest' directory\n",
    "builder.build_pest()"
   ]
  },
  {
   "cell_type": "markdown",
   "id": "f7602362-4d90-411a-91b0-cfbf6159c45c",
   "metadata": {},
   "source": [
    "See that all the data from `project_ws` are now copied to the 'pest' directory at `swim-rs/3_Crane/pest`, including the data folder, the other steps to this tutorial, etc. We also see the new files that were built:"
   ]
  },
  {
   "cell_type": "code",
   "execution_count": 5,
   "id": "26e62e52-73dd-4f68-b936-b9f930d5716f",
   "metadata": {},
   "outputs": [
    {
     "data": {
      "text/plain": [
       "['3_Crane.oe.csv',\n",
       " '3_Crane.pst',\n",
       " '3_crane.insfile_data.csv',\n",
       " '3_crane.obs_data.csv',\n",
       " '3_crane.par_data.csv',\n",
       " '3_crane.pargp_data.csv',\n",
       " '3_crane.tplfile_data.csv',\n",
       " 'custom_forward_run.py',\n",
       " 'etf_S2.ins',\n",
       " 'loc.mat',\n",
       " 'mult2model_info.csv',\n",
       " 'p_aw_S2_0_constant.csv.tpl',\n",
       " 'p_mad_S2_0_constant.csv.tpl',\n",
       " 'p_ndvi_alpha_S2_0_constant.csv.tpl',\n",
       " 'p_ndvi_beta_S2_0_constant.csv.tpl',\n",
       " 'p_rew_S2_0_constant.csv.tpl',\n",
       " 'p_swe_alpha_S2_0_constant.csv.tpl',\n",
       " 'p_swe_beta_S2_0_constant.csv.tpl',\n",
       " 'p_tew_S2_0_constant.csv.tpl',\n",
       " 'params.csv',\n",
       " 'swe_S2.ins']"
      ]
     },
     "execution_count": 5,
     "metadata": {},
     "output_type": "execute_result"
    }
   ],
   "source": [
    "original_files = [f for f in sorted(os.listdir(builder.pest_dir)) if os.path.isfile(os.path.join(builder.pest_dir, f))]\n",
    "original_files"
   ]
  },
  {
   "metadata": {},
   "cell_type": "markdown",
   "source": [
    "Check out the files. We see the PEST++ control file, several csv files pointing to parameter information, our python run script, and .tpl and .ins files that spell out to PEST++ where to put the parameter data, and how to read the observations. The params.csv holds our default parameter values and intial estimates of soil parameters from the soils database.\n",
    "\n",
    "The PEST++ version 2 control file is succint; it delegates the work of detailing how to handle model output, observations, and parameter prosal file and format info to other files."
   ],
   "id": "42e9c124130d8fec"
  },
  {
   "cell_type": "code",
   "execution_count": 6,
   "id": "c4fb70c5-45e0-4f32-8393-ca70082bf3f6",
   "metadata": {},
   "outputs": [
    {
     "name": "stdout",
     "output_type": "stream",
     "text": [
      "pcf version=2\n",
      "* control data keyword\n",
      "pestmode                                 estimation\n",
      "noptmax                                 3\n",
      "svdmode                                 1\n",
      "maxsing                          10000000\n",
      "eigthresh                           1e-06\n",
      "eigwrite                                1\n",
      "ies_localizer                  loc.mat\n",
      "ies_num_reals                  100\n",
      "* parameter groups external\n",
      "3_crane.pargp_data.csv\n",
      "* parameter data external\n",
      "3_crane.par_data.csv\n",
      "* observation data external\n",
      "3_crane.obs_data.csv\n",
      "* model command line\n",
      "python custom_forward_run.py\n",
      "* model input external\n",
      "3_crane.tplfile_data.csv\n",
      "* model output external\n",
      "3_crane.insfile_data.csv\n",
      "\n"
     ]
    }
   ],
   "source": [
    "with open(builder.pst_file, 'r') as f: \n",
    "    print(f.read())"
   ]
  },
  {
   "cell_type": "markdown",
   "id": "92bbaef6-a541-4779-b702-63f15cde4c88",
   "metadata": {},
   "source": [
    "Once we have to control file built, we will want to use the `build_localizer` method that writes a `.loc` file matching the 'obersvations' from SNODAS and SSEBop to the parameters we want to tune them with. We only tune the SWE parameters `swe_alpha` and `swe_beta` using the SNODAS data, while we tune the other parameters using the SSEBop ETf data. The localizer matrix specifies that for PEST++.\n",
    "\n",
    "Will will also run the `write_control_settings` that will change how many time the model runs."
   ]
  },
  {
   "cell_type": "code",
   "execution_count": 8,
   "id": "ab52d624-4545-4622-8d01-3f82d8b54e93",
   "metadata": {},
   "outputs": [
    {
     "name": "stdout",
     "output_type": "stream",
     "text": [
      "noptmax:0, npar_adj:8, nnz_obs:3465\n",
      "noptmax:3, npar_adj:8, nnz_obs:3465\n"
     ]
    }
   ],
   "source": [
    "builder.build_localizer()\n",
    "builder.write_control_settings(noptmax=3, reals=5)"
   ]
  },
  {
   "cell_type": "markdown",
   "id": "9bcf2585-4079-484c-b808-9a827bcd9f56",
   "metadata": {},
   "source": [
    "The control file settings have been changed. The `noptmax` (number of optimization iterations) was increased to 3, with 5 model 'realizations' (runs) per cycle. Once we get the calibration running smoothly, increase the `reals` parameter to a larger number, perhaps 100. We can also see the addition of the `loc.mat` localizer file."
   ]
  },
  {
   "cell_type": "code",
   "execution_count": 9,
   "id": "7930a513-e4e9-44b1-a134-f6e1e4c370d9",
   "metadata": {},
   "outputs": [
    {
     "name": "stdout",
     "output_type": "stream",
     "text": [
      "pcf version=2\n",
      "* control data keyword\n",
      "pestmode                                 estimation\n",
      "noptmax                                 3\n",
      "svdmode                                 1\n",
      "maxsing                          10000000\n",
      "eigthresh                           1e-06\n",
      "eigwrite                                1\n",
      "ies_localizer                  loc.mat\n",
      "ies_num_reals                  5\n",
      "* parameter groups external\n",
      "3_crane.pargp_data.csv\n",
      "* parameter data external\n",
      "3_crane.par_data.csv\n",
      "* observation data external\n",
      "3_crane.obs_data.csv\n",
      "* model command line\n",
      "python custom_forward_run.py\n",
      "* model input external\n",
      "3_crane.tplfile_data.csv\n",
      "* model output external\n",
      "3_crane.insfile_data.csv\n",
      "\n"
     ]
    }
   ],
   "source": [
    "with open(builder.pst_file, 'r') as f:\n",
    "    print(f.read())"
   ]
  },
  {
   "cell_type": "markdown",
   "id": "266fdec0-e0b7-47e0-9177-d7c3216a6c26",
   "metadata": {},
   "source": [
    "**Congratulations** if you've made it this far. There is a lot going on in this project, and staying organized while preparing up to harness a powerful tool like PEST++ is a significant achievement!\n",
    "\n",
    "Let's see if we can improve SWIM through calibration. We're using multiprocessing; feel free to change `workers` to suit your machine.\n",
    "\n",
    "Run the calibration launcher:"
   ]
  },
  {
   "metadata": {},
   "cell_type": "code",
   "outputs": [],
   "execution_count": null,
   "source": [
    "workers = 8\n",
    "\n",
    "run_pst(builder.pest_dir,\n",
    "        'pestpp-ies',\n",
    "        builder.pst_file,\n",
    "        num_workers=workers,\n",
    "        worker_root=builder.workers_dir,\n",
    "        master_dir=builder.master_dir,\n",
    "        verbose=True)"
   ],
   "id": "eaa6a01937865cc6"
  },
  {
   "cell_type": "markdown",
   "id": "34a4847e-6f76-4adc-bc55-c48c2dcb0a63",
   "metadata": {},
   "source": [
    "If it runs, you see a progress updater that will have something like `01/05 11:35:11 mn:0.16  runs(C5   |F0    |T0    ) agents(R1   |W0   |U0   ) 0`. The `C` stands for 'complete', and if it increases, PEST++ is running. Go get a coffee. \n",
    "\n",
    "Let's assume it didn't run.\n",
    "\n",
    "### Debugging Tips\n",
    "\n",
    " - If you never saw the panther, then `pestpp-ies` was probably not executed. Make sure you can run `pestpp-ies` from the command line in any directory on your machine. You may need to point to the executable with a full path, like `/home/skywalker/software/pestpp-ies`, or a path that ends with the '.exe' extension, if on a Windows machine. In this case, you will need to update the `PATHS` dict above to ensure we are providing `run_pest.py`'s `run_pst` with the correct executable.\n",
    " - If you never saw the panther and got a Python error traceback, read it carefully. It's tricky to get the interface to work, as we need to launch `run_pest.py`, it needs to launch `pestpp-ies`, that launches `custom_forward_run.py`, which finally actually runs the model with `run/run_mp.py`.\n",
    "\n",
    "   A good debugging approach is to start from the bottom up by getting `run_mp.optimize_fields` to run from arguments provided under `if __name__ == '__main__':` in `run_mp.py`. Then get `run_mp.py` to run by launching the `custom_forward_run.py` located in your 'pest' directory. Then try running `run/run_pest.py` with arguments provided under `if __name__ == '__main__':`. Trust a simpler way code flow that doesn't decrease flexibility is sought.\n",
    "\n",
    " - Try running the `pestpp-ies` commmand from the 'pest' folder. This runs the program in a single thread, and can rule out problems with the 'pest' folder's files and structure. If you can run this, the problem is likely with the `run/run_pest.py` function `run_pst`. Double check the paths and arguments. Try launching it from `run/run_pest.py` instead of from this notebook.\n",
    "   \n",
    " - If you saw the panther, then `pestpp-ies` ran. Great. You are close. The traceback (message in the ouput) that traces your error is very informative, but the last error is likely not what you need to track down. It's common to see something like\n",
    "    ```\n",
    "    thread processing instruction file raised an exception: InstructionFile error in file 'swe_US-FPe.ins' : output file'pred/pred_swe_US-FPe.np' not found\n",
    "    ```\n",
    "\n",
    "This interrupted the PEST++ execution of the realization, but likely wasn't the true cause. The error of not finding SWIM's prediction in `pred_swe_US-FPe.np` is actually because SWIM never completed it's run, because SWIM itself has an error. If you look higher up the traceback, you might find a Python error, like \n",
    "    \n",
    "    ```\n",
    "    File \"/home/yoda/PycharmProjects/swim-rs/swim/config.py\", line 124, in read_config\n",
    "    cal_files, mult_files = set(os.listdir(self.calibration_dir)), set(_files)\n",
    "    FileNotFoundError: [Errno 2] No such file or directory: ''\n",
    "    ```\n",
    " We see that we forgot to set the `calibration_dir` in the config file and Python raises an error when it sees only `''`, but expects a path to a directory.\n",
    "\n",
    "These are just a few ideas. As always, the key to debugging is reading the hints in the traceback and moving up the code operation chain until the problem is found. Science says 9/10 errors are due to paths not being set correctly.\n",
    " \n"
   ]
  },
  {
   "cell_type": "markdown",
   "id": "b2e1b24b-a32f-4a51-bc3f-06b682b34a16",
   "metadata": {},
   "source": [
    "Once we get a successful run, we see we have many more files in the 'pest' directory, but what we want are the calibrated parameters we'll need to use to run SWIM in forecast mode (i.e., a calibrated run of the model). The should be in the 'pest' directory, though in cases theu may end up in 'master', the location where multiprocessing by pyemu of PEST++ was coordinated:"
   ]
  },
  {
   "cell_type": "code",
   "execution_count": 12,
   "id": "c2856d2d-1b57-44b0-9d9c-ed75e4d30abf",
   "metadata": {},
   "outputs": [
    {
     "data": {
      "text/plain": [
       "['3_Crane.0.par.csv',\n",
       " '3_Crane.1.par.csv',\n",
       " '3_Crane.2.par.csv',\n",
       " '3_Crane.3.par.csv']"
      ]
     },
     "execution_count": 12,
     "metadata": {},
     "output_type": "execute_result"
    }
   ],
   "source": "[f for f in sorted(os.listdir(builder.pest_dir)) if '.par.csv' in f]"
  },
  {
   "cell_type": "markdown",
   "id": "f2d4dccc-1a00-4720-b9e8-ed77eb390a33",
   "metadata": {},
   "source": [
    "Make sure these exist. There is a parameter file for each optimization run, the intial '0' run, and the three optimization runs we specified with `noptmax`. Each file has a row for each realization, with columns having a parameter value for each tunable parameter. This is the valuable data we will examine in the next step."
   ]
  },
  {
   "cell_type": "markdown",
   "id": "832dee5a-ac2b-4f9c-941e-0977e7ea2106",
   "metadata": {},
   "source": [
    "This workflow benefits from a powerful machine; the higher number of workers you can employ, the faster the otpimization will run."
   ]
  },
  {
   "cell_type": "code",
   "execution_count": null,
   "id": "4d30a3c7-5614-4148-ac0b-7e7e231af597",
   "metadata": {},
   "outputs": [],
   "source": []
  }
 ],
 "metadata": {
  "kernelspec": {
   "display_name": "Python 3 (ipykernel)",
   "language": "python",
   "name": "python3"
  },
  "language_info": {
   "codemirror_mode": {
    "name": "ipython",
    "version": 3
   },
   "file_extension": ".py",
   "mimetype": "text/x-python",
   "name": "python",
   "nbconvert_exporter": "python",
   "pygments_lexer": "ipython3",
   "version": "3.9.18"
  }
 },
 "nbformat": 4,
 "nbformat_minor": 5
}
