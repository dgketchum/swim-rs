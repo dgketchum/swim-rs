{
 "cells": [
  {
   "cell_type": "markdown",
   "id": "889b1bdb-e307-47ff-8a2a-b8d4738b3c58",
   "metadata": {},
   "source": [
    "# Calibration Tutorial - Crane, OR - Irrigated Flux Plot\n",
    "\n",
    "## Step 1: Getting the Data\n",
    "\n",
    "Note: Step 1 can be bypassed if necessary. Just unzip `tutorials/3_Crane/data/prepped_input.zip` and proceed to Step 2.\n",
    "\n",
    "This tutorial is going to focus on calibrating the SWIM for a single unirrigated plot, which is a 150 meter buffer around FluxNet's US-Fpe eddy covariance station. This will be interesting because the flux station has independent observations of both meteorology and the ET flux itself. Let's see if we can improve upon our *a priori* estimates of soil hydraulic parameters and our default parameterization of the snow and Kcb model (function of NDVI).\n",
    "\n",
    "This notebook bases all it's work on the polygons in `tutorials/3_Crane/data/gis/flux_fields.shp`.\n",
    "\n",
    "This notebook is easily modified to get all the flux station's input data; just remove the `select` or like arguments (`field_select`/`target_fields`, etc.) so it doesn't run on only our focus, the station at Crane. This would additionally require downloading the entire bias correction GeoTIFF data set, from the Earth Engine asset folder `projects/ee-dgketchum/assets/swim/gridmet_bias_correction`.\n",
    "\n",
    "We won't cover the details of compiling data for the modeling run unless it is a different approach than what we did in the first tutorial, `1_Boulder`. Revisit that tutorial's steps 2-4 for further explanation of what we speed through below. Let's get started:"
   ]
  },
  {
   "cell_type": "code",
   "execution_count": 42,
   "id": "351cebdc5c7481a4",
   "metadata": {},
   "outputs": [],
   "source": [
    "import os\n",
    "import sys\n",
    "import json\n",
    "\n",
    "import pandas as pd\n",
    "import geopandas as gpd\n",
    "import matplotlib.pyplot as plt\n",
    "import ee\n",
    "\n",
    "root = os.path.abspath('../../..')\n",
    "sys.path.append(root)\n",
    "\n",
    "from data_extraction.ee.ee_utils import is_authorized\n",
    "from data_extraction.ee.etf_export import sparse_sample_etf\n",
    "from data_extraction.ee.ndvi_export import sparse_sample_ndvi\n",
    "from data_extraction.ee.snodas_export import sample_snodas_swe\n",
    "from data_extraction.snodas.snodas import create_timeseries_json\n",
    "from data_extraction.ee.ee_props import get_irrigation, get_ssurgo\n",
    "\n",
    "from utils.google_bucket import list_and_copy_gcs_bucket\n",
    "\n",
    "from data_extraction.gridmet.gridmet import get_gridmet_corrections\n",
    "from data_extraction.gridmet.gridmet import download_gridmet\n",
    "\n",
    "from prep.field_properties import write_field_properties\n",
    "from prep.field_timeseries import join_daily_timeseries\n",
    "from prep.landsat_sensing import sparse_landsat_time_series, join_remote_sensing, detect_cuttings\n",
    "\n",
    "from prep.field_timeseries import join_daily_timeseries\n",
    "from prep.prep_plots import prep_fields_json\n",
    "\n",
    "# Set matplotlib to display inline\n",
    "%matplotlib inline\n",
    "\n",
    "command = '/home/dgketchum/google-cloud-sdk/bin/gsutil'\n",
    "bucket = 'wudr'\n",
    "\n",
    "data = os.path.join(root, 'tutorials', '4_Flux_Network', 'data')\n",
    "shapefile_path = os.path.join(data, 'gis', 'flux_fields.shp')\n",
    "gdf = gpd.read_file(shapefile_path)\n",
    "gdf.shape\n",
    "\n",
    "FEATURE_ID = 'field_1'\n"
   ]
  },
  {
   "cell_type": "code",
   "execution_count": 43,
   "id": "7cc5fdee9099e83d",
   "metadata": {},
   "outputs": [
    {
     "data": {
      "text/plain": [
       "Index(['field_1', 'field_2', 'field_3', 'field_4', 'field_5', 'field_6',\n",
       "       'field_7', 'field_8', 'field_9', 'field_10', 'field_11', 'field_12',\n",
       "       'field_13', 'field_14', 'AmeriFlux', 'field_16', 'field_17', 'field_18',\n",
       "       'field_19', 'field_20', 'LAT', 'LON', 'FID', 'geometry'],\n",
       "      dtype='object')"
      ]
     },
     "execution_count": 43,
     "metadata": {},
     "output_type": "execute_result"
    }
   ],
   "source": [
    "gdf.columns"
   ]
  },
  {
   "cell_type": "markdown",
   "id": "5a53c4e9-7df5-4239-9d48-854a218e8afe",
   "metadata": {},
   "source": [
    "The shapefile is derived from John Volk's work, which is documented here: https://www.sciencedirect.com/science/article/pii/S0168192323000011\n",
    "\n",
    "Their paper used a sophisticated method for determining the area on the ground that contibutes to the flux observation. Instead of using their footprints, we're going to use a 150-m buffer around the station for simplicity. We're just going to use one station from the dataset, US-FPe."
   ]
  },
  {
   "cell_type": "code",
   "execution_count": 44,
   "id": "9a00b877-1126-4ed2-9aca-34ecd853bac4",
   "metadata": {},
   "outputs": [
    {
     "data": {
      "text/html": [
       "<div>\n",
       "<style scoped>\n",
       "    .dataframe tbody tr th:only-of-type {\n",
       "        vertical-align: middle;\n",
       "    }\n",
       "\n",
       "    .dataframe tbody tr th {\n",
       "        vertical-align: top;\n",
       "    }\n",
       "\n",
       "    .dataframe thead th {\n",
       "        text-align: right;\n",
       "    }\n",
       "</style>\n",
       "<table border=\"1\" class=\"dataframe\">\n",
       "  <thead>\n",
       "    <tr style=\"text-align: right;\">\n",
       "      <th></th>\n",
       "      <th>field_1</th>\n",
       "      <th>field_2</th>\n",
       "      <th>field_3</th>\n",
       "      <th>field_4</th>\n",
       "      <th>field_5</th>\n",
       "      <th>field_6</th>\n",
       "      <th>field_7</th>\n",
       "      <th>field_8</th>\n",
       "      <th>field_9</th>\n",
       "      <th>field_10</th>\n",
       "      <th>...</th>\n",
       "      <th>field_16</th>\n",
       "      <th>field_17</th>\n",
       "      <th>field_18</th>\n",
       "      <th>field_19</th>\n",
       "      <th>field_20</th>\n",
       "      <th>LAT</th>\n",
       "      <th>LON</th>\n",
       "      <th>FID</th>\n",
       "      <th>geometry</th>\n",
       "      <th>por_days</th>\n",
       "    </tr>\n",
       "    <tr>\n",
       "      <th>field_1</th>\n",
       "      <th></th>\n",
       "      <th></th>\n",
       "      <th></th>\n",
       "      <th></th>\n",
       "      <th></th>\n",
       "      <th></th>\n",
       "      <th></th>\n",
       "      <th></th>\n",
       "      <th></th>\n",
       "      <th></th>\n",
       "      <th></th>\n",
       "      <th></th>\n",
       "      <th></th>\n",
       "      <th></th>\n",
       "      <th></th>\n",
       "      <th></th>\n",
       "      <th></th>\n",
       "      <th></th>\n",
       "      <th></th>\n",
       "      <th></th>\n",
       "      <th></th>\n",
       "    </tr>\n",
       "  </thead>\n",
       "  <tbody>\n",
       "    <tr>\n",
       "      <th>US-A32</th>\n",
       "      <td>US-A32</td>\n",
       "      <td>Grasslands</td>\n",
       "      <td>OK</td>\n",
       "      <td>AmeriFlux</td>\n",
       "      <td>06/2015-06/2017</td>\n",
       "      <td>0.90</td>\n",
       "      <td>36.819268</td>\n",
       "      <td>-97.819772</td>\n",
       "      <td>335.0</td>\n",
       "      <td>Hay pasture</td>\n",
       "      <td>...</td>\n",
       "      <td>Lara Kueppers</td>\n",
       "      <td>PI</td>\n",
       "      <td>Lawrence Berkeley National Laboratory</td>\n",
       "      <td>lmkueppers@lbl.gov</td>\n",
       "      <td>ARM-SGP Medford hay pasture</td>\n",
       "      <td>36.819</td>\n",
       "      <td>-97.820</td>\n",
       "      <td>US-A32</td>\n",
       "      <td>POLYGON ((-160660.067 1532045.881, -160667.409...</td>\n",
       "      <td>731</td>\n",
       "    </tr>\n",
       "    <tr>\n",
       "      <th>US-A74</th>\n",
       "      <td>US-A74</td>\n",
       "      <td>Croplands</td>\n",
       "      <td>OK</td>\n",
       "      <td>AmeriFlux</td>\n",
       "      <td>01/2016-10/2017</td>\n",
       "      <td>0.92</td>\n",
       "      <td>36.808464</td>\n",
       "      <td>-97.548854</td>\n",
       "      <td>337.0</td>\n",
       "      <td>Sorghum</td>\n",
       "      <td>...</td>\n",
       "      <td>Lara Kueppers</td>\n",
       "      <td>PI</td>\n",
       "      <td>Lawrence Berkeley National Laboratory</td>\n",
       "      <td>lmkueppers@lbl.gov</td>\n",
       "      <td>ARM SGP milo field</td>\n",
       "      <td>36.808</td>\n",
       "      <td>-97.549</td>\n",
       "      <td>US-A74</td>\n",
       "      <td>POLYGON ((-136741.55 1530411.259, -136748.892 ...</td>\n",
       "      <td>639</td>\n",
       "    </tr>\n",
       "    <tr>\n",
       "      <th>US-ADR</th>\n",
       "      <td>US-ADR</td>\n",
       "      <td>Shrublands</td>\n",
       "      <td>NV</td>\n",
       "      <td>AmeriFlux</td>\n",
       "      <td>05/2011-05/2017</td>\n",
       "      <td>0.92</td>\n",
       "      <td>36.765278</td>\n",
       "      <td>-116.693333</td>\n",
       "      <td>842.0</td>\n",
       "      <td>Greasewood</td>\n",
       "      <td>...</td>\n",
       "      <td>Michael Moreo</td>\n",
       "      <td>PI</td>\n",
       "      <td>U.S. Geological Survey</td>\n",
       "      <td>mtmoreo@usgs.gov</td>\n",
       "      <td>Amargosa Desert Research Site (ADRS)</td>\n",
       "      <td>36.765</td>\n",
       "      <td>-116.693</td>\n",
       "      <td>US-ADR</td>\n",
       "      <td>POLYGON ((-1815484.923 1722917.858, -1815492.2...</td>\n",
       "      <td>2192</td>\n",
       "    </tr>\n",
       "    <tr>\n",
       "      <th>US-AR1</th>\n",
       "      <td>US-AR1</td>\n",
       "      <td>Croplands</td>\n",
       "      <td>OK</td>\n",
       "      <td>AmeriFlux</td>\n",
       "      <td>06/2009-12/2012</td>\n",
       "      <td>1.09</td>\n",
       "      <td>36.426700</td>\n",
       "      <td>-99.420000</td>\n",
       "      <td>611.0</td>\n",
       "      <td>Planted Switchgrass</td>\n",
       "      <td>...</td>\n",
       "      <td>Dave Billesbach</td>\n",
       "      <td>PI</td>\n",
       "      <td>University of Nebraska</td>\n",
       "      <td>dbillesbach1@unl.edu</td>\n",
       "      <td>ARM USDA UNL OSU Woodward Switchgrass 1</td>\n",
       "      <td>36.427</td>\n",
       "      <td>-99.420</td>\n",
       "      <td>US-AR1</td>\n",
       "      <td>POLYGON ((-303604.982 1491993.98, -303612.323 ...</td>\n",
       "      <td>1279</td>\n",
       "    </tr>\n",
       "    <tr>\n",
       "      <th>US-ARb</th>\n",
       "      <td>US-ARb</td>\n",
       "      <td>Grasslands</td>\n",
       "      <td>OK</td>\n",
       "      <td>AmeriFlux</td>\n",
       "      <td>03/2005-10/2006</td>\n",
       "      <td>1.01</td>\n",
       "      <td>35.549700</td>\n",
       "      <td>-98.040200</td>\n",
       "      <td>424.0</td>\n",
       "      <td>Native tallgrass prairie</td>\n",
       "      <td>...</td>\n",
       "      <td>Margaret Torn</td>\n",
       "      <td>PI</td>\n",
       "      <td>Lawrence Berkeley National Laboratory</td>\n",
       "      <td>mstorn@lbl.gov</td>\n",
       "      <td>ARM Southern Great Plains burn site- Lamont</td>\n",
       "      <td>35.550</td>\n",
       "      <td>-98.040</td>\n",
       "      <td>US-ARb</td>\n",
       "      <td>POLYGON ((-183188.322 1390288.5, -183195.664 1...</td>\n",
       "      <td>579</td>\n",
       "    </tr>\n",
       "    <tr>\n",
       "      <th>...</th>\n",
       "      <td>...</td>\n",
       "      <td>...</td>\n",
       "      <td>...</td>\n",
       "      <td>...</td>\n",
       "      <td>...</td>\n",
       "      <td>...</td>\n",
       "      <td>...</td>\n",
       "      <td>...</td>\n",
       "      <td>...</td>\n",
       "      <td>...</td>\n",
       "      <td>...</td>\n",
       "      <td>...</td>\n",
       "      <td>...</td>\n",
       "      <td>...</td>\n",
       "      <td>...</td>\n",
       "      <td>...</td>\n",
       "      <td>...</td>\n",
       "      <td>...</td>\n",
       "      <td>...</td>\n",
       "      <td>...</td>\n",
       "      <td>...</td>\n",
       "    </tr>\n",
       "    <tr>\n",
       "      <th>UOVLO</th>\n",
       "      <td>UOVLO</td>\n",
       "      <td>Shrublands</td>\n",
       "      <td>NV</td>\n",
       "      <td>USGS NWSC</td>\n",
       "      <td>07/1998-09/2000</td>\n",
       "      <td>NA</td>\n",
       "      <td>37.045000</td>\n",
       "      <td>-116.709000</td>\n",
       "      <td>1177.0</td>\n",
       "      <td>Greasewood</td>\n",
       "      <td>...</td>\n",
       "      <td>None</td>\n",
       "      <td>None</td>\n",
       "      <td>None</td>\n",
       "      <td>None</td>\n",
       "      <td>None</td>\n",
       "      <td>37.045</td>\n",
       "      <td>-116.709</td>\n",
       "      <td>UOVLO</td>\n",
       "      <td>POLYGON ((-1810061.958 1753817.29, -1810069.29...</td>\n",
       "      <td>793</td>\n",
       "    </tr>\n",
       "    <tr>\n",
       "      <th>UOVMD</th>\n",
       "      <td>UOVMD</td>\n",
       "      <td>Grasslands</td>\n",
       "      <td>NV</td>\n",
       "      <td>USGS NWSC</td>\n",
       "      <td>12/1998-09/2000</td>\n",
       "      <td>NA</td>\n",
       "      <td>37.047000</td>\n",
       "      <td>-116.712000</td>\n",
       "      <td>1175.0</td>\n",
       "      <td>Salt Grass</td>\n",
       "      <td>...</td>\n",
       "      <td>None</td>\n",
       "      <td>None</td>\n",
       "      <td>None</td>\n",
       "      <td>None</td>\n",
       "      <td>None</td>\n",
       "      <td>37.047</td>\n",
       "      <td>-116.712</td>\n",
       "      <td>UOVMD</td>\n",
       "      <td>POLYGON ((-1810271.572 1754093.24, -1810278.91...</td>\n",
       "      <td>640</td>\n",
       "    </tr>\n",
       "    <tr>\n",
       "      <th>UOVUP</th>\n",
       "      <td>UOVUP</td>\n",
       "      <td>Shrublands</td>\n",
       "      <td>NV</td>\n",
       "      <td>USGS NWSC</td>\n",
       "      <td>01/1998-09/2000</td>\n",
       "      <td>NA</td>\n",
       "      <td>37.064000</td>\n",
       "      <td>-116.695000</td>\n",
       "      <td>1198.0</td>\n",
       "      <td>Wolfberry/Rabbitbrush</td>\n",
       "      <td>...</td>\n",
       "      <td>None</td>\n",
       "      <td>None</td>\n",
       "      <td>None</td>\n",
       "      <td>None</td>\n",
       "      <td>None</td>\n",
       "      <td>37.064</td>\n",
       "      <td>-116.695</td>\n",
       "      <td>UOVUP</td>\n",
       "      <td>POLYGON ((-1808397.64 1755629.405, -1808404.98...</td>\n",
       "      <td>974</td>\n",
       "    </tr>\n",
       "    <tr>\n",
       "      <th>WRV_1</th>\n",
       "      <td>WRV_1</td>\n",
       "      <td>Shrublands</td>\n",
       "      <td>NV</td>\n",
       "      <td>USGS NWSC</td>\n",
       "      <td>09/2005-08/2007</td>\n",
       "      <td>0.99</td>\n",
       "      <td>38.413600</td>\n",
       "      <td>-115.050900</td>\n",
       "      <td>1600.0</td>\n",
       "      <td>Greasewood</td>\n",
       "      <td>...</td>\n",
       "      <td>None</td>\n",
       "      <td>None</td>\n",
       "      <td>None</td>\n",
       "      <td>None</td>\n",
       "      <td>None</td>\n",
       "      <td>38.414</td>\n",
       "      <td>-115.051</td>\n",
       "      <td>WRV_1</td>\n",
       "      <td>POLYGON ((-1636614.706 1873792.42, -1636622.04...</td>\n",
       "      <td>699</td>\n",
       "    </tr>\n",
       "    <tr>\n",
       "      <th>WRV_2</th>\n",
       "      <td>WRV_2</td>\n",
       "      <td>Shrublands</td>\n",
       "      <td>NV</td>\n",
       "      <td>USGS NWSC</td>\n",
       "      <td>09/2006-08/2007</td>\n",
       "      <td>0.82</td>\n",
       "      <td>38.640500</td>\n",
       "      <td>-115.102600</td>\n",
       "      <td>1622.0</td>\n",
       "      <td>Greasewood</td>\n",
       "      <td>...</td>\n",
       "      <td>None</td>\n",
       "      <td>None</td>\n",
       "      <td>None</td>\n",
       "      <td>None</td>\n",
       "      <td>None</td>\n",
       "      <td>38.641</td>\n",
       "      <td>-115.103</td>\n",
       "      <td>WRV_2</td>\n",
       "      <td>POLYGON ((-1635918.808 1899604.447, -1635926.1...</td>\n",
       "      <td>334</td>\n",
       "    </tr>\n",
       "  </tbody>\n",
       "</table>\n",
       "<p>161 rows × 25 columns</p>\n",
       "</div>"
      ],
      "text/plain": [
       "        field_1     field_2 field_3    field_4          field_5 field_6  \\\n",
       "field_1                                                                   \n",
       "US-A32   US-A32  Grasslands      OK  AmeriFlux  06/2015-06/2017    0.90   \n",
       "US-A74   US-A74   Croplands      OK  AmeriFlux  01/2016-10/2017    0.92   \n",
       "US-ADR   US-ADR  Shrublands      NV  AmeriFlux  05/2011-05/2017    0.92   \n",
       "US-AR1   US-AR1   Croplands      OK  AmeriFlux  06/2009-12/2012    1.09   \n",
       "US-ARb   US-ARb  Grasslands      OK  AmeriFlux  03/2005-10/2006    1.01   \n",
       "...         ...         ...     ...        ...              ...     ...   \n",
       "UOVLO     UOVLO  Shrublands      NV  USGS NWSC  07/1998-09/2000      NA   \n",
       "UOVMD     UOVMD  Grasslands      NV  USGS NWSC  12/1998-09/2000      NA   \n",
       "UOVUP     UOVUP  Shrublands      NV  USGS NWSC  01/1998-09/2000      NA   \n",
       "WRV_1     WRV_1  Shrublands      NV  USGS NWSC  09/2005-08/2007    0.99   \n",
       "WRV_2     WRV_2  Shrublands      NV  USGS NWSC  09/2006-08/2007    0.82   \n",
       "\n",
       "           field_7     field_8  field_9                  field_10  ...  \\\n",
       "field_1                                                            ...   \n",
       "US-A32   36.819268  -97.819772    335.0               Hay pasture  ...   \n",
       "US-A74   36.808464  -97.548854    337.0                   Sorghum  ...   \n",
       "US-ADR   36.765278 -116.693333    842.0                Greasewood  ...   \n",
       "US-AR1   36.426700  -99.420000    611.0       Planted Switchgrass  ...   \n",
       "US-ARb   35.549700  -98.040200    424.0  Native tallgrass prairie  ...   \n",
       "...            ...         ...      ...                       ...  ...   \n",
       "UOVLO    37.045000 -116.709000   1177.0                Greasewood  ...   \n",
       "UOVMD    37.047000 -116.712000   1175.0                Salt Grass  ...   \n",
       "UOVUP    37.064000 -116.695000   1198.0     Wolfberry/Rabbitbrush  ...   \n",
       "WRV_1    38.413600 -115.050900   1600.0                Greasewood  ...   \n",
       "WRV_2    38.640500 -115.102600   1622.0                Greasewood  ...   \n",
       "\n",
       "                field_16 field_17                               field_18  \\\n",
       "field_1                                                                    \n",
       "US-A32     Lara Kueppers       PI  Lawrence Berkeley National Laboratory   \n",
       "US-A74     Lara Kueppers       PI  Lawrence Berkeley National Laboratory   \n",
       "US-ADR     Michael Moreo       PI                 U.S. Geological Survey   \n",
       "US-AR1   Dave Billesbach       PI                 University of Nebraska   \n",
       "US-ARb     Margaret Torn       PI  Lawrence Berkeley National Laboratory   \n",
       "...                  ...      ...                                    ...   \n",
       "UOVLO               None     None                                   None   \n",
       "UOVMD               None     None                                   None   \n",
       "UOVUP               None     None                                   None   \n",
       "WRV_1               None     None                                   None   \n",
       "WRV_2               None     None                                   None   \n",
       "\n",
       "                     field_19                                     field_20  \\\n",
       "field_1                                                                      \n",
       "US-A32     lmkueppers@lbl.gov                  ARM-SGP Medford hay pasture   \n",
       "US-A74     lmkueppers@lbl.gov                           ARM SGP milo field   \n",
       "US-ADR       mtmoreo@usgs.gov         Amargosa Desert Research Site (ADRS)   \n",
       "US-AR1   dbillesbach1@unl.edu      ARM USDA UNL OSU Woodward Switchgrass 1   \n",
       "US-ARb         mstorn@lbl.gov  ARM Southern Great Plains burn site- Lamont   \n",
       "...                       ...                                          ...   \n",
       "UOVLO                    None                                         None   \n",
       "UOVMD                    None                                         None   \n",
       "UOVUP                    None                                         None   \n",
       "WRV_1                    None                                         None   \n",
       "WRV_2                    None                                         None   \n",
       "\n",
       "            LAT      LON     FID  \\\n",
       "field_1                            \n",
       "US-A32   36.819  -97.820  US-A32   \n",
       "US-A74   36.808  -97.549  US-A74   \n",
       "US-ADR   36.765 -116.693  US-ADR   \n",
       "US-AR1   36.427  -99.420  US-AR1   \n",
       "US-ARb   35.550  -98.040  US-ARb   \n",
       "...         ...      ...     ...   \n",
       "UOVLO    37.045 -116.709   UOVLO   \n",
       "UOVMD    37.047 -116.712   UOVMD   \n",
       "UOVUP    37.064 -116.695   UOVUP   \n",
       "WRV_1    38.414 -115.051   WRV_1   \n",
       "WRV_2    38.641 -115.103   WRV_2   \n",
       "\n",
       "                                                  geometry por_days  \n",
       "field_1                                                              \n",
       "US-A32   POLYGON ((-160660.067 1532045.881, -160667.409...      731  \n",
       "US-A74   POLYGON ((-136741.55 1530411.259, -136748.892 ...      639  \n",
       "US-ADR   POLYGON ((-1815484.923 1722917.858, -1815492.2...     2192  \n",
       "US-AR1   POLYGON ((-303604.982 1491993.98, -303612.323 ...     1279  \n",
       "US-ARb   POLYGON ((-183188.322 1390288.5, -183195.664 1...      579  \n",
       "...                                                    ...      ...  \n",
       "UOVLO    POLYGON ((-1810061.958 1753817.29, -1810069.29...      793  \n",
       "UOVMD    POLYGON ((-1810271.572 1754093.24, -1810278.91...      640  \n",
       "UOVUP    POLYGON ((-1808397.64 1755629.405, -1808404.98...      974  \n",
       "WRV_1    POLYGON ((-1636614.706 1873792.42, -1636622.04...      699  \n",
       "WRV_2    POLYGON ((-1635918.808 1899604.447, -1635926.1...      334  \n",
       "\n",
       "[161 rows x 25 columns]"
      ]
     },
     "execution_count": 44,
     "metadata": {},
     "output_type": "execute_result"
    }
   ],
   "source": [
    "gdf.index = gdf[FEATURE_ID]\n",
    "gdf['por_days'] = gdf['field_5'].apply(lambda x: (pd.to_datetime(x.split('-')[1], format='%m/%Y') - pd.to_datetime(x.split('-')[0], format='%m/%Y')).days if '-' in x else None)\n",
    "gdf"
   ]
  },
  {
   "cell_type": "code",
   "execution_count": 45,
   "id": "8bc70156-063f-442a-9ed0-cfe634b3628c",
   "metadata": {},
   "outputs": [
    {
     "name": "stderr",
     "output_type": "stream",
     "text": [
      "/tmp/ipykernel_12307/2957876030.py:9: UserWarning:\n",
      "\n",
      "Geometry is in a geographic CRS. Results from 'centroid' are likely incorrect. Use 'GeoSeries.to_crs()' to re-project geometries to a projected CRS before this operation.\n",
      "\n",
      "\n"
     ]
    },
    {
     "data": {
      "application/vnd.plotly.v1+json": {
       "config": {
        "plotlyServerURL": "https://plot.ly"
       },
       "data": [
        {
         "lat": [
          36.8192744315051,
          36.808470444104294,
          36.7652830650045,
          36.42670627870253,
          35.549706198727904,
          35.54649619817103,
          36.60580641215172,
          31.590734951482546,
          38.099158884114416,
          38.10900508235596,
          44.34529767912532,
          44.15800713798243,
          38.89530521847372,
          40.00620749988654,
          41.974907530179756,
          41.97472752996654,
          39.83790805604783,
          31.66365897706464,
          41.62850303935948,
          43.9500072524073,
          37.067405150962436,
          39.97123808104045,
          35.97120709117278,
          35.973587091441466,
          25.437904566370985,
          35.142605394871424,
          48.30770749103052,
          29.949495150138443,
          35.08900538570607,
          35.44540543265825,
          41.36653658175724,
          41.9666785130686,
          34.25470632388707,
          46.68886693082669,
          46.68784593103351,
          41.85930783046734,
          41.84062782624748,
          32.58494528172275,
          38.774506774867646,
          42.44225808580516,
          28.608605356571676,
          31.561534963215855,
          48.187286590823916,
          44.57940558381113,
          44.45230556967246,
          44.4371955677448,
          44.32328975608271,
          46.99475693505029,
          46.995706933651526,
          39.32320746711539,
          38.7441070692514,
          35.80300713454121,
          35.799007134062684,
          35.78790715504846,
          41.16506722652855,
          41.16487722691373,
          41.17967723117488,
          40.0329064540406,
          41.55450800210041,
          44.714307993233696,
          44.72880799546472,
          44.72170799437167,
          44.67810798900274,
          44.6910079919177,
          44.69460799244489,
          43.06535280843934,
          43.12071691655964,
          43.16755092159358,
          33.736552885128475,
          33.734333884798566,
          33.604704936460124,
          42.069307028981555,
          25.362937537931263,
          39.91380806412912,
          38.03690506002932,
          33.373804899517125,
          33.377104899926834,
          33.38450489987509,
          29.76480559341121,
          29.75477559324487,
          29.802825603517213,
          31.90830498426282,
          31.789383967156592,
          31.82140497019276,
          38.200561054034345,
          31.81729897026777,
          38.10470507404064,
          38.115905074758935,
          38.108725473668954,
          38.41330515211499,
          35.95877689727283,
          45.80590835581668,
          31.736504998490275,
          35.41059612301722,
          47.16165788165803,
          32.5417260460197,
          28.125045220185733,
          32.59068527164666,
          46.76972768454818,
          40.054256454456514,
          40.27591648720607,
          29.689275582313776,
          40.46190668776486,
          45.50894834258231,
          46.23388845508988,
          44.95348664575069,
          36.458725064604344,
          29.633326315708388,
          35.88720663702783,
          33.44332311844799,
          35.737073611599435,
          35.74060661230447,
          35.73435261156253,
          35.72997861060209,
          43.41712577090255,
          32.697274532470175,
          36.16967399538058,
          36.946613077348374,
          36.177673996058004,
          32.65630202015957,
          32.69747186562894,
          33.07743014751736,
          32.70653985750552,
          32.77623867809399,
          32.71223758709638,
          32.77948034556707,
          32.72073483170649,
          32.7801880397485,
          35.18813292943654,
          35.188140929313775,
          35.18610092909802,
          35.186105928975266,
          38.75100502777666,
          36.83900505970863,
          38.28900512877497,
          39.05500534674368,
          39.10800535077053,
          39.02900529314891,
          38.85900528099015,
          37.01100531187135,
          36.69100540930556,
          38.85100535471074,
          36.588005420228534,
          36.49090528518454,
          36.492605284981735,
          38.20970525533396,
          38.226695257342385,
          39.762516503729735,
          39.53710560476479,
          39.61970562418831,
          39.598705625785094,
          38.777605663599054,
          38.936705684686224,
          39.03250569062535,
          39.04290569195077,
          37.52040551290509,
          37.04500531657997,
          37.04700531659707,
          37.06400531958755,
          38.41360558140487,
          38.64050560270243
         ],
         "lon": [
          -97.81977997377237,
          -97.54886190344055,
          -116.69334543750499,
          -99.42000834598937,
          -98.04020792970421,
          -98.04000792941233,
          -97.4888078714676,
          -110.51039051441381,
          -121.49934305979606,
          -121.53501306653321,
          -96.83617853584916,
          -103.65001028317349,
          -120.63281301825356,
          -88.2904056401509,
          -93.6906073716356,
          -93.69357737244277,
          -74.37910137066245,
          -110.17770245096969,
          -83.34709030406674,
          -101.84660980058655,
          -119.19511257161128,
          -74.43455139577931,
          -79.09338262858834,
          -79.10043263085326,
          -80.59460268582653,
          -111.72731101524715,
          -105.10191139007209,
          -97.99623758573088,
          -111.7620110176368,
          -111.77181105023261,
          -106.23991050439723,
          -73.23333112408237,
          -89.87350567193683,
          -119.46412513196266,
          -119.46146413126789,
          -88.22273579127209,
          -88.24103579483405,
          -106.6032297500741,
          -97.56840808312064,
          -85.33006098183792,
          -80.67150279485104,
          -110.14034043722997,
          -114.15481344689101,
          -121.50001404618172,
          -121.55741403130938,
          -121.56677402996583,
          -121.60781401512308,
          -109.61376220027839,
          -109.62951220404821,
          -86.4131050351095,
          -92.20000663968808,
          -76.66850187890276,
          -76.65600187486801,
          -75.90380164255485,
          -96.4766480422323,
          -96.4701080404614,
          -96.43965803395737,
          -105.54641017862843,
          -83.84380444962807,
          -93.08980753485403,
          -93.08880753648536,
          -93.08930753568927,
          -93.07230752504343,
          -93.05760752252051,
          -93.05776752304163,
          -116.75911524995696,
          -116.72309895245745,
          -116.71321795841294,
          -117.69461201190505,
          -117.69596201196488,
          -116.4527117842484,
          -101.40720943054092,
          -81.07758482522536,
          -74.59600144401716,
          -121.75471309231611,
          -116.62281179701525,
          -116.62261179722628,
          -116.64061180096577,
          -82.24482329350039,
          -82.1632832693933,
          -82.20315328271653,
          -110.8395106003624,
          -110.82768559066169,
          -110.86611060037592,
          -122.02637115359803,
          -110.85081159703759,
          -121.64331308293502,
          -121.64671308478141,
          -121.65311308493456,
          -120.9507130103707,
          -84.28743417941288,
          -90.07990679516315,
          -109.94191040700841,
          -99.05879817567539,
          -99.10656959667718,
          -87.80389500160362,
          -81.43620300375522,
          -106.8425498028675,
          -100.91536001420776,
          -105.58238018946324,
          -105.54593020737182,
          -81.99343321756832,
          -103.02930963310433,
          -89.58637660804722,
          -89.5372566886424,
          -110.53915201911938,
          -119.58015477246066,
          -90.8276677050744,
          -90.13710584831581,
          -90.88650590397309,
          -90.0492058137915,
          -90.04890581394295,
          -90.0379878104866,
          -90.04033881085054,
          -118.61425334482699,
          -114.51545100446847,
          -120.20101664492293,
          -120.10238270839542,
          -120.20265764597873,
          -114.65648230565668,
          -114.51952347746365,
          -112.1120760702863,
          -114.70851040210043,
          -114.58880894024982,
          -114.57419893310295,
          -114.58109841126269,
          -114.70599120816834,
          -114.58827502375773,
          -102.09555190095314,
          -102.09793790152357,
          -102.09556890079953,
          -102.0979469013688,
          -122.97501336460957,
          -120.21001271454226,
          -121.11801302213387,
          -119.1340127905323,
          -119.14601279918553,
          -119.80801290004264,
          -119.76401287163581,
          -116.72401213824422,
          -114.68801173229659,
          -118.77301270404055,
          -114.32801165415756,
          -116.253312000897,
          -116.25941200216697,
          -119.2914227149714,
          -119.28607271605985,
          -117.96011267881688,
          -116.35761236281877,
          -116.21341234690654,
          -116.16421233519532,
          -114.46781191689061,
          -114.42121192681955,
          -114.48551195056434,
          -114.48311195135467,
          -114.58321179796975,
          -116.70901213909754,
          -116.71201213984251,
          -116.69501213857265,
          -115.05091198496879,
          -115.10261202098954
         ],
         "marker": {
          "color": [
           731,
           639,
           2192,
           1279,
           579,
           579,
           6453,
           3379,
           1217,
           1187,
           2160,
           1552,
           3774,
           4261,
           2405,
           2495,
           3440,
           6849,
           1065,
           1035,
           1919,
           1096,
           1035,
           640,
           2131,
           1948,
           3074,
           1064,
           1917,
           2009,
           6999,
           976,
           1645,
           1065,
           395,
           4901,
           5174,
           3409,
           731,
           3075,
           2344,
           1736,
           334,
           334,
           6756,
           1065,
           2100,
           518,
           153,
           5813,
           4232,
           5447,
           2436,
           3955,
           4931,
           4931,
           4931,
           7488,
           3622,
           2161,
           335,
           1248,
           1735,
           275,
           275,
           1704,
           1310,
           1461,
           973,
           2252,
           456,
           2040,
           2769,
           3621,
           1309,
           3562,
           3562,
           1065,
           3438,
           4352,
           61,
           2283,
           4444,
           5996,
           579,
           2741,
           335,
           1857,
           2922,
           7244,
           4534,
           7730,
           5875,
           820,
           943,
           1216,
           851,
           1216,
           913,
           670,
           1065,
           882,
           1065,
           639,
           1004,
           851,
           1339,
           853,
           883,
           821,
           123,
           92,
           92,
           92,
           1308,
           151,
           1095,
           1095,
           1125,
           91,
           182,
           151,
           122,
           61,
           61,
           28,
           92,
           61,
           1249,
           1218,
           1249,
           1218,
           549,
           549,
           669,
           761,
           730,
           274,
           519,
           1036,
           1158,
           730,
           759,
           731,
           731,
           335,
           335,
           700,
           366,
           731,
           366,
           699,
           699,
           701,
           701,
           335,
           793,
           640,
           974,
           699,
           334
          ],
          "colorbar": {
           "len": 0.2,
           "title": {
            "text": "Days in Operation"
           }
          },
          "colorscale": [
           [
            0,
            "#440154"
           ],
           [
            0.1111111111111111,
            "#482878"
           ],
           [
            0.2222222222222222,
            "#3e4989"
           ],
           [
            0.3333333333333333,
            "#31688e"
           ],
           [
            0.4444444444444444,
            "#26828e"
           ],
           [
            0.5555555555555556,
            "#1f9e89"
           ],
           [
            0.6666666666666666,
            "#35b779"
           ],
           [
            0.7777777777777778,
            "#6ece58"
           ],
           [
            0.8888888888888888,
            "#b5de2b"
           ],
           [
            1,
            "#fde725"
           ]
          ],
          "size": 10
         },
         "mode": "markers",
         "text": [
          "US-A32<br>Grasslands<br>06/2015-06/2017",
          "US-A74<br>Croplands<br>01/2016-10/2017",
          "US-ADR<br>Shrublands<br>05/2011-05/2017",
          "US-AR1<br>Croplands<br>06/2009-12/2012",
          "US-ARb<br>Grasslands<br>03/2005-10/2006",
          "US-ARc<br>Grasslands<br>03/2005-10/2006",
          "US-ARM<br>Croplands<br>01/2003-09/2020",
          "US-Aud<br>Grasslands<br>06/2002-09/2011",
          "US-Bi1<br>Croplands<br>08/2016-12/2019",
          "US-Bi2<br>Croplands<br>04/2017-07/2020",
          "US-Bkg<br>Croplands<br>04/2004-03/2010",
          "US-Blk<br>Evergreen Forests<br>01/2004-04/2008",
          "US-Blo<br>Evergreen Forests<br>06/1997-10/2007",
          "US-Bo1<br>Croplands<br>08/1996-04/2008",
          "US-Br1<br>Croplands<br>04/2005-11/2011",
          "US-Br3<br>Croplands<br>01/2005-11/2011",
          "US-Ced<br>Shrublands<br>07/2005-12/2014",
          "US-CMW<br>Wetland/Riparian<br>03/2001-12/2019",
          "US-CRT<br>Croplands<br>01/2011-12/2013",
          "US-Ctn<br>Grasslands<br>11/2006-09/2009",
          "US-CZ3<br>Evergreen Forests<br>07/2011-10/2016",
          "US-Dix<br>Mixed Forests<br>04/2005-04/2008",
          "US-Dk1<br>Croplands<br>01/2006-11/2008",
          "US-Dk2<br>Mixed Forests<br>07/2006-04/2008",
          "US-Esm<br>Wetland/Riparian<br>01/2008-11/2013",
          "US-Fmf<br>Evergreen Forests<br>08/2005-12/2010",
          "US-FPe<br>Grasslands<br>01/2000-06/2008",
          "US-FR2<br>Mixed Forests<br>01/2005-12/2007",
          "US-Fuf<br>Evergreen Forests<br>09/2005-12/2010",
          "US-Fwf<br>Grasslands<br>06/2005-12/2010",
          "US-GLE<br>Evergreen Forests<br>01/1999-03/2018",
          "US-GMF<br>Mixed Forests<br>05/1999-01/2002",
          "US-Goo<br>Grasslands<br>05/2002-11/2006",
          "US-Hn2<br>Grasslands<br>01/2016-12/2018",
          "US-Hn3<br>Shrublands<br>11/2017-12/2018",
          "US-IB1<br>Croplands<br>07/2005-12/2018",
          "US-IB2<br>Grasslands<br>10/2004-12/2018",
          "US-Jo2<br>Shrublands<br>08/2010-12/2019",
          "US-KLS<br>Croplands<br>12/2014-12/2016",
          "US-KM4<br>Grasslands<br>07/2010-12/2018",
          "US-KS2<br>Shrublands<br>04/2000-09/2006",
          "US-LS1<br>Grasslands<br>03/2003-12/2007",
          "US-MC1<br>Croplands<br>01/2015-12/2015",
          "US-Me1<br>Evergreen Forests<br>06/2004-05/2005",
          "US-Me2<br>Evergreen Forests<br>01/2002-07/2020",
          "US-Me5<br>Evergreen Forests<br>01/2000-12/2002",
          "US-Me6<br>Evergreen Forests<br>10/2014-07/2020",
          "US-Mj1<br>Croplands<br>04/2013-09/2014",
          "US-Mj2<br>Croplands<br>04/2014-09/2014",
          "US-MMS<br>Mixed Forests<br>01/1999-12/2014",
          "US-MOz<br>Mixed Forests<br>05/2006-12/2017",
          "US-NC2<br>Evergreen Forests<br>01/2005-12/2019",
          "US-NC3<br>Evergreen Forests<br>03/2013-11/2019",
          "US-NC4<br>Wetland/Riparian<br>02/2009-12/2019",
          "US-Ne1<br>Croplands<br>06/2001-12/2014",
          "US-Ne2<br>Croplands<br>06/2001-12/2014",
          "US-Ne3<br>Croplands<br>06/2001-12/2014",
          "US-NR1<br>Evergreen Forests<br>06/1999-12/2019",
          "US-Oho<br>Mixed Forests<br>01/2004-12/2013",
          "US-Ro1<br>Croplands<br>01/2011-12/2016",
          "US-Ro2<br>Croplands<br>01/2016-12/2016",
          "US-Ro3<br>Croplands<br>07/2004-12/2007",
          "US-Ro4<br>Grasslands<br>09/2015-06/2020",
          "US-Ro5<br>Croplands<br>03/2017-12/2017",
          "US-Ro6<br>Croplands<br>03/2017-12/2017",
          "US-Rwe<br>Shrublands<br>01/2003-09/2007",
          "US-Rwf<br>Shrublands<br>06/2014-01/2018",
          "US-Rws<br>Shrublands<br>09/2014-09/2018",
          "US-SCg<br>Grasslands<br>08/2008-04/2011",
          "US-SCs<br>Shrublands<br>08/2008-10/2014",
          "US-SCw<br>Shrublands<br>09/2008-12/2009",
          "US-SdH<br>Grasslands<br>05/2004-12/2009",
          "US-Skr<br>Wetland/Riparian<br>01/2004-08/2011",
          "US-Slt<br>Mixed Forests<br>01/2005-12/2014",
          "US-Sne<br>Wetland/Riparian<br>05/2016-12/2019",
          "US-SO2<br>Shrublands<br>03/1997-12/2006",
          "US-SO3<br>Shrublands<br>03/1997-12/2006",
          "US-SO4<br>Shrublands<br>01/2004-12/2006",
          "US-SP2<br>Evergreen Forests<br>02/1999-07/2008",
          "US-SP3<br>Evergreen Forests<br>01/1999-12/2010",
          "US-SP4<br>Evergreen Forests<br>04/1998-06/1998",
          "US-SRC<br>Mixed Forests<br>03/2008-06/2014",
          "US-SRG<br>Grasslands<br>04/2008-06/2020",
          "US-SRM<br>Shrublands<br>01/2004-06/2020",
          "US-Srr<br>Wetland/Riparian<br>03/2016-10/2017",
          "US-SRS<br>Shrublands<br>05/2011-11/2018",
          "US-Tw2<br>Croplands<br>05/2012-04/2013",
          "US-Tw3<br>Croplands<br>05/2013-06/2018",
          "US-Twt<br>Croplands<br>04/2009-04/2017",
          "US-Var<br>Grasslands<br>10/2000-08/2020",
          "US-WBW<br>Mixed Forests<br>01/1995-06/2007",
          "US-WCr<br>Mixed Forests<br>02/1999-04/2020",
          "US-Wkg<br>Grasslands<br>05/2004-06/2020",
          "US-xAE<br>Grasslands<br>02/2018-05/2020",
          "US-xDC<br>Grasslands<br>10/2017-05/2020",
          "US-xDL<br>Mixed Forests<br>01/2017-05/2020",
          "US-xDS<br>Grasslands<br>01/2018-05/2020",
          "US-xJR<br>Shrublands<br>01/2017-05/2020",
          "US-xNG<br>Grasslands<br>10/2017-04/2020",
          "US-xNW<br>Grasslands<br>05/2018-03/2020",
          "US-xRM<br>Evergreen Forests<br>06/2017-05/2020",
          "US-xSB<br>Evergreen Forests<br>12/2017-05/2020",
          "US-xSL<br>Croplands<br>06/2017-05/2020",
          "US-xST<br>Mixed Forests<br>08/2018-05/2020",
          "US-xUN<br>Mixed Forests<br>08/2017-05/2020",
          "US-xYE<br>Evergreen Forests<br>01/2018-05/2020",
          "MB_Pch<br>Croplands<br>04/2012-12/2015",
          "Ellendale<br>Croplands<br>8/2018-12/2020",
          "manilacotton<br>Croplands<br>5/2016-10/2018",
          "stonevillesoy<br>Croplands<br>04/2017-07/2019",
          "US-OF1<br>Croplands<br>5/2017-9/2017",
          "US-OF2<br>Croplands<br>6/2017-9/2017",
          "US-OF4<br>Croplands<br>5/2018-8/2018",
          "US-OF6<br>Croplands<br>5/2018-8/2018",
          "S2<br>Croplands<br>09/2017-04/2021",
          "ALARC2_Smith6<br>Croplands<br>01/2018-06/2018",
          "Almond_High<br>Croplands<br>10/2016-10/2019",
          "Almond_Low<br>Croplands<br>10/2016-10/2019",
          "Almond_Med<br>Croplands<br>09/2016-10/2019",
          "JPL1_JV114<br>Croplands<br>09/2018-12/2018",
          "JPL1_Smith5<br>Croplands<br>12/2017-06/2018",
          "UA1_HartFarm<br>Croplands<br>12/2018-05/2019",
          "UA1_JV187<br>Croplands<br>03/2018-07/2018",
          "UA1_KN18<br>Croplands<br>09/2018-11/2018",
          "UA2_JV330<br>Croplands<br>11/2018-01/2019",
          "UA2_KN20<br>Croplands<br>02/2019-03/2019",
          "UA3_JV108<br>Croplands<br>03/2018-06/2018",
          "UA3_KN15<br>Croplands<br>09/2018-11/2018",
          "LYS_NE<br>Croplands<br>5/2013-10/2016",
          "LYS_NW<br>Croplands<br>6/2013-10/2016",
          "LYS_SE<br>Croplands<br>5/2013-10/2016",
          "LYS_SW<br>Croplands<br>6/2013-10/2016",
          "BAR012<br>Croplands<br>05/2017-11/2018",
          "RIP760<br>Croplands<br>05/2017-11/2018",
          "SLM001<br>Croplands<br>01/2017-11/2018",
          "B_01<br>Croplands<br>03/2005-04/2007",
          "B_11<br>Croplands<br>03/2005-03/2007",
          "ET_1<br>Shrublands<br>01/2004-10/2004",
          "ET_8<br>Croplands<br>06/2003-11/2004",
          "MOVAL<br>Grasslands<br>04/1997-02/2000",
          "MR<br>Wetland/Riparian<br>07/2003-09/2006",
          "TAM<br>Wetland/Riparian<br>03/2005-03/2007",
          "VR<br>Wetland/Riparian<br>02/2003-03/2005",
          "AFD<br>Shrublands<br>11/2011-11/2013",
          "AFS<br>Grasslands<br>11/2011-11/2013",
          "BPHV<br>Grasslands<br>10/2012-09/2013",
          "BPLV<br>Grasslands<br>10/2012-09/2013",
          "DVDV<br>Shrublands<br>10/2009-09/2011",
          "KV_1<br>Shrublands<br>08/2011-08/2012",
          "KV_2<br>Shrublands<br>08/2010-08/2012",
          "KV_4<br>Grasslands<br>11/2011-11/2012",
          "SPV_1<br>Shrublands<br>09/2005-08/2007",
          "SPV_3<br>Grasslands<br>09/2005-08/2007",
          "SV_5<br>Shrublands<br>10/2007-09/2009",
          "SV_6<br>Shrublands<br>10/2007-09/2009",
          "UMVW<br>Shrublands<br>10/2005-09/2006",
          "UOVLO<br>Shrublands<br>07/1998-09/2000",
          "UOVMD<br>Grasslands<br>12/1998-09/2000",
          "UOVUP<br>Shrublands<br>01/1998-09/2000",
          "WRV_1<br>Shrublands<br>09/2005-08/2007",
          "WRV_2<br>Shrublands<br>09/2006-08/2007"
         ],
         "type": "scattergeo"
        }
       ],
       "layout": {
        "geo": {
         "countrycolor": "rgb(255, 255, 255)",
         "lakecolor": "rgb(255, 255, 255)",
         "landcolor": "rgb(212, 212, 212)",
         "lataxis": {
          "dtick": 5,
          "gridwidth": 0.5,
          "range": [
           20,
           60
          ],
          "showgrid": true
         },
         "lonaxis": {
          "dtick": 5,
          "gridwidth": 0.5,
          "range": [
           -130,
           -70
          ],
          "showgrid": true
         },
         "projection": {
          "type": "albers usa"
         },
         "resolution": 50,
         "scope": "usa",
         "showcountries": true,
         "showlakes": true,
         "showland": true,
         "showsubunits": true,
         "subunitcolor": "rgb(255, 255, 255)"
        },
        "height": 1000,
        "mapbox": {
         "style": "satellite-streets"
        },
        "margin": {
         "b": 0,
         "l": 0,
         "r": 0,
         "t": 30
        },
        "template": {
         "data": {
          "bar": [
           {
            "error_x": {
             "color": "#f2f5fa"
            },
            "error_y": {
             "color": "#f2f5fa"
            },
            "marker": {
             "line": {
              "color": "rgb(17,17,17)",
              "width": 0.5
             },
             "pattern": {
              "fillmode": "overlay",
              "size": 10,
              "solidity": 0.2
             }
            },
            "type": "bar"
           }
          ],
          "barpolar": [
           {
            "marker": {
             "line": {
              "color": "rgb(17,17,17)",
              "width": 0.5
             },
             "pattern": {
              "fillmode": "overlay",
              "size": 10,
              "solidity": 0.2
             }
            },
            "type": "barpolar"
           }
          ],
          "carpet": [
           {
            "aaxis": {
             "endlinecolor": "#A2B1C6",
             "gridcolor": "#506784",
             "linecolor": "#506784",
             "minorgridcolor": "#506784",
             "startlinecolor": "#A2B1C6"
            },
            "baxis": {
             "endlinecolor": "#A2B1C6",
             "gridcolor": "#506784",
             "linecolor": "#506784",
             "minorgridcolor": "#506784",
             "startlinecolor": "#A2B1C6"
            },
            "type": "carpet"
           }
          ],
          "choropleth": [
           {
            "colorbar": {
             "outlinewidth": 0,
             "ticks": ""
            },
            "type": "choropleth"
           }
          ],
          "contour": [
           {
            "colorbar": {
             "outlinewidth": 0,
             "ticks": ""
            },
            "colorscale": [
             [
              0,
              "#0d0887"
             ],
             [
              0.1111111111111111,
              "#46039f"
             ],
             [
              0.2222222222222222,
              "#7201a8"
             ],
             [
              0.3333333333333333,
              "#9c179e"
             ],
             [
              0.4444444444444444,
              "#bd3786"
             ],
             [
              0.5555555555555556,
              "#d8576b"
             ],
             [
              0.6666666666666666,
              "#ed7953"
             ],
             [
              0.7777777777777778,
              "#fb9f3a"
             ],
             [
              0.8888888888888888,
              "#fdca26"
             ],
             [
              1,
              "#f0f921"
             ]
            ],
            "type": "contour"
           }
          ],
          "contourcarpet": [
           {
            "colorbar": {
             "outlinewidth": 0,
             "ticks": ""
            },
            "type": "contourcarpet"
           }
          ],
          "heatmap": [
           {
            "colorbar": {
             "outlinewidth": 0,
             "ticks": ""
            },
            "colorscale": [
             [
              0,
              "#0d0887"
             ],
             [
              0.1111111111111111,
              "#46039f"
             ],
             [
              0.2222222222222222,
              "#7201a8"
             ],
             [
              0.3333333333333333,
              "#9c179e"
             ],
             [
              0.4444444444444444,
              "#bd3786"
             ],
             [
              0.5555555555555556,
              "#d8576b"
             ],
             [
              0.6666666666666666,
              "#ed7953"
             ],
             [
              0.7777777777777778,
              "#fb9f3a"
             ],
             [
              0.8888888888888888,
              "#fdca26"
             ],
             [
              1,
              "#f0f921"
             ]
            ],
            "type": "heatmap"
           }
          ],
          "heatmapgl": [
           {
            "colorbar": {
             "outlinewidth": 0,
             "ticks": ""
            },
            "colorscale": [
             [
              0,
              "#0d0887"
             ],
             [
              0.1111111111111111,
              "#46039f"
             ],
             [
              0.2222222222222222,
              "#7201a8"
             ],
             [
              0.3333333333333333,
              "#9c179e"
             ],
             [
              0.4444444444444444,
              "#bd3786"
             ],
             [
              0.5555555555555556,
              "#d8576b"
             ],
             [
              0.6666666666666666,
              "#ed7953"
             ],
             [
              0.7777777777777778,
              "#fb9f3a"
             ],
             [
              0.8888888888888888,
              "#fdca26"
             ],
             [
              1,
              "#f0f921"
             ]
            ],
            "type": "heatmapgl"
           }
          ],
          "histogram": [
           {
            "marker": {
             "pattern": {
              "fillmode": "overlay",
              "size": 10,
              "solidity": 0.2
             }
            },
            "type": "histogram"
           }
          ],
          "histogram2d": [
           {
            "colorbar": {
             "outlinewidth": 0,
             "ticks": ""
            },
            "colorscale": [
             [
              0,
              "#0d0887"
             ],
             [
              0.1111111111111111,
              "#46039f"
             ],
             [
              0.2222222222222222,
              "#7201a8"
             ],
             [
              0.3333333333333333,
              "#9c179e"
             ],
             [
              0.4444444444444444,
              "#bd3786"
             ],
             [
              0.5555555555555556,
              "#d8576b"
             ],
             [
              0.6666666666666666,
              "#ed7953"
             ],
             [
              0.7777777777777778,
              "#fb9f3a"
             ],
             [
              0.8888888888888888,
              "#fdca26"
             ],
             [
              1,
              "#f0f921"
             ]
            ],
            "type": "histogram2d"
           }
          ],
          "histogram2dcontour": [
           {
            "colorbar": {
             "outlinewidth": 0,
             "ticks": ""
            },
            "colorscale": [
             [
              0,
              "#0d0887"
             ],
             [
              0.1111111111111111,
              "#46039f"
             ],
             [
              0.2222222222222222,
              "#7201a8"
             ],
             [
              0.3333333333333333,
              "#9c179e"
             ],
             [
              0.4444444444444444,
              "#bd3786"
             ],
             [
              0.5555555555555556,
              "#d8576b"
             ],
             [
              0.6666666666666666,
              "#ed7953"
             ],
             [
              0.7777777777777778,
              "#fb9f3a"
             ],
             [
              0.8888888888888888,
              "#fdca26"
             ],
             [
              1,
              "#f0f921"
             ]
            ],
            "type": "histogram2dcontour"
           }
          ],
          "mesh3d": [
           {
            "colorbar": {
             "outlinewidth": 0,
             "ticks": ""
            },
            "type": "mesh3d"
           }
          ],
          "parcoords": [
           {
            "line": {
             "colorbar": {
              "outlinewidth": 0,
              "ticks": ""
             }
            },
            "type": "parcoords"
           }
          ],
          "pie": [
           {
            "automargin": true,
            "type": "pie"
           }
          ],
          "scatter": [
           {
            "marker": {
             "line": {
              "color": "#283442"
             }
            },
            "type": "scatter"
           }
          ],
          "scatter3d": [
           {
            "line": {
             "colorbar": {
              "outlinewidth": 0,
              "ticks": ""
             }
            },
            "marker": {
             "colorbar": {
              "outlinewidth": 0,
              "ticks": ""
             }
            },
            "type": "scatter3d"
           }
          ],
          "scattercarpet": [
           {
            "marker": {
             "colorbar": {
              "outlinewidth": 0,
              "ticks": ""
             }
            },
            "type": "scattercarpet"
           }
          ],
          "scattergeo": [
           {
            "marker": {
             "colorbar": {
              "outlinewidth": 0,
              "ticks": ""
             }
            },
            "type": "scattergeo"
           }
          ],
          "scattergl": [
           {
            "marker": {
             "line": {
              "color": "#283442"
             }
            },
            "type": "scattergl"
           }
          ],
          "scattermapbox": [
           {
            "marker": {
             "colorbar": {
              "outlinewidth": 0,
              "ticks": ""
             }
            },
            "type": "scattermapbox"
           }
          ],
          "scatterpolar": [
           {
            "marker": {
             "colorbar": {
              "outlinewidth": 0,
              "ticks": ""
             }
            },
            "type": "scatterpolar"
           }
          ],
          "scatterpolargl": [
           {
            "marker": {
             "colorbar": {
              "outlinewidth": 0,
              "ticks": ""
             }
            },
            "type": "scatterpolargl"
           }
          ],
          "scatterternary": [
           {
            "marker": {
             "colorbar": {
              "outlinewidth": 0,
              "ticks": ""
             }
            },
            "type": "scatterternary"
           }
          ],
          "surface": [
           {
            "colorbar": {
             "outlinewidth": 0,
             "ticks": ""
            },
            "colorscale": [
             [
              0,
              "#0d0887"
             ],
             [
              0.1111111111111111,
              "#46039f"
             ],
             [
              0.2222222222222222,
              "#7201a8"
             ],
             [
              0.3333333333333333,
              "#9c179e"
             ],
             [
              0.4444444444444444,
              "#bd3786"
             ],
             [
              0.5555555555555556,
              "#d8576b"
             ],
             [
              0.6666666666666666,
              "#ed7953"
             ],
             [
              0.7777777777777778,
              "#fb9f3a"
             ],
             [
              0.8888888888888888,
              "#fdca26"
             ],
             [
              1,
              "#f0f921"
             ]
            ],
            "type": "surface"
           }
          ],
          "table": [
           {
            "cells": {
             "fill": {
              "color": "#506784"
             },
             "line": {
              "color": "rgb(17,17,17)"
             }
            },
            "header": {
             "fill": {
              "color": "#2a3f5f"
             },
             "line": {
              "color": "rgb(17,17,17)"
             }
            },
            "type": "table"
           }
          ]
         },
         "layout": {
          "annotationdefaults": {
           "arrowcolor": "#f2f5fa",
           "arrowhead": 0,
           "arrowwidth": 1
          },
          "autotypenumbers": "strict",
          "coloraxis": {
           "colorbar": {
            "outlinewidth": 0,
            "ticks": ""
           }
          },
          "colorscale": {
           "diverging": [
            [
             0,
             "#8e0152"
            ],
            [
             0.1,
             "#c51b7d"
            ],
            [
             0.2,
             "#de77ae"
            ],
            [
             0.3,
             "#f1b6da"
            ],
            [
             0.4,
             "#fde0ef"
            ],
            [
             0.5,
             "#f7f7f7"
            ],
            [
             0.6,
             "#e6f5d0"
            ],
            [
             0.7,
             "#b8e186"
            ],
            [
             0.8,
             "#7fbc41"
            ],
            [
             0.9,
             "#4d9221"
            ],
            [
             1,
             "#276419"
            ]
           ],
           "sequential": [
            [
             0,
             "#0d0887"
            ],
            [
             0.1111111111111111,
             "#46039f"
            ],
            [
             0.2222222222222222,
             "#7201a8"
            ],
            [
             0.3333333333333333,
             "#9c179e"
            ],
            [
             0.4444444444444444,
             "#bd3786"
            ],
            [
             0.5555555555555556,
             "#d8576b"
            ],
            [
             0.6666666666666666,
             "#ed7953"
            ],
            [
             0.7777777777777778,
             "#fb9f3a"
            ],
            [
             0.8888888888888888,
             "#fdca26"
            ],
            [
             1,
             "#f0f921"
            ]
           ],
           "sequentialminus": [
            [
             0,
             "#0d0887"
            ],
            [
             0.1111111111111111,
             "#46039f"
            ],
            [
             0.2222222222222222,
             "#7201a8"
            ],
            [
             0.3333333333333333,
             "#9c179e"
            ],
            [
             0.4444444444444444,
             "#bd3786"
            ],
            [
             0.5555555555555556,
             "#d8576b"
            ],
            [
             0.6666666666666666,
             "#ed7953"
            ],
            [
             0.7777777777777778,
             "#fb9f3a"
            ],
            [
             0.8888888888888888,
             "#fdca26"
            ],
            [
             1,
             "#f0f921"
            ]
           ]
          },
          "colorway": [
           "#636efa",
           "#EF553B",
           "#00cc96",
           "#ab63fa",
           "#FFA15A",
           "#19d3f3",
           "#FF6692",
           "#B6E880",
           "#FF97FF",
           "#FECB52"
          ],
          "font": {
           "color": "#f2f5fa"
          },
          "geo": {
           "bgcolor": "rgb(17,17,17)",
           "lakecolor": "rgb(17,17,17)",
           "landcolor": "rgb(17,17,17)",
           "showlakes": true,
           "showland": true,
           "subunitcolor": "#506784"
          },
          "hoverlabel": {
           "align": "left"
          },
          "hovermode": "closest",
          "mapbox": {
           "style": "dark"
          },
          "paper_bgcolor": "rgb(17,17,17)",
          "plot_bgcolor": "rgb(17,17,17)",
          "polar": {
           "angularaxis": {
            "gridcolor": "#506784",
            "linecolor": "#506784",
            "ticks": ""
           },
           "bgcolor": "rgb(17,17,17)",
           "radialaxis": {
            "gridcolor": "#506784",
            "linecolor": "#506784",
            "ticks": ""
           }
          },
          "scene": {
           "xaxis": {
            "backgroundcolor": "rgb(17,17,17)",
            "gridcolor": "#506784",
            "gridwidth": 2,
            "linecolor": "#506784",
            "showbackground": true,
            "ticks": "",
            "zerolinecolor": "#C8D4E3"
           },
           "yaxis": {
            "backgroundcolor": "rgb(17,17,17)",
            "gridcolor": "#506784",
            "gridwidth": 2,
            "linecolor": "#506784",
            "showbackground": true,
            "ticks": "",
            "zerolinecolor": "#C8D4E3"
           },
           "zaxis": {
            "backgroundcolor": "rgb(17,17,17)",
            "gridcolor": "#506784",
            "gridwidth": 2,
            "linecolor": "#506784",
            "showbackground": true,
            "ticks": "",
            "zerolinecolor": "#C8D4E3"
           }
          },
          "shapedefaults": {
           "line": {
            "color": "#f2f5fa"
           }
          },
          "sliderdefaults": {
           "bgcolor": "#C8D4E3",
           "bordercolor": "rgb(17,17,17)",
           "borderwidth": 1,
           "tickwidth": 0
          },
          "ternary": {
           "aaxis": {
            "gridcolor": "#506784",
            "linecolor": "#506784",
            "ticks": ""
           },
           "baxis": {
            "gridcolor": "#506784",
            "linecolor": "#506784",
            "ticks": ""
           },
           "bgcolor": "rgb(17,17,17)",
           "caxis": {
            "gridcolor": "#506784",
            "linecolor": "#506784",
            "ticks": ""
           }
          },
          "title": {
           "x": 0.05
          },
          "updatemenudefaults": {
           "bgcolor": "#506784",
           "borderwidth": 0
          },
          "xaxis": {
           "automargin": true,
           "gridcolor": "#283442",
           "linecolor": "#506784",
           "ticks": "",
           "title": {
            "standoff": 15
           },
           "zerolinecolor": "#283442",
           "zerolinewidth": 2
          },
          "yaxis": {
           "automargin": true,
           "gridcolor": "#283442",
           "linecolor": "#506784",
           "ticks": "",
           "title": {
            "standoff": 15
           },
           "zerolinecolor": "#283442",
           "zerolinewidth": 2
          }
         }
        },
        "title": {
         "text": "Benchmark Flux Stations<br>Volk et al., 2023<br>(Hover for station info)"
        },
        "width": 1000
       }
      },
      "image/png": "[encoded data removed]",
      "text/html": [
       "<div>                            <div id=\"eb624a5e-533a-49d9-8f5a-62d9c16a796d\" class=\"plotly-graph-div\" style=\"height:1000px; width:1000px;\"></div>            <script type=\"text/javascript\">                require([\"plotly\"], function(Plotly) {                    window.PLOTLYENV=window.PLOTLYENV || {};                                    if (document.getElementById(\"eb624a5e-533a-49d9-8f5a-62d9c16a796d\")) {                    Plotly.newPlot(                        \"eb624a5e-533a-49d9-8f5a-62d9c16a796d\",                        [{\"lat\":[36.8192744315051,36.808470444104294,36.7652830650045,36.42670627870253,35.549706198727904,35.54649619817103,36.60580641215172,31.590734951482546,38.099158884114416,38.10900508235596,44.34529767912532,44.15800713798243,38.89530521847372,40.00620749988654,41.974907530179756,41.97472752996654,39.83790805604783,31.66365897706464,41.62850303935948,43.9500072524073,37.067405150962436,39.97123808104045,35.97120709117278,35.973587091441466,25.437904566370985,35.142605394871424,48.30770749103052,29.949495150138443,35.08900538570607,35.44540543265825,41.36653658175724,41.9666785130686,34.25470632388707,46.68886693082669,46.68784593103351,41.85930783046734,41.84062782624748,32.58494528172275,38.774506774867646,42.44225808580516,28.608605356571676,31.561534963215855,48.187286590823916,44.57940558381113,44.45230556967246,44.4371955677448,44.32328975608271,46.99475693505029,46.995706933651526,39.32320746711539,38.7441070692514,35.80300713454121,35.799007134062684,35.78790715504846,41.16506722652855,41.16487722691373,41.17967723117488,40.0329064540406,41.55450800210041,44.714307993233696,44.72880799546472,44.72170799437167,44.67810798900274,44.6910079919177,44.69460799244489,43.06535280843934,43.12071691655964,43.16755092159358,33.736552885128475,33.734333884798566,33.604704936460124,42.069307028981555,25.362937537931263,39.91380806412912,38.03690506002932,33.373804899517125,33.377104899926834,33.38450489987509,29.76480559341121,29.75477559324487,29.802825603517213,31.90830498426282,31.789383967156592,31.82140497019276,38.200561054034345,31.81729897026777,38.10470507404064,38.115905074758935,38.108725473668954,38.41330515211499,35.95877689727283,45.80590835581668,31.736504998490275,35.41059612301722,47.16165788165803,32.5417260460197,28.125045220185733,32.59068527164666,46.76972768454818,40.054256454456514,40.27591648720607,29.689275582313776,40.46190668776486,45.50894834258231,46.23388845508988,44.95348664575069,36.458725064604344,29.633326315708388,35.88720663702783,33.44332311844799,35.737073611599435,35.74060661230447,35.73435261156253,35.72997861060209,43.41712577090255,32.697274532470175,36.16967399538058,36.946613077348374,36.177673996058004,32.65630202015957,32.69747186562894,33.07743014751736,32.70653985750552,32.77623867809399,32.71223758709638,32.77948034556707,32.72073483170649,32.7801880397485,35.18813292943654,35.188140929313775,35.18610092909802,35.186105928975266,38.75100502777666,36.83900505970863,38.28900512877497,39.05500534674368,39.10800535077053,39.02900529314891,38.85900528099015,37.01100531187135,36.69100540930556,38.85100535471074,36.588005420228534,36.49090528518454,36.492605284981735,38.20970525533396,38.226695257342385,39.762516503729735,39.53710560476479,39.61970562418831,39.598705625785094,38.777605663599054,38.936705684686224,39.03250569062535,39.04290569195077,37.52040551290509,37.04500531657997,37.04700531659707,37.06400531958755,38.41360558140487,38.64050560270243],\"lon\":[-97.81977997377237,-97.54886190344055,-116.69334543750499,-99.42000834598937,-98.04020792970421,-98.04000792941233,-97.4888078714676,-110.51039051441381,-121.49934305979606,-121.53501306653321,-96.83617853584916,-103.65001028317349,-120.63281301825356,-88.2904056401509,-93.6906073716356,-93.69357737244277,-74.37910137066245,-110.17770245096969,-83.34709030406674,-101.84660980058655,-119.19511257161128,-74.43455139577931,-79.09338262858834,-79.10043263085326,-80.59460268582653,-111.72731101524715,-105.10191139007209,-97.99623758573088,-111.7620110176368,-111.77181105023261,-106.23991050439723,-73.23333112408237,-89.87350567193683,-119.46412513196266,-119.46146413126789,-88.22273579127209,-88.24103579483405,-106.6032297500741,-97.56840808312064,-85.33006098183792,-80.67150279485104,-110.14034043722997,-114.15481344689101,-121.50001404618172,-121.55741403130938,-121.56677402996583,-121.60781401512308,-109.61376220027839,-109.62951220404821,-86.4131050351095,-92.20000663968808,-76.66850187890276,-76.65600187486801,-75.90380164255485,-96.4766480422323,-96.4701080404614,-96.43965803395737,-105.54641017862843,-83.84380444962807,-93.08980753485403,-93.08880753648536,-93.08930753568927,-93.07230752504343,-93.05760752252051,-93.05776752304163,-116.75911524995696,-116.72309895245745,-116.71321795841294,-117.69461201190505,-117.69596201196488,-116.4527117842484,-101.40720943054092,-81.07758482522536,-74.59600144401716,-121.75471309231611,-116.62281179701525,-116.62261179722628,-116.64061180096577,-82.24482329350039,-82.1632832693933,-82.20315328271653,-110.8395106003624,-110.82768559066169,-110.86611060037592,-122.02637115359803,-110.85081159703759,-121.64331308293502,-121.64671308478141,-121.65311308493456,-120.9507130103707,-84.28743417941288,-90.07990679516315,-109.94191040700841,-99.05879817567539,-99.10656959667718,-87.80389500160362,-81.43620300375522,-106.8425498028675,-100.91536001420776,-105.58238018946324,-105.54593020737182,-81.99343321756832,-103.02930963310433,-89.58637660804722,-89.5372566886424,-110.53915201911938,-119.58015477246066,-90.8276677050744,-90.13710584831581,-90.88650590397309,-90.0492058137915,-90.04890581394295,-90.0379878104866,-90.04033881085054,-118.61425334482699,-114.51545100446847,-120.20101664492293,-120.10238270839542,-120.20265764597873,-114.65648230565668,-114.51952347746365,-112.1120760702863,-114.70851040210043,-114.58880894024982,-114.57419893310295,-114.58109841126269,-114.70599120816834,-114.58827502375773,-102.09555190095314,-102.09793790152357,-102.09556890079953,-102.0979469013688,-122.97501336460957,-120.21001271454226,-121.11801302213387,-119.1340127905323,-119.14601279918553,-119.80801290004264,-119.76401287163581,-116.72401213824422,-114.68801173229659,-118.77301270404055,-114.32801165415756,-116.253312000897,-116.25941200216697,-119.2914227149714,-119.28607271605985,-117.96011267881688,-116.35761236281877,-116.21341234690654,-116.16421233519532,-114.46781191689061,-114.42121192681955,-114.48551195056434,-114.48311195135467,-114.58321179796975,-116.70901213909754,-116.71201213984251,-116.69501213857265,-115.05091198496879,-115.10261202098954],\"marker\":{\"color\":[731,639,2192,1279,579,579,6453,3379,1217,1187,2160,1552,3774,4261,2405,2495,3440,6849,1065,1035,1919,1096,1035,640,2131,1948,3074,1064,1917,2009,6999,976,1645,1065,395,4901,5174,3409,731,3075,2344,1736,334,334,6756,1065,2100,518,153,5813,4232,5447,2436,3955,4931,4931,4931,7488,3622,2161,335,1248,1735,275,275,1704,1310,1461,973,2252,456,2040,2769,3621,1309,3562,3562,1065,3438,4352,61,2283,4444,5996,579,2741,335,1857,2922,7244,4534,7730,5875,820,943,1216,851,1216,913,670,1065,882,1065,639,1004,851,1339,853,883,821,123,92,92,92,1308,151,1095,1095,1125,91,182,151,122,61,61,28,92,61,1249,1218,1249,1218,549,549,669,761,730,274,519,1036,1158,730,759,731,731,335,335,700,366,731,366,699,699,701,701,335,793,640,974,699,334],\"colorbar\":{\"len\":0.2,\"title\":{\"text\":\"Days in Operation\"}},\"colorscale\":[[0.0,\"#440154\"],[0.1111111111111111,\"#482878\"],[0.2222222222222222,\"#3e4989\"],[0.3333333333333333,\"#31688e\"],[0.4444444444444444,\"#26828e\"],[0.5555555555555556,\"#1f9e89\"],[0.6666666666666666,\"#35b779\"],[0.7777777777777778,\"#6ece58\"],[0.8888888888888888,\"#b5de2b\"],[1.0,\"#fde725\"]],\"size\":10},\"mode\":\"markers\",\"text\":[\"US-A32\\u003cbr\\u003eGrasslands\\u003cbr\\u003e06\\u002f2015-06\\u002f2017\",\"US-A74\\u003cbr\\u003eCroplands\\u003cbr\\u003e01\\u002f2016-10\\u002f2017\",\"US-ADR\\u003cbr\\u003eShrublands\\u003cbr\\u003e05\\u002f2011-05\\u002f2017\",\"US-AR1\\u003cbr\\u003eCroplands\\u003cbr\\u003e06\\u002f2009-12\\u002f2012\",\"US-ARb\\u003cbr\\u003eGrasslands\\u003cbr\\u003e03\\u002f2005-10\\u002f2006\",\"US-ARc\\u003cbr\\u003eGrasslands\\u003cbr\\u003e03\\u002f2005-10\\u002f2006\",\"US-ARM\\u003cbr\\u003eCroplands\\u003cbr\\u003e01\\u002f2003-09\\u002f2020\",\"US-Aud\\u003cbr\\u003eGrasslands\\u003cbr\\u003e06\\u002f2002-09\\u002f2011\",\"US-Bi1\\u003cbr\\u003eCroplands\\u003cbr\\u003e08\\u002f2016-12\\u002f2019\",\"US-Bi2\\u003cbr\\u003eCroplands\\u003cbr\\u003e04\\u002f2017-07\\u002f2020\",\"US-Bkg\\u003cbr\\u003eCroplands\\u003cbr\\u003e04\\u002f2004-03\\u002f2010\",\"US-Blk\\u003cbr\\u003eEvergreen Forests\\u003cbr\\u003e01\\u002f2004-04\\u002f2008\",\"US-Blo\\u003cbr\\u003eEvergreen Forests\\u003cbr\\u003e06\\u002f1997-10\\u002f2007\",\"US-Bo1\\u003cbr\\u003eCroplands\\u003cbr\\u003e08\\u002f1996-04\\u002f2008\",\"US-Br1\\u003cbr\\u003eCroplands\\u003cbr\\u003e04\\u002f2005-11\\u002f2011\",\"US-Br3\\u003cbr\\u003eCroplands\\u003cbr\\u003e01\\u002f2005-11\\u002f2011\",\"US-Ced\\u003cbr\\u003eShrublands\\u003cbr\\u003e07\\u002f2005-12\\u002f2014\",\"US-CMW\\u003cbr\\u003eWetland\\u002fRiparian\\u003cbr\\u003e03\\u002f2001-12\\u002f2019\",\"US-CRT\\u003cbr\\u003eCroplands\\u003cbr\\u003e01\\u002f2011-12\\u002f2013\",\"US-Ctn\\u003cbr\\u003eGrasslands\\u003cbr\\u003e11\\u002f2006-09\\u002f2009\",\"US-CZ3\\u003cbr\\u003eEvergreen Forests\\u003cbr\\u003e07\\u002f2011-10\\u002f2016\",\"US-Dix\\u003cbr\\u003eMixed Forests\\u003cbr\\u003e04\\u002f2005-04\\u002f2008\",\"US-Dk1\\u003cbr\\u003eCroplands\\u003cbr\\u003e01\\u002f2006-11\\u002f2008\",\"US-Dk2\\u003cbr\\u003eMixed Forests\\u003cbr\\u003e07\\u002f2006-04\\u002f2008\",\"US-Esm\\u003cbr\\u003eWetland\\u002fRiparian\\u003cbr\\u003e01\\u002f2008-11\\u002f2013\",\"US-Fmf\\u003cbr\\u003eEvergreen Forests\\u003cbr\\u003e08\\u002f2005-12\\u002f2010\",\"US-FPe\\u003cbr\\u003eGrasslands\\u003cbr\\u003e01\\u002f2000-06\\u002f2008\",\"US-FR2\\u003cbr\\u003eMixed Forests\\u003cbr\\u003e01\\u002f2005-12\\u002f2007\",\"US-Fuf\\u003cbr\\u003eEvergreen Forests\\u003cbr\\u003e09\\u002f2005-12\\u002f2010\",\"US-Fwf\\u003cbr\\u003eGrasslands\\u003cbr\\u003e06\\u002f2005-12\\u002f2010\",\"US-GLE\\u003cbr\\u003eEvergreen Forests\\u003cbr\\u003e01\\u002f1999-03\\u002f2018\",\"US-GMF\\u003cbr\\u003eMixed Forests\\u003cbr\\u003e05\\u002f1999-01\\u002f2002\",\"US-Goo\\u003cbr\\u003eGrasslands\\u003cbr\\u003e05\\u002f2002-11\\u002f2006\",\"US-Hn2\\u003cbr\\u003eGrasslands\\u003cbr\\u003e01\\u002f2016-12\\u002f2018\",\"US-Hn3\\u003cbr\\u003eShrublands\\u003cbr\\u003e11\\u002f2017-12\\u002f2018\",\"US-IB1\\u003cbr\\u003eCroplands\\u003cbr\\u003e07\\u002f2005-12\\u002f2018\",\"US-IB2\\u003cbr\\u003eGrasslands\\u003cbr\\u003e10\\u002f2004-12\\u002f2018\",\"US-Jo2\\u003cbr\\u003eShrublands\\u003cbr\\u003e08\\u002f2010-12\\u002f2019\",\"US-KLS\\u003cbr\\u003eCroplands\\u003cbr\\u003e12\\u002f2014-12\\u002f2016\",\"US-KM4\\u003cbr\\u003eGrasslands\\u003cbr\\u003e07\\u002f2010-12\\u002f2018\",\"US-KS2\\u003cbr\\u003eShrublands\\u003cbr\\u003e04\\u002f2000-09\\u002f2006\",\"US-LS1\\u003cbr\\u003eGrasslands\\u003cbr\\u003e03\\u002f2003-12\\u002f2007\",\"US-MC1\\u003cbr\\u003eCroplands\\u003cbr\\u003e01\\u002f2015-12\\u002f2015\",\"US-Me1\\u003cbr\\u003eEvergreen Forests\\u003cbr\\u003e06\\u002f2004-05\\u002f2005\",\"US-Me2\\u003cbr\\u003eEvergreen Forests\\u003cbr\\u003e01\\u002f2002-07\\u002f2020\",\"US-Me5\\u003cbr\\u003eEvergreen Forests\\u003cbr\\u003e01\\u002f2000-12\\u002f2002\",\"US-Me6\\u003cbr\\u003eEvergreen Forests\\u003cbr\\u003e10\\u002f2014-07\\u002f2020\",\"US-Mj1\\u003cbr\\u003eCroplands\\u003cbr\\u003e04\\u002f2013-09\\u002f2014\",\"US-Mj2\\u003cbr\\u003eCroplands\\u003cbr\\u003e04\\u002f2014-09\\u002f2014\",\"US-MMS\\u003cbr\\u003eMixed Forests\\u003cbr\\u003e01\\u002f1999-12\\u002f2014\",\"US-MOz\\u003cbr\\u003eMixed Forests\\u003cbr\\u003e05\\u002f2006-12\\u002f2017\",\"US-NC2\\u003cbr\\u003eEvergreen Forests\\u003cbr\\u003e01\\u002f2005-12\\u002f2019\",\"US-NC3\\u003cbr\\u003eEvergreen Forests\\u003cbr\\u003e03\\u002f2013-11\\u002f2019\",\"US-NC4\\u003cbr\\u003eWetland\\u002fRiparian\\u003cbr\\u003e02\\u002f2009-12\\u002f2019\",\"US-Ne1\\u003cbr\\u003eCroplands\\u003cbr\\u003e06\\u002f2001-12\\u002f2014\",\"US-Ne2\\u003cbr\\u003eCroplands\\u003cbr\\u003e06\\u002f2001-12\\u002f2014\",\"US-Ne3\\u003cbr\\u003eCroplands\\u003cbr\\u003e06\\u002f2001-12\\u002f2014\",\"US-NR1\\u003cbr\\u003eEvergreen Forests\\u003cbr\\u003e06\\u002f1999-12\\u002f2019\",\"US-Oho\\u003cbr\\u003eMixed Forests\\u003cbr\\u003e01\\u002f2004-12\\u002f2013\",\"US-Ro1\\u003cbr\\u003eCroplands\\u003cbr\\u003e01\\u002f2011-12\\u002f2016\",\"US-Ro2\\u003cbr\\u003eCroplands\\u003cbr\\u003e01\\u002f2016-12\\u002f2016\",\"US-Ro3\\u003cbr\\u003eCroplands\\u003cbr\\u003e07\\u002f2004-12\\u002f2007\",\"US-Ro4\\u003cbr\\u003eGrasslands\\u003cbr\\u003e09\\u002f2015-06\\u002f2020\",\"US-Ro5\\u003cbr\\u003eCroplands\\u003cbr\\u003e03\\u002f2017-12\\u002f2017\",\"US-Ro6\\u003cbr\\u003eCroplands\\u003cbr\\u003e03\\u002f2017-12\\u002f2017\",\"US-Rwe\\u003cbr\\u003eShrublands\\u003cbr\\u003e01\\u002f2003-09\\u002f2007\",\"US-Rwf\\u003cbr\\u003eShrublands\\u003cbr\\u003e06\\u002f2014-01\\u002f2018\",\"US-Rws\\u003cbr\\u003eShrublands\\u003cbr\\u003e09\\u002f2014-09\\u002f2018\",\"US-SCg\\u003cbr\\u003eGrasslands\\u003cbr\\u003e08\\u002f2008-04\\u002f2011\",\"US-SCs\\u003cbr\\u003eShrublands\\u003cbr\\u003e08\\u002f2008-10\\u002f2014\",\"US-SCw\\u003cbr\\u003eShrublands\\u003cbr\\u003e09\\u002f2008-12\\u002f2009\",\"US-SdH\\u003cbr\\u003eGrasslands\\u003cbr\\u003e05\\u002f2004-12\\u002f2009\",\"US-Skr\\u003cbr\\u003eWetland\\u002fRiparian\\u003cbr\\u003e01\\u002f2004-08\\u002f2011\",\"US-Slt\\u003cbr\\u003eMixed Forests\\u003cbr\\u003e01\\u002f2005-12\\u002f2014\",\"US-Sne\\u003cbr\\u003eWetland\\u002fRiparian\\u003cbr\\u003e05\\u002f2016-12\\u002f2019\",\"US-SO2\\u003cbr\\u003eShrublands\\u003cbr\\u003e03\\u002f1997-12\\u002f2006\",\"US-SO3\\u003cbr\\u003eShrublands\\u003cbr\\u003e03\\u002f1997-12\\u002f2006\",\"US-SO4\\u003cbr\\u003eShrublands\\u003cbr\\u003e01\\u002f2004-12\\u002f2006\",\"US-SP2\\u003cbr\\u003eEvergreen Forests\\u003cbr\\u003e02\\u002f1999-07\\u002f2008\",\"US-SP3\\u003cbr\\u003eEvergreen Forests\\u003cbr\\u003e01\\u002f1999-12\\u002f2010\",\"US-SP4\\u003cbr\\u003eEvergreen Forests\\u003cbr\\u003e04\\u002f1998-06\\u002f1998\",\"US-SRC\\u003cbr\\u003eMixed Forests\\u003cbr\\u003e03\\u002f2008-06\\u002f2014\",\"US-SRG\\u003cbr\\u003eGrasslands\\u003cbr\\u003e04\\u002f2008-06\\u002f2020\",\"US-SRM\\u003cbr\\u003eShrublands\\u003cbr\\u003e01\\u002f2004-06\\u002f2020\",\"US-Srr\\u003cbr\\u003eWetland\\u002fRiparian\\u003cbr\\u003e03\\u002f2016-10\\u002f2017\",\"US-SRS\\u003cbr\\u003eShrublands\\u003cbr\\u003e05\\u002f2011-11\\u002f2018\",\"US-Tw2\\u003cbr\\u003eCroplands\\u003cbr\\u003e05\\u002f2012-04\\u002f2013\",\"US-Tw3\\u003cbr\\u003eCroplands\\u003cbr\\u003e05\\u002f2013-06\\u002f2018\",\"US-Twt\\u003cbr\\u003eCroplands\\u003cbr\\u003e04\\u002f2009-04\\u002f2017\",\"US-Var\\u003cbr\\u003eGrasslands\\u003cbr\\u003e10\\u002f2000-08\\u002f2020\",\"US-WBW\\u003cbr\\u003eMixed Forests\\u003cbr\\u003e01\\u002f1995-06\\u002f2007\",\"US-WCr\\u003cbr\\u003eMixed Forests\\u003cbr\\u003e02\\u002f1999-04\\u002f2020\",\"US-Wkg\\u003cbr\\u003eGrasslands\\u003cbr\\u003e05\\u002f2004-06\\u002f2020\",\"US-xAE\\u003cbr\\u003eGrasslands\\u003cbr\\u003e02\\u002f2018-05\\u002f2020\",\"US-xDC\\u003cbr\\u003eGrasslands\\u003cbr\\u003e10\\u002f2017-05\\u002f2020\",\"US-xDL\\u003cbr\\u003eMixed Forests\\u003cbr\\u003e01\\u002f2017-05\\u002f2020\",\"US-xDS\\u003cbr\\u003eGrasslands\\u003cbr\\u003e01\\u002f2018-05\\u002f2020\",\"US-xJR\\u003cbr\\u003eShrublands\\u003cbr\\u003e01\\u002f2017-05\\u002f2020\",\"US-xNG\\u003cbr\\u003eGrasslands\\u003cbr\\u003e10\\u002f2017-04\\u002f2020\",\"US-xNW\\u003cbr\\u003eGrasslands\\u003cbr\\u003e05\\u002f2018-03\\u002f2020\",\"US-xRM\\u003cbr\\u003eEvergreen Forests\\u003cbr\\u003e06\\u002f2017-05\\u002f2020\",\"US-xSB\\u003cbr\\u003eEvergreen Forests\\u003cbr\\u003e12\\u002f2017-05\\u002f2020\",\"US-xSL\\u003cbr\\u003eCroplands\\u003cbr\\u003e06\\u002f2017-05\\u002f2020\",\"US-xST\\u003cbr\\u003eMixed Forests\\u003cbr\\u003e08\\u002f2018-05\\u002f2020\",\"US-xUN\\u003cbr\\u003eMixed Forests\\u003cbr\\u003e08\\u002f2017-05\\u002f2020\",\"US-xYE\\u003cbr\\u003eEvergreen Forests\\u003cbr\\u003e01\\u002f2018-05\\u002f2020\",\"MB_Pch\\u003cbr\\u003eCroplands\\u003cbr\\u003e04\\u002f2012-12\\u002f2015\",\"Ellendale\\u003cbr\\u003eCroplands\\u003cbr\\u003e8\\u002f2018-12\\u002f2020\",\"manilacotton\\u003cbr\\u003eCroplands\\u003cbr\\u003e5\\u002f2016-10\\u002f2018\",\"stonevillesoy\\u003cbr\\u003eCroplands\\u003cbr\\u003e04\\u002f2017-07\\u002f2019\",\"US-OF1\\u003cbr\\u003eCroplands\\u003cbr\\u003e5\\u002f2017-9\\u002f2017\",\"US-OF2\\u003cbr\\u003eCroplands\\u003cbr\\u003e6\\u002f2017-9\\u002f2017\",\"US-OF4\\u003cbr\\u003eCroplands\\u003cbr\\u003e5\\u002f2018-8\\u002f2018\",\"US-OF6\\u003cbr\\u003eCroplands\\u003cbr\\u003e5\\u002f2018-8\\u002f2018\",\"S2\\u003cbr\\u003eCroplands\\u003cbr\\u003e09\\u002f2017-04\\u002f2021\",\"ALARC2_Smith6\\u003cbr\\u003eCroplands\\u003cbr\\u003e01\\u002f2018-06\\u002f2018\",\"Almond_High\\u003cbr\\u003eCroplands\\u003cbr\\u003e10\\u002f2016-10\\u002f2019\",\"Almond_Low\\u003cbr\\u003eCroplands\\u003cbr\\u003e10\\u002f2016-10\\u002f2019\",\"Almond_Med\\u003cbr\\u003eCroplands\\u003cbr\\u003e09\\u002f2016-10\\u002f2019\",\"JPL1_JV114\\u003cbr\\u003eCroplands\\u003cbr\\u003e09\\u002f2018-12\\u002f2018\",\"JPL1_Smith5\\u003cbr\\u003eCroplands\\u003cbr\\u003e12\\u002f2017-06\\u002f2018\",\"UA1_HartFarm\\u003cbr\\u003eCroplands\\u003cbr\\u003e12\\u002f2018-05\\u002f2019\",\"UA1_JV187\\u003cbr\\u003eCroplands\\u003cbr\\u003e03\\u002f2018-07\\u002f2018\",\"UA1_KN18\\u003cbr\\u003eCroplands\\u003cbr\\u003e09\\u002f2018-11\\u002f2018\",\"UA2_JV330\\u003cbr\\u003eCroplands\\u003cbr\\u003e11\\u002f2018-01\\u002f2019\",\"UA2_KN20\\u003cbr\\u003eCroplands\\u003cbr\\u003e02\\u002f2019-03\\u002f2019\",\"UA3_JV108\\u003cbr\\u003eCroplands\\u003cbr\\u003e03\\u002f2018-06\\u002f2018\",\"UA3_KN15\\u003cbr\\u003eCroplands\\u003cbr\\u003e09\\u002f2018-11\\u002f2018\",\"LYS_NE\\u003cbr\\u003eCroplands\\u003cbr\\u003e5\\u002f2013-10\\u002f2016\",\"LYS_NW\\u003cbr\\u003eCroplands\\u003cbr\\u003e6\\u002f2013-10\\u002f2016\",\"LYS_SE\\u003cbr\\u003eCroplands\\u003cbr\\u003e5\\u002f2013-10\\u002f2016\",\"LYS_SW\\u003cbr\\u003eCroplands\\u003cbr\\u003e6\\u002f2013-10\\u002f2016\",\"BAR012\\u003cbr\\u003eCroplands\\u003cbr\\u003e05\\u002f2017-11\\u002f2018\",\"RIP760\\u003cbr\\u003eCroplands\\u003cbr\\u003e05\\u002f2017-11\\u002f2018\",\"SLM001\\u003cbr\\u003eCroplands\\u003cbr\\u003e01\\u002f2017-11\\u002f2018\",\"B_01\\u003cbr\\u003eCroplands\\u003cbr\\u003e03\\u002f2005-04\\u002f2007\",\"B_11\\u003cbr\\u003eCroplands\\u003cbr\\u003e03\\u002f2005-03\\u002f2007\",\"ET_1\\u003cbr\\u003eShrublands\\u003cbr\\u003e01\\u002f2004-10\\u002f2004\",\"ET_8\\u003cbr\\u003eCroplands\\u003cbr\\u003e06\\u002f2003-11\\u002f2004\",\"MOVAL\\u003cbr\\u003eGrasslands\\u003cbr\\u003e04\\u002f1997-02\\u002f2000\",\"MR\\u003cbr\\u003eWetland\\u002fRiparian\\u003cbr\\u003e07\\u002f2003-09\\u002f2006\",\"TAM\\u003cbr\\u003eWetland\\u002fRiparian\\u003cbr\\u003e03\\u002f2005-03\\u002f2007\",\"VR\\u003cbr\\u003eWetland\\u002fRiparian\\u003cbr\\u003e02\\u002f2003-03\\u002f2005\",\"AFD\\u003cbr\\u003eShrublands\\u003cbr\\u003e11\\u002f2011-11\\u002f2013\",\"AFS\\u003cbr\\u003eGrasslands\\u003cbr\\u003e11\\u002f2011-11\\u002f2013\",\"BPHV\\u003cbr\\u003eGrasslands\\u003cbr\\u003e10\\u002f2012-09\\u002f2013\",\"BPLV\\u003cbr\\u003eGrasslands\\u003cbr\\u003e10\\u002f2012-09\\u002f2013\",\"DVDV\\u003cbr\\u003eShrublands\\u003cbr\\u003e10\\u002f2009-09\\u002f2011\",\"KV_1\\u003cbr\\u003eShrublands\\u003cbr\\u003e08\\u002f2011-08\\u002f2012\",\"KV_2\\u003cbr\\u003eShrublands\\u003cbr\\u003e08\\u002f2010-08\\u002f2012\",\"KV_4\\u003cbr\\u003eGrasslands\\u003cbr\\u003e11\\u002f2011-11\\u002f2012\",\"SPV_1\\u003cbr\\u003eShrublands\\u003cbr\\u003e09\\u002f2005-08\\u002f2007\",\"SPV_3\\u003cbr\\u003eGrasslands\\u003cbr\\u003e09\\u002f2005-08\\u002f2007\",\"SV_5\\u003cbr\\u003eShrublands\\u003cbr\\u003e10\\u002f2007-09\\u002f2009\",\"SV_6\\u003cbr\\u003eShrublands\\u003cbr\\u003e10\\u002f2007-09\\u002f2009\",\"UMVW\\u003cbr\\u003eShrublands\\u003cbr\\u003e10\\u002f2005-09\\u002f2006\",\"UOVLO\\u003cbr\\u003eShrublands\\u003cbr\\u003e07\\u002f1998-09\\u002f2000\",\"UOVMD\\u003cbr\\u003eGrasslands\\u003cbr\\u003e12\\u002f1998-09\\u002f2000\",\"UOVUP\\u003cbr\\u003eShrublands\\u003cbr\\u003e01\\u002f1998-09\\u002f2000\",\"WRV_1\\u003cbr\\u003eShrublands\\u003cbr\\u003e09\\u002f2005-08\\u002f2007\",\"WRV_2\\u003cbr\\u003eShrublands\\u003cbr\\u003e09\\u002f2006-08\\u002f2007\"],\"type\":\"scattergeo\"}],                        {\"template\":{\"data\":{\"barpolar\":[{\"marker\":{\"line\":{\"color\":\"rgb(17,17,17)\",\"width\":0.5},\"pattern\":{\"fillmode\":\"overlay\",\"size\":10,\"solidity\":0.2}},\"type\":\"barpolar\"}],\"bar\":[{\"error_x\":{\"color\":\"#f2f5fa\"},\"error_y\":{\"color\":\"#f2f5fa\"},\"marker\":{\"line\":{\"color\":\"rgb(17,17,17)\",\"width\":0.5},\"pattern\":{\"fillmode\":\"overlay\",\"size\":10,\"solidity\":0.2}},\"type\":\"bar\"}],\"carpet\":[{\"aaxis\":{\"endlinecolor\":\"#A2B1C6\",\"gridcolor\":\"#506784\",\"linecolor\":\"#506784\",\"minorgridcolor\":\"#506784\",\"startlinecolor\":\"#A2B1C6\"},\"baxis\":{\"endlinecolor\":\"#A2B1C6\",\"gridcolor\":\"#506784\",\"linecolor\":\"#506784\",\"minorgridcolor\":\"#506784\",\"startlinecolor\":\"#A2B1C6\"},\"type\":\"carpet\"}],\"choropleth\":[{\"colorbar\":{\"outlinewidth\":0,\"ticks\":\"\"},\"type\":\"choropleth\"}],\"contourcarpet\":[{\"colorbar\":{\"outlinewidth\":0,\"ticks\":\"\"},\"type\":\"contourcarpet\"}],\"contour\":[{\"colorbar\":{\"outlinewidth\":0,\"ticks\":\"\"},\"colorscale\":[[0.0,\"#0d0887\"],[0.1111111111111111,\"#46039f\"],[0.2222222222222222,\"#7201a8\"],[0.3333333333333333,\"#9c179e\"],[0.4444444444444444,\"#bd3786\"],[0.5555555555555556,\"#d8576b\"],[0.6666666666666666,\"#ed7953\"],[0.7777777777777778,\"#fb9f3a\"],[0.8888888888888888,\"#fdca26\"],[1.0,\"#f0f921\"]],\"type\":\"contour\"}],\"heatmapgl\":[{\"colorbar\":{\"outlinewidth\":0,\"ticks\":\"\"},\"colorscale\":[[0.0,\"#0d0887\"],[0.1111111111111111,\"#46039f\"],[0.2222222222222222,\"#7201a8\"],[0.3333333333333333,\"#9c179e\"],[0.4444444444444444,\"#bd3786\"],[0.5555555555555556,\"#d8576b\"],[0.6666666666666666,\"#ed7953\"],[0.7777777777777778,\"#fb9f3a\"],[0.8888888888888888,\"#fdca26\"],[1.0,\"#f0f921\"]],\"type\":\"heatmapgl\"}],\"heatmap\":[{\"colorbar\":{\"outlinewidth\":0,\"ticks\":\"\"},\"colorscale\":[[0.0,\"#0d0887\"],[0.1111111111111111,\"#46039f\"],[0.2222222222222222,\"#7201a8\"],[0.3333333333333333,\"#9c179e\"],[0.4444444444444444,\"#bd3786\"],[0.5555555555555556,\"#d8576b\"],[0.6666666666666666,\"#ed7953\"],[0.7777777777777778,\"#fb9f3a\"],[0.8888888888888888,\"#fdca26\"],[1.0,\"#f0f921\"]],\"type\":\"heatmap\"}],\"histogram2dcontour\":[{\"colorbar\":{\"outlinewidth\":0,\"ticks\":\"\"},\"colorscale\":[[0.0,\"#0d0887\"],[0.1111111111111111,\"#46039f\"],[0.2222222222222222,\"#7201a8\"],[0.3333333333333333,\"#9c179e\"],[0.4444444444444444,\"#bd3786\"],[0.5555555555555556,\"#d8576b\"],[0.6666666666666666,\"#ed7953\"],[0.7777777777777778,\"#fb9f3a\"],[0.8888888888888888,\"#fdca26\"],[1.0,\"#f0f921\"]],\"type\":\"histogram2dcontour\"}],\"histogram2d\":[{\"colorbar\":{\"outlinewidth\":0,\"ticks\":\"\"},\"colorscale\":[[0.0,\"#0d0887\"],[0.1111111111111111,\"#46039f\"],[0.2222222222222222,\"#7201a8\"],[0.3333333333333333,\"#9c179e\"],[0.4444444444444444,\"#bd3786\"],[0.5555555555555556,\"#d8576b\"],[0.6666666666666666,\"#ed7953\"],[0.7777777777777778,\"#fb9f3a\"],[0.8888888888888888,\"#fdca26\"],[1.0,\"#f0f921\"]],\"type\":\"histogram2d\"}],\"histogram\":[{\"marker\":{\"pattern\":{\"fillmode\":\"overlay\",\"size\":10,\"solidity\":0.2}},\"type\":\"histogram\"}],\"mesh3d\":[{\"colorbar\":{\"outlinewidth\":0,\"ticks\":\"\"},\"type\":\"mesh3d\"}],\"parcoords\":[{\"line\":{\"colorbar\":{\"outlinewidth\":0,\"ticks\":\"\"}},\"type\":\"parcoords\"}],\"pie\":[{\"automargin\":true,\"type\":\"pie\"}],\"scatter3d\":[{\"line\":{\"colorbar\":{\"outlinewidth\":0,\"ticks\":\"\"}},\"marker\":{\"colorbar\":{\"outlinewidth\":0,\"ticks\":\"\"}},\"type\":\"scatter3d\"}],\"scattercarpet\":[{\"marker\":{\"colorbar\":{\"outlinewidth\":0,\"ticks\":\"\"}},\"type\":\"scattercarpet\"}],\"scattergeo\":[{\"marker\":{\"colorbar\":{\"outlinewidth\":0,\"ticks\":\"\"}},\"type\":\"scattergeo\"}],\"scattergl\":[{\"marker\":{\"line\":{\"color\":\"#283442\"}},\"type\":\"scattergl\"}],\"scattermapbox\":[{\"marker\":{\"colorbar\":{\"outlinewidth\":0,\"ticks\":\"\"}},\"type\":\"scattermapbox\"}],\"scatterpolargl\":[{\"marker\":{\"colorbar\":{\"outlinewidth\":0,\"ticks\":\"\"}},\"type\":\"scatterpolargl\"}],\"scatterpolar\":[{\"marker\":{\"colorbar\":{\"outlinewidth\":0,\"ticks\":\"\"}},\"type\":\"scatterpolar\"}],\"scatter\":[{\"marker\":{\"line\":{\"color\":\"#283442\"}},\"type\":\"scatter\"}],\"scatterternary\":[{\"marker\":{\"colorbar\":{\"outlinewidth\":0,\"ticks\":\"\"}},\"type\":\"scatterternary\"}],\"surface\":[{\"colorbar\":{\"outlinewidth\":0,\"ticks\":\"\"},\"colorscale\":[[0.0,\"#0d0887\"],[0.1111111111111111,\"#46039f\"],[0.2222222222222222,\"#7201a8\"],[0.3333333333333333,\"#9c179e\"],[0.4444444444444444,\"#bd3786\"],[0.5555555555555556,\"#d8576b\"],[0.6666666666666666,\"#ed7953\"],[0.7777777777777778,\"#fb9f3a\"],[0.8888888888888888,\"#fdca26\"],[1.0,\"#f0f921\"]],\"type\":\"surface\"}],\"table\":[{\"cells\":{\"fill\":{\"color\":\"#506784\"},\"line\":{\"color\":\"rgb(17,17,17)\"}},\"header\":{\"fill\":{\"color\":\"#2a3f5f\"},\"line\":{\"color\":\"rgb(17,17,17)\"}},\"type\":\"table\"}]},\"layout\":{\"annotationdefaults\":{\"arrowcolor\":\"#f2f5fa\",\"arrowhead\":0,\"arrowwidth\":1},\"autotypenumbers\":\"strict\",\"coloraxis\":{\"colorbar\":{\"outlinewidth\":0,\"ticks\":\"\"}},\"colorscale\":{\"diverging\":[[0,\"#8e0152\"],[0.1,\"#c51b7d\"],[0.2,\"#de77ae\"],[0.3,\"#f1b6da\"],[0.4,\"#fde0ef\"],[0.5,\"#f7f7f7\"],[0.6,\"#e6f5d0\"],[0.7,\"#b8e186\"],[0.8,\"#7fbc41\"],[0.9,\"#4d9221\"],[1,\"#276419\"]],\"sequential\":[[0.0,\"#0d0887\"],[0.1111111111111111,\"#46039f\"],[0.2222222222222222,\"#7201a8\"],[0.3333333333333333,\"#9c179e\"],[0.4444444444444444,\"#bd3786\"],[0.5555555555555556,\"#d8576b\"],[0.6666666666666666,\"#ed7953\"],[0.7777777777777778,\"#fb9f3a\"],[0.8888888888888888,\"#fdca26\"],[1.0,\"#f0f921\"]],\"sequentialminus\":[[0.0,\"#0d0887\"],[0.1111111111111111,\"#46039f\"],[0.2222222222222222,\"#7201a8\"],[0.3333333333333333,\"#9c179e\"],[0.4444444444444444,\"#bd3786\"],[0.5555555555555556,\"#d8576b\"],[0.6666666666666666,\"#ed7953\"],[0.7777777777777778,\"#fb9f3a\"],[0.8888888888888888,\"#fdca26\"],[1.0,\"#f0f921\"]]},\"colorway\":[\"#636efa\",\"#EF553B\",\"#00cc96\",\"#ab63fa\",\"#FFA15A\",\"#19d3f3\",\"#FF6692\",\"#B6E880\",\"#FF97FF\",\"#FECB52\"],\"font\":{\"color\":\"#f2f5fa\"},\"geo\":{\"bgcolor\":\"rgb(17,17,17)\",\"lakecolor\":\"rgb(17,17,17)\",\"landcolor\":\"rgb(17,17,17)\",\"showlakes\":true,\"showland\":true,\"subunitcolor\":\"#506784\"},\"hoverlabel\":{\"align\":\"left\"},\"hovermode\":\"closest\",\"mapbox\":{\"style\":\"dark\"},\"paper_bgcolor\":\"rgb(17,17,17)\",\"plot_bgcolor\":\"rgb(17,17,17)\",\"polar\":{\"angularaxis\":{\"gridcolor\":\"#506784\",\"linecolor\":\"#506784\",\"ticks\":\"\"},\"bgcolor\":\"rgb(17,17,17)\",\"radialaxis\":{\"gridcolor\":\"#506784\",\"linecolor\":\"#506784\",\"ticks\":\"\"}},\"scene\":{\"xaxis\":{\"backgroundcolor\":\"rgb(17,17,17)\",\"gridcolor\":\"#506784\",\"gridwidth\":2,\"linecolor\":\"#506784\",\"showbackground\":true,\"ticks\":\"\",\"zerolinecolor\":\"#C8D4E3\"},\"yaxis\":{\"backgroundcolor\":\"rgb(17,17,17)\",\"gridcolor\":\"#506784\",\"gridwidth\":2,\"linecolor\":\"#506784\",\"showbackground\":true,\"ticks\":\"\",\"zerolinecolor\":\"#C8D4E3\"},\"zaxis\":{\"backgroundcolor\":\"rgb(17,17,17)\",\"gridcolor\":\"#506784\",\"gridwidth\":2,\"linecolor\":\"#506784\",\"showbackground\":true,\"ticks\":\"\",\"zerolinecolor\":\"#C8D4E3\"}},\"shapedefaults\":{\"line\":{\"color\":\"#f2f5fa\"}},\"sliderdefaults\":{\"bgcolor\":\"#C8D4E3\",\"bordercolor\":\"rgb(17,17,17)\",\"borderwidth\":1,\"tickwidth\":0},\"ternary\":{\"aaxis\":{\"gridcolor\":\"#506784\",\"linecolor\":\"#506784\",\"ticks\":\"\"},\"baxis\":{\"gridcolor\":\"#506784\",\"linecolor\":\"#506784\",\"ticks\":\"\"},\"bgcolor\":\"rgb(17,17,17)\",\"caxis\":{\"gridcolor\":\"#506784\",\"linecolor\":\"#506784\",\"ticks\":\"\"}},\"title\":{\"x\":0.05},\"updatemenudefaults\":{\"bgcolor\":\"#506784\",\"borderwidth\":0},\"xaxis\":{\"automargin\":true,\"gridcolor\":\"#283442\",\"linecolor\":\"#506784\",\"ticks\":\"\",\"title\":{\"standoff\":15},\"zerolinecolor\":\"#283442\",\"zerolinewidth\":2},\"yaxis\":{\"automargin\":true,\"gridcolor\":\"#283442\",\"linecolor\":\"#506784\",\"ticks\":\"\",\"title\":{\"standoff\":15},\"zerolinecolor\":\"#283442\",\"zerolinewidth\":2}}},\"geo\":{\"projection\":{\"type\":\"albers usa\"},\"lonaxis\":{\"showgrid\":true,\"gridwidth\":0.5,\"range\":[-130.0,-70.0],\"dtick\":5},\"lataxis\":{\"showgrid\":true,\"gridwidth\":0.5,\"range\":[20.0,60.0],\"dtick\":5},\"scope\":\"usa\",\"showland\":true,\"landcolor\":\"rgb(212, 212, 212)\",\"subunitcolor\":\"rgb(255, 255, 255)\",\"countrycolor\":\"rgb(255, 255, 255)\",\"showlakes\":true,\"lakecolor\":\"rgb(255, 255, 255)\",\"showsubunits\":true,\"showcountries\":true,\"resolution\":50},\"margin\":{\"r\":0,\"t\":30,\"l\":0,\"b\":0},\"mapbox\":{\"style\":\"satellite-streets\"},\"title\":{\"text\":\"Benchmark Flux Stations\\u003cbr\\u003eVolk et al., 2023\\u003cbr\\u003e(Hover for station info)\"},\"height\":1000,\"width\":1000},                        {\"responsive\": true}                    ).then(function(){\n",
       "                            \n",
       "var gd = document.getElementById('eb624a5e-533a-49d9-8f5a-62d9c16a796d');\n",
       "var x = new MutationObserver(function (mutations, observer) {{\n",
       "        var display = window.getComputedStyle(gd).display;\n",
       "        if (!display || display === 'none') {{\n",
       "            console.log([gd, 'removed!']);\n",
       "            Plotly.purge(gd);\n",
       "            observer.disconnect();\n",
       "        }}\n",
       "}});\n",
       "\n",
       "// Listen for the removal of the full notebook cells\n",
       "var notebookContainer = gd.closest('#notebook-container');\n",
       "if (notebookContainer) {{\n",
       "    x.observe(notebookContainer, {childList: true});\n",
       "}}\n",
       "\n",
       "// Listen for the clearing of the current output cell\n",
       "var outputEl = gd.closest('.output');\n",
       "if (outputEl) {{\n",
       "    x.observe(outputEl, {childList: true});\n",
       "}}\n",
       "\n",
       "                        })                };                });            </script>        </div>"
      ]
     },
     "metadata": {},
     "output_type": "display_data"
    }
   ],
   "source": [
    "import plotly.graph_objects as go\n",
    "\n",
    "gdf_proj = gdf.to_crs(epsg=4326)\n",
    "\n",
    "gdf_proj['label'] = gdf_proj['field_1'].astype(str) + '<br>' + \\\n",
    "                    gdf_proj['field_2'].astype(str) + '<br>' + \\\n",
    "                    gdf_proj['field_5'].astype(str)\n",
    "\n",
    "centroids = gdf_proj.geometry.centroid\n",
    "\n",
    "fig = go.Figure(go.Scattergeo(\n",
    "    lon=centroids.x,\n",
    "    lat=centroids.y,\n",
    "    text=gdf_proj['label'],\n",
    "    mode='markers',\n",
    "    marker=dict(\n",
    "        size=10,\n",
    "        color=gdf_proj['por_days'],\n",
    "        colorscale='Viridis',\n",
    "        colorbar=dict(title='Days in Operation', len=0.2)  # Adjust colorbar length\n",
    "    )\n",
    "))\n",
    "\n",
    "fig.update_layout(\n",
    "    title='Benchmark Flux Stations<br>Volk et al., 2023<br>(Hover for station info)',\n",
    "    geo_scope='usa',\n",
    "    margin={\"r\": 0, \"t\": 30, \"l\": 0, \"b\": 0},\n",
    "    template=\"plotly_dark\",\n",
    "    height=1000,  # Increase map height\n",
    "    width=1000,\n",
    "    geo=dict(\n",
    "        scope='usa',\n",
    "        projection_type=\"albers usa\",\n",
    "        showland=True,\n",
    "        landcolor=\"rgb(212, 212, 212)\",\n",
    "        subunitcolor=\"rgb(255, 255, 255)\",\n",
    "        countrycolor=\"rgb(255, 255, 255)\",\n",
    "        showlakes=True,\n",
    "        lakecolor=\"rgb(255, 255, 255)\",\n",
    "        showsubunits=True,\n",
    "        showcountries=True,\n",
    "        resolution=50,\n",
    "        lonaxis=dict(\n",
    "            showgrid=True,\n",
    "            gridwidth=0.5,\n",
    "            range=[-130.0, -70.0],\n",
    "            dtick=5\n",
    "        ),\n",
    "        lataxis=dict(\n",
    "            showgrid=True,\n",
    "            gridwidth=0.5,\n",
    "            range=[20.0, 60.0],\n",
    "            dtick=5\n",
    "        )\n",
    "    ),\n",
    "    mapbox_style=\"satellite-streets\"\n",
    ")\n",
    "\n",
    "fig.show()"
   ]
  },
  {
   "cell_type": "markdown",
   "id": "70f168b2-1b5f-46b3-a0f9-6f7fbefdc5dd",
   "metadata": {},
   "source": [
    "Instead of using the `clustered_sample_etf` like in the first tutorial, we're going to use `sparse_sample_etf` since we only have one station. We would use the same if we selected from more stations, as they are spread out. The`sparse_sample_etf` function accepts a shapefile.\n",
    "\n",
    "We can use the `select` argument and use a list of our single feature ID to only export that data. \n",
    "\n",
    "Note: In this tutorial, you can modify the function calls to export data for all the flux stations easily; just remove the `select` arguments, and it will get all the data needed for the validation tutorial."
   ]
  },
  {
   "cell_type": "markdown",
   "id": "2767fb87-2b63-4dce-936e-4c8b24c85cf6",
   "metadata": {},
   "source": [
    "### 1. Earth Engine Remote Sensing Extracts"
   ]
  },
  {
   "cell_type": "code",
   "execution_count": 46,
   "id": "bc8cc138-ed27-4344-80c8-06fe3e2f4033",
   "metadata": {},
   "outputs": [
    {
     "name": "stdout",
     "output_type": "stream",
     "text": [
      "Authorized\n"
     ]
    }
   ],
   "source": [
    "landsat = os.path.join(data, 'landsat')\n",
    "extracts = os.path.join(landsat, 'extracts')\n",
    "tables = os.path.join(landsat, 'tables')\n",
    "\n",
    "if not os.path.isdir(tables):\n",
    "    os.makedirs(tables, exist_ok=True)\n",
    "\n",
    "is_authorized()"
   ]
  },
  {
   "cell_type": "code",
   "execution_count": 19,
   "id": "32f94ff6-6e4e-4db0-bbf9-6986c2a61e4b",
   "metadata": {
    "scrolled": true
   },
   "outputs": [
    {
     "name": "stdout",
     "output_type": "stream",
     "text": [
      "ndvi inv_irr\n"
     ]
    },
    {
     "name": "stderr",
     "output_type": "stream",
     "text": [
      "Processing Fields: 100%|██████████████████████| 161/161 [00:04<00:00, 33.62it/s]\n"
     ]
    },
    {
     "name": "stdout",
     "output_type": "stream",
     "text": [
      "NDVI: Exported 6, skipped 5790 files found in /home/dgketchum/PycharmProjects/swim-rs/tutorials/4_Flux_Network/data/landsat/extracts/ndvi/inv_irr\n",
      "ndvi irr\n"
     ]
    },
    {
     "name": "stderr",
     "output_type": "stream",
     "text": [
      "Processing Fields: 100%|████████████████████| 161/161 [00:00<00:00, 3775.06it/s]\n"
     ]
    },
    {
     "name": "stdout",
     "output_type": "stream",
     "text": [
      "NDVI: Exported 0, skipped 5796 files found in /home/dgketchum/PycharmProjects/swim-rs/tutorials/4_Flux_Network/data/landsat/extracts/ndvi/irr\n",
      "etf inv_irr\n"
     ]
    },
    {
     "name": "stderr",
     "output_type": "stream",
     "text": [
      "Processing Fields: 100%|████████████████████| 161/161 [00:00<00:00, 4313.28it/s]\n"
     ]
    },
    {
     "name": "stdout",
     "output_type": "stream",
     "text": [
      "ETf: Exported 0, skipped 3348 files found in /home/dgketchum/PycharmProjects/swim-rs/tutorials/4_Flux_Network/data/landsat/extracts/etf/inv_irr\n",
      "etf irr\n"
     ]
    },
    {
     "name": "stderr",
     "output_type": "stream",
     "text": [
      "Processing Fields: 100%|████████████████████| 161/161 [00:00<00:00, 4332.85it/s]"
     ]
    },
    {
     "name": "stdout",
     "output_type": "stream",
     "text": [
      "ETf: Exported 0, skipped 3348 files found in /home/dgketchum/PycharmProjects/swim-rs/tutorials/4_Flux_Network/data/landsat/extracts/etf/irr\n"
     ]
    },
    {
     "name": "stderr",
     "output_type": "stream",
     "text": [
      "\n"
     ]
    }
   ],
   "source": [
    "# The extraction\n",
    "bucket = 'wudr'\n",
    "\n",
    "for src in ['ndvi', 'etf']:\n",
    "    for mask in ['inv_irr', 'irr']:\n",
    "        \n",
    "        dst = os.path.join(data, 'landsat', 'extracts', src, mask)\n",
    "        \n",
    "        if not os.path.exists(dst):\n",
    "            os.makedirs(dst, exist_ok=True)\n",
    "\n",
    "        if src == 'etf':\n",
    "            print(src, mask)\n",
    "            sparse_sample_etf(shapefile_path, bucket, debug=False, mask_type=mask, check_dir=dst, \n",
    "                              start_yr=1987, end_yr=2022, feature_id=FEATURE_ID)\n",
    "        if src == 'ndvi':\n",
    "            print(src, mask)\n",
    "            sparse_sample_ndvi(shapefile_path, bucket, debug=False, mask_type=mask, check_dir=dst, \n",
    "                               start_yr=1987, end_yr=2022, feature_id=FEATURE_ID)"
   ]
  },
  {
   "cell_type": "code",
   "execution_count": 21,
   "id": "995bb327-bb2a-49ad-90b0-9d2baa4c0735",
   "metadata": {
    "scrolled": true
   },
   "outputs": [
    {
     "name": "stderr",
     "output_type": "stream",
     "text": [
      "Copying Files from wudr: 100%|███████████████| 36/36 [00:00<00:00, 88664.09it/s]\n"
     ]
    },
    {
     "name": "stdout",
     "output_type": "stream",
     "text": [
      "Copied 0 of 36; skipped 36 existing files\n"
     ]
    },
    {
     "name": "stderr",
     "output_type": "stream",
     "text": [
      "Copying Files from wudr: 100%|███████████████| 32/32 [00:00<00:00, 64839.48it/s]\n"
     ]
    },
    {
     "name": "stdout",
     "output_type": "stream",
     "text": [
      "Copied 0 of 32; skipped 32 existing files\n"
     ]
    },
    {
     "name": "stderr",
     "output_type": "stream",
     "text": [
      "Copying Files from wudr: 0it [00:00, ?it/s]\n"
     ]
    },
    {
     "name": "stdout",
     "output_type": "stream",
     "text": [
      "Copied 0 of 0; skipped 0 existing files\n"
     ]
    },
    {
     "name": "stderr",
     "output_type": "stream",
     "text": [
      "Copying Files from wudr: 0it [00:00, ?it/s]\n"
     ]
    },
    {
     "name": "stdout",
     "output_type": "stream",
     "text": [
      "Copied 0 of 0; skipped 0 existing files\n"
     ]
    },
    {
     "name": "stderr",
     "output_type": "stream",
     "text": [
      "Copying Files from wudr: 0it [00:00, ?it/s]\n"
     ]
    },
    {
     "name": "stdout",
     "output_type": "stream",
     "text": [
      "Copied 0 of 0; skipped 0 existing files\n"
     ]
    },
    {
     "name": "stderr",
     "output_type": "stream",
     "text": [
      "Copying Files from wudr: 0it [00:00, ?it/s]\n"
     ]
    },
    {
     "name": "stdout",
     "output_type": "stream",
     "text": [
      "Copied 0 of 0; skipped 0 existing files\n"
     ]
    },
    {
     "name": "stderr",
     "output_type": "stream",
     "text": [
      "Copying Files from wudr: 0it [00:00, ?it/s]\n"
     ]
    },
    {
     "name": "stdout",
     "output_type": "stream",
     "text": [
      "Copied 0 of 0; skipped 0 existing files\n"
     ]
    },
    {
     "name": "stderr",
     "output_type": "stream",
     "text": [
      "Copying Files from wudr: 0it [00:00, ?it/s]\n"
     ]
    },
    {
     "name": "stdout",
     "output_type": "stream",
     "text": [
      "Copied 0 of 0; skipped 0 existing files\n"
     ]
    },
    {
     "name": "stderr",
     "output_type": "stream",
     "text": [
      "Copying Files from wudr: 0it [00:00, ?it/s]\n"
     ]
    },
    {
     "name": "stdout",
     "output_type": "stream",
     "text": [
      "Copied 0 of 0; skipped 0 existing files\n"
     ]
    },
    {
     "name": "stderr",
     "output_type": "stream",
     "text": [
      "Copying Files from wudr: 0it [00:00, ?it/s]\n"
     ]
    },
    {
     "name": "stdout",
     "output_type": "stream",
     "text": [
      "Copied 0 of 0; skipped 0 existing files\n"
     ]
    },
    {
     "name": "stderr",
     "output_type": "stream",
     "text": [
      "Copying Files from wudr: 0it [00:00, ?it/s]\n"
     ]
    },
    {
     "name": "stdout",
     "output_type": "stream",
     "text": [
      "Copied 0 of 0; skipped 0 existing files\n"
     ]
    },
    {
     "name": "stderr",
     "output_type": "stream",
     "text": [
      "Copying Files from wudr: 0it [00:00, ?it/s]\n"
     ]
    },
    {
     "name": "stdout",
     "output_type": "stream",
     "text": [
      "Copied 0 of 0; skipped 0 existing files\n"
     ]
    },
    {
     "name": "stderr",
     "output_type": "stream",
     "text": [
      "Copying Files from wudr: 0it [00:00, ?it/s]\n"
     ]
    },
    {
     "name": "stdout",
     "output_type": "stream",
     "text": [
      "Copied 0 of 0; skipped 0 existing files\n"
     ]
    },
    {
     "name": "stderr",
     "output_type": "stream",
     "text": [
      "Copying Files from wudr: 0it [00:00, ?it/s]\n"
     ]
    },
    {
     "name": "stdout",
     "output_type": "stream",
     "text": [
      "Copied 0 of 0; skipped 0 existing files\n"
     ]
    },
    {
     "name": "stderr",
     "output_type": "stream",
     "text": [
      "Copying Files from wudr: 0it [00:00, ?it/s]\n"
     ]
    },
    {
     "name": "stdout",
     "output_type": "stream",
     "text": [
      "Copied 0 of 0; skipped 0 existing files\n"
     ]
    },
    {
     "name": "stderr",
     "output_type": "stream",
     "text": [
      "Copying Files from wudr: 0it [00:00, ?it/s]\n"
     ]
    },
    {
     "name": "stdout",
     "output_type": "stream",
     "text": [
      "Copied 0 of 0; skipped 0 existing files\n"
     ]
    },
    {
     "name": "stderr",
     "output_type": "stream",
     "text": [
      "Copying Files from wudr: 0it [00:00, ?it/s]\n"
     ]
    },
    {
     "name": "stdout",
     "output_type": "stream",
     "text": [
      "Copied 0 of 0; skipped 0 existing files\n"
     ]
    },
    {
     "name": "stderr",
     "output_type": "stream",
     "text": [
      "Copying Files from wudr: 0it [00:00, ?it/s]\n"
     ]
    },
    {
     "name": "stdout",
     "output_type": "stream",
     "text": [
      "Copied 0 of 0; skipped 0 existing files\n"
     ]
    },
    {
     "name": "stderr",
     "output_type": "stream",
     "text": [
      "Copying Files from wudr: 0it [00:00, ?it/s]\n"
     ]
    },
    {
     "name": "stdout",
     "output_type": "stream",
     "text": [
      "Copied 0 of 0; skipped 0 existing files\n"
     ]
    },
    {
     "name": "stderr",
     "output_type": "stream",
     "text": [
      "Copying Files from wudr: 0it [00:00, ?it/s]\n"
     ]
    },
    {
     "name": "stdout",
     "output_type": "stream",
     "text": [
      "Copied 0 of 0; skipped 0 existing files\n"
     ]
    },
    {
     "name": "stderr",
     "output_type": "stream",
     "text": [
      "Copying Files from wudr: 0it [00:00, ?it/s]\n"
     ]
    },
    {
     "name": "stdout",
     "output_type": "stream",
     "text": [
      "Copied 0 of 0; skipped 0 existing files\n"
     ]
    },
    {
     "name": "stderr",
     "output_type": "stream",
     "text": [
      "Copying Files from wudr: 0it [00:00, ?it/s]\n"
     ]
    },
    {
     "name": "stdout",
     "output_type": "stream",
     "text": [
      "Copied 0 of 0; skipped 0 existing files\n"
     ]
    },
    {
     "name": "stderr",
     "output_type": "stream",
     "text": [
      "Copying Files from wudr: 0it [00:00, ?it/s]\n"
     ]
    },
    {
     "name": "stdout",
     "output_type": "stream",
     "text": [
      "Copied 0 of 0; skipped 0 existing files\n"
     ]
    },
    {
     "name": "stderr",
     "output_type": "stream",
     "text": [
      "Copying Files from wudr: 0it [00:00, ?it/s]\n"
     ]
    },
    {
     "name": "stdout",
     "output_type": "stream",
     "text": [
      "Copied 0 of 0; skipped 0 existing files\n"
     ]
    },
    {
     "name": "stderr",
     "output_type": "stream",
     "text": [
      "Copying Files from wudr: 0it [00:00, ?it/s]\n"
     ]
    },
    {
     "name": "stdout",
     "output_type": "stream",
     "text": [
      "Copied 0 of 0; skipped 0 existing files\n"
     ]
    },
    {
     "name": "stderr",
     "output_type": "stream",
     "text": [
      "Copying Files from wudr: 0it [00:00, ?it/s]\n"
     ]
    },
    {
     "name": "stdout",
     "output_type": "stream",
     "text": [
      "Copied 0 of 0; skipped 0 existing files\n"
     ]
    },
    {
     "name": "stderr",
     "output_type": "stream",
     "text": [
      "Copying Files from wudr: 0it [00:00, ?it/s]\n"
     ]
    },
    {
     "name": "stdout",
     "output_type": "stream",
     "text": [
      "Copied 0 of 0; skipped 0 existing files\n"
     ]
    },
    {
     "name": "stderr",
     "output_type": "stream",
     "text": [
      "Copying Files from wudr: 0it [00:00, ?it/s]\n"
     ]
    },
    {
     "name": "stdout",
     "output_type": "stream",
     "text": [
      "Copied 0 of 0; skipped 0 existing files\n"
     ]
    },
    {
     "name": "stderr",
     "output_type": "stream",
     "text": [
      "Copying Files from wudr: 0it [00:00, ?it/s]\n"
     ]
    },
    {
     "name": "stdout",
     "output_type": "stream",
     "text": [
      "Copied 0 of 0; skipped 0 existing files\n"
     ]
    },
    {
     "name": "stderr",
     "output_type": "stream",
     "text": [
      "Copying Files from wudr: 0it [00:00, ?it/s]\n"
     ]
    },
    {
     "name": "stdout",
     "output_type": "stream",
     "text": [
      "Copied 0 of 0; skipped 0 existing files\n"
     ]
    },
    {
     "name": "stderr",
     "output_type": "stream",
     "text": [
      "Copying Files from wudr: 100%|████████████████████| 6/6 [00:09<00:00,  1.50s/it]\n"
     ]
    },
    {
     "name": "stdout",
     "output_type": "stream",
     "text": [
      "Copied 6 of 6; skipped 0 existing files\n"
     ]
    },
    {
     "name": "stderr",
     "output_type": "stream",
     "text": [
      "Copying Files from wudr: 100%|███████████████| 33/33 [00:00<00:00, 87491.80it/s]\n"
     ]
    },
    {
     "name": "stdout",
     "output_type": "stream",
     "text": [
      "Copied 0 of 33; skipped 33 existing files\n"
     ]
    },
    {
     "name": "stderr",
     "output_type": "stream",
     "text": [
      "Copying Files from wudr: 100%|███████████████| 10/10 [00:00<00:00, 34435.99it/s]\n"
     ]
    },
    {
     "name": "stdout",
     "output_type": "stream",
     "text": [
      "Copied 0 of 10; skipped 10 existing files\n"
     ]
    },
    {
     "name": "stderr",
     "output_type": "stream",
     "text": [
      "Copying Files from wudr: 0it [00:00, ?it/s]\n"
     ]
    },
    {
     "name": "stdout",
     "output_type": "stream",
     "text": [
      "Copied 0 of 0; skipped 0 existing files\n"
     ]
    },
    {
     "name": "stderr",
     "output_type": "stream",
     "text": [
      "Copying Files from wudr: 0it [00:00, ?it/s]\n"
     ]
    },
    {
     "name": "stdout",
     "output_type": "stream",
     "text": [
      "Copied 0 of 0; skipped 0 existing files\n"
     ]
    },
    {
     "name": "stderr",
     "output_type": "stream",
     "text": [
      "Copying Files from wudr: 0it [00:00, ?it/s]\n"
     ]
    },
    {
     "name": "stdout",
     "output_type": "stream",
     "text": [
      "Copied 0 of 0; skipped 0 existing files\n"
     ]
    },
    {
     "name": "stderr",
     "output_type": "stream",
     "text": [
      "Copying Files from wudr: 0it [00:00, ?it/s]\n"
     ]
    },
    {
     "name": "stdout",
     "output_type": "stream",
     "text": [
      "Copied 0 of 0; skipped 0 existing files\n"
     ]
    },
    {
     "name": "stderr",
     "output_type": "stream",
     "text": [
      "Copying Files from wudr: 0it [00:00, ?it/s]\n"
     ]
    },
    {
     "name": "stdout",
     "output_type": "stream",
     "text": [
      "Copied 0 of 0; skipped 0 existing files\n"
     ]
    },
    {
     "name": "stderr",
     "output_type": "stream",
     "text": [
      "Copying Files from wudr: 0it [00:00, ?it/s]\n"
     ]
    },
    {
     "name": "stdout",
     "output_type": "stream",
     "text": [
      "Copied 0 of 0; skipped 0 existing files\n"
     ]
    },
    {
     "name": "stderr",
     "output_type": "stream",
     "text": [
      "Copying Files from wudr: 0it [00:00, ?it/s]\n"
     ]
    },
    {
     "name": "stdout",
     "output_type": "stream",
     "text": [
      "Copied 0 of 0; skipped 0 existing files\n"
     ]
    },
    {
     "name": "stderr",
     "output_type": "stream",
     "text": [
      "Copying Files from wudr: 0it [00:00, ?it/s]\n"
     ]
    },
    {
     "name": "stdout",
     "output_type": "stream",
     "text": [
      "Copied 0 of 0; skipped 0 existing files\n"
     ]
    },
    {
     "name": "stderr",
     "output_type": "stream",
     "text": [
      "Copying Files from wudr: 0it [00:00, ?it/s]\n"
     ]
    },
    {
     "name": "stdout",
     "output_type": "stream",
     "text": [
      "Copied 0 of 0; skipped 0 existing files\n"
     ]
    },
    {
     "name": "stderr",
     "output_type": "stream",
     "text": [
      "Copying Files from wudr: 0it [00:00, ?it/s]\n"
     ]
    },
    {
     "name": "stdout",
     "output_type": "stream",
     "text": [
      "Copied 0 of 0; skipped 0 existing files\n"
     ]
    },
    {
     "name": "stderr",
     "output_type": "stream",
     "text": [
      "Copying Files from wudr: 0it [00:00, ?it/s]\n"
     ]
    },
    {
     "name": "stdout",
     "output_type": "stream",
     "text": [
      "Copied 0 of 0; skipped 0 existing files\n"
     ]
    },
    {
     "name": "stderr",
     "output_type": "stream",
     "text": [
      "Copying Files from wudr: 0it [00:00, ?it/s]\n"
     ]
    },
    {
     "name": "stdout",
     "output_type": "stream",
     "text": [
      "Copied 0 of 0; skipped 0 existing files\n"
     ]
    },
    {
     "name": "stderr",
     "output_type": "stream",
     "text": [
      "Copying Files from wudr: 0it [00:00, ?it/s]\n"
     ]
    },
    {
     "name": "stdout",
     "output_type": "stream",
     "text": [
      "Copied 0 of 0; skipped 0 existing files\n"
     ]
    },
    {
     "name": "stderr",
     "output_type": "stream",
     "text": [
      "Copying Files from wudr: 0it [00:00, ?it/s]\n"
     ]
    },
    {
     "name": "stdout",
     "output_type": "stream",
     "text": [
      "Copied 0 of 0; skipped 0 existing files\n"
     ]
    },
    {
     "name": "stderr",
     "output_type": "stream",
     "text": [
      "Copying Files from wudr: 0it [00:00, ?it/s]\n"
     ]
    },
    {
     "name": "stdout",
     "output_type": "stream",
     "text": [
      "Copied 0 of 0; skipped 0 existing files\n"
     ]
    },
    {
     "name": "stderr",
     "output_type": "stream",
     "text": [
      "Copying Files from wudr: 0it [00:00, ?it/s]\n"
     ]
    },
    {
     "name": "stdout",
     "output_type": "stream",
     "text": [
      "Copied 0 of 0; skipped 0 existing files\n"
     ]
    },
    {
     "name": "stderr",
     "output_type": "stream",
     "text": [
      "Copying Files from wudr: 0it [00:00, ?it/s]\n"
     ]
    },
    {
     "name": "stdout",
     "output_type": "stream",
     "text": [
      "Copied 0 of 0; skipped 0 existing files\n"
     ]
    },
    {
     "name": "stderr",
     "output_type": "stream",
     "text": [
      "Copying Files from wudr: 0it [00:00, ?it/s]\n"
     ]
    },
    {
     "name": "stdout",
     "output_type": "stream",
     "text": [
      "Copied 0 of 0; skipped 0 existing files\n"
     ]
    },
    {
     "name": "stderr",
     "output_type": "stream",
     "text": [
      "Copying Files from wudr: 0it [00:00, ?it/s]\n"
     ]
    },
    {
     "name": "stdout",
     "output_type": "stream",
     "text": [
      "Copied 0 of 0; skipped 0 existing files\n"
     ]
    },
    {
     "name": "stderr",
     "output_type": "stream",
     "text": [
      "Copying Files from wudr: 0it [00:00, ?it/s]\n"
     ]
    },
    {
     "name": "stdout",
     "output_type": "stream",
     "text": [
      "Copied 0 of 0; skipped 0 existing files\n"
     ]
    },
    {
     "name": "stderr",
     "output_type": "stream",
     "text": [
      "Copying Files from wudr: 0it [00:00, ?it/s]\n"
     ]
    },
    {
     "name": "stdout",
     "output_type": "stream",
     "text": [
      "Copied 0 of 0; skipped 0 existing files\n"
     ]
    },
    {
     "name": "stderr",
     "output_type": "stream",
     "text": [
      "Copying Files from wudr: 0it [00:00, ?it/s]\n"
     ]
    },
    {
     "name": "stdout",
     "output_type": "stream",
     "text": [
      "Copied 0 of 0; skipped 0 existing files\n"
     ]
    },
    {
     "name": "stderr",
     "output_type": "stream",
     "text": [
      "Copying Files from wudr: 0it [00:00, ?it/s]\n"
     ]
    },
    {
     "name": "stdout",
     "output_type": "stream",
     "text": [
      "Copied 0 of 0; skipped 0 existing files\n"
     ]
    },
    {
     "name": "stderr",
     "output_type": "stream",
     "text": [
      "Copying Files from wudr: 0it [00:00, ?it/s]\n"
     ]
    },
    {
     "name": "stdout",
     "output_type": "stream",
     "text": [
      "Copied 0 of 0; skipped 0 existing files\n"
     ]
    },
    {
     "name": "stderr",
     "output_type": "stream",
     "text": [
      "Copying Files from wudr: 0it [00:00, ?it/s]\n"
     ]
    },
    {
     "name": "stdout",
     "output_type": "stream",
     "text": [
      "Copied 0 of 0; skipped 0 existing files\n"
     ]
    },
    {
     "name": "stderr",
     "output_type": "stream",
     "text": [
      "Copying Files from wudr: 0it [00:00, ?it/s]\n"
     ]
    },
    {
     "name": "stdout",
     "output_type": "stream",
     "text": [
      "Copied 0 of 0; skipped 0 existing files\n"
     ]
    },
    {
     "name": "stderr",
     "output_type": "stream",
     "text": [
      "Copying Files from wudr: 0it [00:00, ?it/s]\n"
     ]
    },
    {
     "name": "stdout",
     "output_type": "stream",
     "text": [
      "Copied 0 of 0; skipped 0 existing files\n"
     ]
    },
    {
     "name": "stderr",
     "output_type": "stream",
     "text": [
      "Copying Files from wudr: 0it [00:00, ?it/s]\n"
     ]
    },
    {
     "name": "stdout",
     "output_type": "stream",
     "text": [
      "Copied 0 of 0; skipped 0 existing files\n"
     ]
    },
    {
     "name": "stderr",
     "output_type": "stream",
     "text": [
      "Copying Files from wudr: 0it [00:00, ?it/s]\n"
     ]
    },
    {
     "name": "stdout",
     "output_type": "stream",
     "text": [
      "Copied 0 of 0; skipped 0 existing files\n"
     ]
    },
    {
     "name": "stderr",
     "output_type": "stream",
     "text": [
      "Copying Files from wudr: 0it [00:00, ?it/s]\n"
     ]
    },
    {
     "name": "stdout",
     "output_type": "stream",
     "text": [
      "Copied 0 of 0; skipped 0 existing files\n"
     ]
    },
    {
     "name": "stderr",
     "output_type": "stream",
     "text": [
      "Copying Files from wudr: 0it [00:00, ?it/s]\n"
     ]
    },
    {
     "name": "stdout",
     "output_type": "stream",
     "text": [
      "Copied 0 of 0; skipped 0 existing files\n"
     ]
    },
    {
     "name": "stderr",
     "output_type": "stream",
     "text": [
      "Copying Files from wudr: 0it [00:00, ?it/s]\n"
     ]
    },
    {
     "name": "stdout",
     "output_type": "stream",
     "text": [
      "Copied 0 of 0; skipped 0 existing files\n"
     ]
    },
    {
     "name": "stderr",
     "output_type": "stream",
     "text": [
      "Copying Files from wudr: 0it [00:00, ?it/s]\n"
     ]
    },
    {
     "name": "stdout",
     "output_type": "stream",
     "text": [
      "Copied 0 of 0; skipped 0 existing files\n"
     ]
    },
    {
     "name": "stderr",
     "output_type": "stream",
     "text": [
      "Copying Files from wudr: 0it [00:00, ?it/s]\n"
     ]
    },
    {
     "name": "stdout",
     "output_type": "stream",
     "text": [
      "Copied 0 of 0; skipped 0 existing files\n"
     ]
    },
    {
     "name": "stderr",
     "output_type": "stream",
     "text": [
      "Copying Files from wudr: 0it [00:00, ?it/s]\n"
     ]
    },
    {
     "name": "stdout",
     "output_type": "stream",
     "text": [
      "Copied 0 of 0; skipped 0 existing files\n"
     ]
    },
    {
     "name": "stderr",
     "output_type": "stream",
     "text": [
      "Copying Files from wudr: 0it [00:00, ?it/s]\n"
     ]
    },
    {
     "name": "stdout",
     "output_type": "stream",
     "text": [
      "Copied 0 of 0; skipped 0 existing files\n"
     ]
    },
    {
     "name": "stderr",
     "output_type": "stream",
     "text": [
      "Copying Files from wudr: 0it [00:00, ?it/s]\n"
     ]
    },
    {
     "name": "stdout",
     "output_type": "stream",
     "text": [
      "Copied 0 of 0; skipped 0 existing files\n"
     ]
    },
    {
     "name": "stderr",
     "output_type": "stream",
     "text": [
      "Copying Files from wudr: 0it [00:00, ?it/s]\n"
     ]
    },
    {
     "name": "stdout",
     "output_type": "stream",
     "text": [
      "Copied 0 of 0; skipped 0 existing files\n"
     ]
    },
    {
     "name": "stderr",
     "output_type": "stream",
     "text": [
      "Copying Files from wudr: 0it [00:00, ?it/s]\n"
     ]
    },
    {
     "name": "stdout",
     "output_type": "stream",
     "text": [
      "Copied 0 of 0; skipped 0 existing files\n"
     ]
    },
    {
     "name": "stderr",
     "output_type": "stream",
     "text": [
      "Copying Files from wudr: 0it [00:00, ?it/s]\n"
     ]
    },
    {
     "name": "stdout",
     "output_type": "stream",
     "text": [
      "Copied 0 of 0; skipped 0 existing files\n"
     ]
    },
    {
     "name": "stderr",
     "output_type": "stream",
     "text": [
      "Copying Files from wudr: 0it [00:00, ?it/s]\n"
     ]
    },
    {
     "name": "stdout",
     "output_type": "stream",
     "text": [
      "Copied 0 of 0; skipped 0 existing files\n"
     ]
    },
    {
     "name": "stderr",
     "output_type": "stream",
     "text": [
      "Copying Files from wudr: 0it [00:00, ?it/s]\n"
     ]
    },
    {
     "name": "stdout",
     "output_type": "stream",
     "text": [
      "Copied 0 of 0; skipped 0 existing files\n"
     ]
    },
    {
     "name": "stderr",
     "output_type": "stream",
     "text": [
      "Copying Files from wudr: 0it [00:00, ?it/s]\n"
     ]
    },
    {
     "name": "stdout",
     "output_type": "stream",
     "text": [
      "Copied 0 of 0; skipped 0 existing files\n"
     ]
    },
    {
     "name": "stderr",
     "output_type": "stream",
     "text": [
      "Copying Files from wudr: 0it [00:00, ?it/s]\n"
     ]
    },
    {
     "name": "stdout",
     "output_type": "stream",
     "text": [
      "Copied 0 of 0; skipped 0 existing files\n"
     ]
    },
    {
     "name": "stderr",
     "output_type": "stream",
     "text": [
      "Copying Files from wudr: 0it [00:00, ?it/s]\n"
     ]
    },
    {
     "name": "stdout",
     "output_type": "stream",
     "text": [
      "Copied 0 of 0; skipped 0 existing files\n"
     ]
    },
    {
     "name": "stderr",
     "output_type": "stream",
     "text": [
      "Copying Files from wudr: 0it [00:00, ?it/s]\n"
     ]
    },
    {
     "name": "stdout",
     "output_type": "stream",
     "text": [
      "Copied 0 of 0; skipped 0 existing files\n"
     ]
    },
    {
     "name": "stderr",
     "output_type": "stream",
     "text": [
      "Copying Files from wudr: 0it [00:00, ?it/s]\n"
     ]
    },
    {
     "name": "stdout",
     "output_type": "stream",
     "text": [
      "Copied 0 of 0; skipped 0 existing files\n"
     ]
    },
    {
     "name": "stderr",
     "output_type": "stream",
     "text": [
      "Copying Files from wudr: 0it [00:00, ?it/s]\n"
     ]
    },
    {
     "name": "stdout",
     "output_type": "stream",
     "text": [
      "Copied 0 of 0; skipped 0 existing files\n"
     ]
    },
    {
     "name": "stderr",
     "output_type": "stream",
     "text": [
      "Copying Files from wudr: 0it [00:00, ?it/s]\n"
     ]
    },
    {
     "name": "stdout",
     "output_type": "stream",
     "text": [
      "Copied 0 of 0; skipped 0 existing files\n"
     ]
    },
    {
     "name": "stderr",
     "output_type": "stream",
     "text": [
      "Copying Files from wudr: 0it [00:00, ?it/s]\n"
     ]
    },
    {
     "name": "stdout",
     "output_type": "stream",
     "text": [
      "Copied 0 of 0; skipped 0 existing files\n"
     ]
    },
    {
     "name": "stderr",
     "output_type": "stream",
     "text": [
      "Copying Files from wudr: 0it [00:00, ?it/s]\n"
     ]
    },
    {
     "name": "stdout",
     "output_type": "stream",
     "text": [
      "Copied 0 of 0; skipped 0 existing files\n"
     ]
    },
    {
     "name": "stderr",
     "output_type": "stream",
     "text": [
      "Copying Files from wudr: 0it [00:00, ?it/s]\n"
     ]
    },
    {
     "name": "stdout",
     "output_type": "stream",
     "text": [
      "Copied 0 of 0; skipped 0 existing files\n"
     ]
    },
    {
     "name": "stderr",
     "output_type": "stream",
     "text": [
      "Copying Files from wudr: 0it [00:00, ?it/s]\n"
     ]
    },
    {
     "name": "stdout",
     "output_type": "stream",
     "text": [
      "Copied 0 of 0; skipped 0 existing files\n"
     ]
    },
    {
     "name": "stderr",
     "output_type": "stream",
     "text": [
      "Copying Files from wudr: 0it [00:00, ?it/s]\n"
     ]
    },
    {
     "name": "stdout",
     "output_type": "stream",
     "text": [
      "Copied 0 of 0; skipped 0 existing files\n"
     ]
    },
    {
     "name": "stderr",
     "output_type": "stream",
     "text": [
      "Copying Files from wudr: 0it [00:00, ?it/s]\n"
     ]
    },
    {
     "name": "stdout",
     "output_type": "stream",
     "text": [
      "Copied 0 of 0; skipped 0 existing files\n"
     ]
    },
    {
     "name": "stderr",
     "output_type": "stream",
     "text": [
      "Copying Files from wudr: 0it [00:00, ?it/s]\n"
     ]
    },
    {
     "name": "stdout",
     "output_type": "stream",
     "text": [
      "Copied 0 of 0; skipped 0 existing files\n"
     ]
    },
    {
     "name": "stderr",
     "output_type": "stream",
     "text": [
      "Copying Files from wudr: 0it [00:00, ?it/s]\n"
     ]
    },
    {
     "name": "stdout",
     "output_type": "stream",
     "text": [
      "Copied 0 of 0; skipped 0 existing files\n"
     ]
    },
    {
     "name": "stderr",
     "output_type": "stream",
     "text": [
      "Copying Files from wudr: 0it [00:00, ?it/s]\n"
     ]
    },
    {
     "name": "stdout",
     "output_type": "stream",
     "text": [
      "Copied 0 of 0; skipped 0 existing files\n"
     ]
    },
    {
     "name": "stderr",
     "output_type": "stream",
     "text": [
      "Copying Files from wudr: 0it [00:00, ?it/s]\n"
     ]
    },
    {
     "name": "stdout",
     "output_type": "stream",
     "text": [
      "Copied 0 of 0; skipped 0 existing files\n"
     ]
    },
    {
     "name": "stderr",
     "output_type": "stream",
     "text": [
      "Copying Files from wudr: 0it [00:00, ?it/s]\n"
     ]
    },
    {
     "name": "stdout",
     "output_type": "stream",
     "text": [
      "Copied 0 of 0; skipped 0 existing files\n"
     ]
    },
    {
     "name": "stderr",
     "output_type": "stream",
     "text": [
      "Copying Files from wudr: 0it [00:00, ?it/s]\n"
     ]
    },
    {
     "name": "stdout",
     "output_type": "stream",
     "text": [
      "Copied 0 of 0; skipped 0 existing files\n"
     ]
    },
    {
     "name": "stderr",
     "output_type": "stream",
     "text": [
      "Copying Files from wudr: 0it [00:00, ?it/s]\n"
     ]
    },
    {
     "name": "stdout",
     "output_type": "stream",
     "text": [
      "Copied 0 of 0; skipped 0 existing files\n"
     ]
    },
    {
     "name": "stderr",
     "output_type": "stream",
     "text": [
      "Copying Files from wudr: 0it [00:00, ?it/s]\n"
     ]
    },
    {
     "name": "stdout",
     "output_type": "stream",
     "text": [
      "Copied 0 of 0; skipped 0 existing files\n"
     ]
    },
    {
     "name": "stderr",
     "output_type": "stream",
     "text": [
      "Copying Files from wudr: 0it [00:00, ?it/s]\n"
     ]
    },
    {
     "name": "stdout",
     "output_type": "stream",
     "text": [
      "Copied 0 of 0; skipped 0 existing files\n"
     ]
    },
    {
     "name": "stderr",
     "output_type": "stream",
     "text": [
      "Copying Files from wudr: 0it [00:00, ?it/s]\n"
     ]
    },
    {
     "name": "stdout",
     "output_type": "stream",
     "text": [
      "Copied 0 of 0; skipped 0 existing files\n"
     ]
    },
    {
     "name": "stderr",
     "output_type": "stream",
     "text": [
      "Copying Files from wudr: 0it [00:00, ?it/s]\n"
     ]
    },
    {
     "name": "stdout",
     "output_type": "stream",
     "text": [
      "Copied 0 of 0; skipped 0 existing files\n"
     ]
    },
    {
     "name": "stderr",
     "output_type": "stream",
     "text": [
      "Copying Files from wudr: 0it [00:00, ?it/s]\n"
     ]
    },
    {
     "name": "stdout",
     "output_type": "stream",
     "text": [
      "Copied 0 of 0; skipped 0 existing files\n"
     ]
    },
    {
     "name": "stderr",
     "output_type": "stream",
     "text": [
      "Copying Files from wudr: 0it [00:00, ?it/s]\n"
     ]
    },
    {
     "name": "stdout",
     "output_type": "stream",
     "text": [
      "Copied 0 of 0; skipped 0 existing files\n"
     ]
    },
    {
     "name": "stderr",
     "output_type": "stream",
     "text": [
      "Copying Files from wudr: 0it [00:00, ?it/s]\n"
     ]
    },
    {
     "name": "stdout",
     "output_type": "stream",
     "text": [
      "Copied 0 of 0; skipped 0 existing files\n"
     ]
    },
    {
     "name": "stderr",
     "output_type": "stream",
     "text": [
      "Copying Files from wudr: 0it [00:00, ?it/s]\n"
     ]
    },
    {
     "name": "stdout",
     "output_type": "stream",
     "text": [
      "Copied 0 of 0; skipped 0 existing files\n"
     ]
    },
    {
     "name": "stderr",
     "output_type": "stream",
     "text": [
      "Copying Files from wudr: 0it [00:00, ?it/s]\n"
     ]
    },
    {
     "name": "stdout",
     "output_type": "stream",
     "text": [
      "Copied 0 of 0; skipped 0 existing files\n"
     ]
    },
    {
     "name": "stderr",
     "output_type": "stream",
     "text": [
      "Copying Files from wudr: 0it [00:00, ?it/s]\n"
     ]
    },
    {
     "name": "stdout",
     "output_type": "stream",
     "text": [
      "Copied 0 of 0; skipped 0 existing files\n"
     ]
    },
    {
     "name": "stderr",
     "output_type": "stream",
     "text": [
      "Copying Files from wudr: 0it [00:00, ?it/s]\n"
     ]
    },
    {
     "name": "stdout",
     "output_type": "stream",
     "text": [
      "Copied 0 of 0; skipped 0 existing files\n"
     ]
    },
    {
     "name": "stderr",
     "output_type": "stream",
     "text": [
      "Copying Files from wudr: 0it [00:00, ?it/s]\n"
     ]
    },
    {
     "name": "stdout",
     "output_type": "stream",
     "text": [
      "Copied 0 of 0; skipped 0 existing files\n"
     ]
    },
    {
     "name": "stderr",
     "output_type": "stream",
     "text": [
      "Copying Files from wudr: 0it [00:00, ?it/s]\n"
     ]
    },
    {
     "name": "stdout",
     "output_type": "stream",
     "text": [
      "Copied 0 of 0; skipped 0 existing files\n"
     ]
    },
    {
     "name": "stderr",
     "output_type": "stream",
     "text": [
      "Copying Files from wudr: 0it [00:00, ?it/s]\n"
     ]
    },
    {
     "name": "stdout",
     "output_type": "stream",
     "text": [
      "Copied 0 of 0; skipped 0 existing files\n"
     ]
    },
    {
     "name": "stderr",
     "output_type": "stream",
     "text": [
      "Copying Files from wudr: 0it [00:00, ?it/s]\n"
     ]
    },
    {
     "name": "stdout",
     "output_type": "stream",
     "text": [
      "Copied 0 of 0; skipped 0 existing files\n"
     ]
    },
    {
     "name": "stderr",
     "output_type": "stream",
     "text": [
      "Copying Files from wudr: 0it [00:00, ?it/s]\n"
     ]
    },
    {
     "name": "stdout",
     "output_type": "stream",
     "text": [
      "Copied 0 of 0; skipped 0 existing files\n"
     ]
    },
    {
     "name": "stderr",
     "output_type": "stream",
     "text": [
      "Copying Files from wudr: 0it [00:00, ?it/s]\n"
     ]
    },
    {
     "name": "stdout",
     "output_type": "stream",
     "text": [
      "Copied 0 of 0; skipped 0 existing files\n"
     ]
    },
    {
     "name": "stderr",
     "output_type": "stream",
     "text": [
      "Copying Files from wudr: 0it [00:00, ?it/s]\n"
     ]
    },
    {
     "name": "stdout",
     "output_type": "stream",
     "text": [
      "Copied 0 of 0; skipped 0 existing files\n"
     ]
    },
    {
     "name": "stderr",
     "output_type": "stream",
     "text": [
      "Copying Files from wudr: 0it [00:00, ?it/s]\n"
     ]
    },
    {
     "name": "stdout",
     "output_type": "stream",
     "text": [
      "Copied 0 of 0; skipped 0 existing files\n"
     ]
    },
    {
     "name": "stderr",
     "output_type": "stream",
     "text": [
      "Copying Files from wudr: 0it [00:00, ?it/s]\n"
     ]
    },
    {
     "name": "stdout",
     "output_type": "stream",
     "text": [
      "Copied 0 of 0; skipped 0 existing files\n"
     ]
    },
    {
     "name": "stderr",
     "output_type": "stream",
     "text": [
      "Copying Files from wudr: 0it [00:00, ?it/s]\n"
     ]
    },
    {
     "name": "stdout",
     "output_type": "stream",
     "text": [
      "Copied 0 of 0; skipped 0 existing files\n"
     ]
    },
    {
     "name": "stderr",
     "output_type": "stream",
     "text": [
      "Copying Files from wudr: 0it [00:00, ?it/s]\n"
     ]
    },
    {
     "name": "stdout",
     "output_type": "stream",
     "text": [
      "Copied 0 of 0; skipped 0 existing files\n"
     ]
    },
    {
     "name": "stderr",
     "output_type": "stream",
     "text": [
      "Copying Files from wudr: 0it [00:00, ?it/s]\n"
     ]
    },
    {
     "name": "stdout",
     "output_type": "stream",
     "text": [
      "Copied 0 of 0; skipped 0 existing files\n"
     ]
    },
    {
     "name": "stderr",
     "output_type": "stream",
     "text": [
      "Copying Files from wudr: 0it [00:00, ?it/s]\n"
     ]
    },
    {
     "name": "stdout",
     "output_type": "stream",
     "text": [
      "Copied 0 of 0; skipped 0 existing files\n"
     ]
    },
    {
     "name": "stderr",
     "output_type": "stream",
     "text": [
      "Copying Files from wudr: 0it [00:00, ?it/s]\n"
     ]
    },
    {
     "name": "stdout",
     "output_type": "stream",
     "text": [
      "Copied 0 of 0; skipped 0 existing files\n"
     ]
    },
    {
     "name": "stderr",
     "output_type": "stream",
     "text": [
      "Copying Files from wudr: 0it [00:00, ?it/s]\n"
     ]
    },
    {
     "name": "stdout",
     "output_type": "stream",
     "text": [
      "Copied 0 of 0; skipped 0 existing files\n"
     ]
    },
    {
     "name": "stderr",
     "output_type": "stream",
     "text": [
      "Copying Files from wudr: 0it [00:00, ?it/s]\n"
     ]
    },
    {
     "name": "stdout",
     "output_type": "stream",
     "text": [
      "Copied 0 of 0; skipped 0 existing files\n"
     ]
    },
    {
     "name": "stderr",
     "output_type": "stream",
     "text": [
      "Copying Files from wudr: 0it [00:00, ?it/s]\n"
     ]
    },
    {
     "name": "stdout",
     "output_type": "stream",
     "text": [
      "Copied 0 of 0; skipped 0 existing files\n"
     ]
    },
    {
     "name": "stderr",
     "output_type": "stream",
     "text": [
      "Copying Files from wudr: 0it [00:00, ?it/s]\n"
     ]
    },
    {
     "name": "stdout",
     "output_type": "stream",
     "text": [
      "Copied 0 of 0; skipped 0 existing files\n"
     ]
    },
    {
     "name": "stderr",
     "output_type": "stream",
     "text": [
      "Copying Files from wudr: 0it [00:00, ?it/s]\n"
     ]
    },
    {
     "name": "stdout",
     "output_type": "stream",
     "text": [
      "Copied 0 of 0; skipped 0 existing files\n"
     ]
    },
    {
     "name": "stderr",
     "output_type": "stream",
     "text": [
      "Copying Files from wudr: 0it [00:00, ?it/s]\n"
     ]
    },
    {
     "name": "stdout",
     "output_type": "stream",
     "text": [
      "Copied 0 of 0; skipped 0 existing files\n"
     ]
    },
    {
     "name": "stderr",
     "output_type": "stream",
     "text": [
      "Copying Files from wudr: 0it [00:00, ?it/s]\n"
     ]
    },
    {
     "name": "stdout",
     "output_type": "stream",
     "text": [
      "Copied 0 of 0; skipped 0 existing files\n"
     ]
    },
    {
     "name": "stderr",
     "output_type": "stream",
     "text": [
      "Copying Files from wudr: 0it [00:00, ?it/s]\n"
     ]
    },
    {
     "name": "stdout",
     "output_type": "stream",
     "text": [
      "Copied 0 of 0; skipped 0 existing files\n"
     ]
    },
    {
     "name": "stderr",
     "output_type": "stream",
     "text": [
      "Copying Files from wudr: 0it [00:00, ?it/s]\n"
     ]
    },
    {
     "name": "stdout",
     "output_type": "stream",
     "text": [
      "Copied 0 of 0; skipped 0 existing files\n"
     ]
    },
    {
     "name": "stderr",
     "output_type": "stream",
     "text": [
      "Copying Files from wudr: 0it [00:00, ?it/s]\n"
     ]
    },
    {
     "name": "stdout",
     "output_type": "stream",
     "text": [
      "Copied 0 of 0; skipped 0 existing files\n"
     ]
    },
    {
     "name": "stderr",
     "output_type": "stream",
     "text": [
      "Copying Files from wudr: 0it [00:00, ?it/s]\n"
     ]
    },
    {
     "name": "stdout",
     "output_type": "stream",
     "text": [
      "Copied 0 of 0; skipped 0 existing files\n"
     ]
    },
    {
     "name": "stderr",
     "output_type": "stream",
     "text": [
      "Copying Files from wudr: 0it [00:00, ?it/s]\n"
     ]
    },
    {
     "name": "stdout",
     "output_type": "stream",
     "text": [
      "Copied 0 of 0; skipped 0 existing files\n"
     ]
    },
    {
     "name": "stderr",
     "output_type": "stream",
     "text": [
      "Copying Files from wudr: 0it [00:00, ?it/s]\n"
     ]
    },
    {
     "name": "stdout",
     "output_type": "stream",
     "text": [
      "Copied 0 of 0; skipped 0 existing files\n"
     ]
    },
    {
     "name": "stderr",
     "output_type": "stream",
     "text": [
      "Copying Files from wudr: 0it [00:00, ?it/s]\n"
     ]
    },
    {
     "name": "stdout",
     "output_type": "stream",
     "text": [
      "Copied 0 of 0; skipped 0 existing files\n"
     ]
    },
    {
     "name": "stderr",
     "output_type": "stream",
     "text": [
      "Copying Files from wudr: 0it [00:00, ?it/s]\n"
     ]
    },
    {
     "name": "stdout",
     "output_type": "stream",
     "text": [
      "Copied 0 of 0; skipped 0 existing files\n"
     ]
    },
    {
     "name": "stderr",
     "output_type": "stream",
     "text": [
      "Copying Files from wudr: 0it [00:00, ?it/s]\n"
     ]
    },
    {
     "name": "stdout",
     "output_type": "stream",
     "text": [
      "Copied 0 of 0; skipped 0 existing files\n"
     ]
    },
    {
     "name": "stderr",
     "output_type": "stream",
     "text": [
      "Copying Files from wudr: 0it [00:00, ?it/s]\n"
     ]
    },
    {
     "name": "stdout",
     "output_type": "stream",
     "text": [
      "Copied 0 of 0; skipped 0 existing files\n"
     ]
    },
    {
     "name": "stderr",
     "output_type": "stream",
     "text": [
      "Copying Files from wudr: 0it [00:00, ?it/s]\n"
     ]
    },
    {
     "name": "stdout",
     "output_type": "stream",
     "text": [
      "Copied 0 of 0; skipped 0 existing files\n"
     ]
    },
    {
     "name": "stderr",
     "output_type": "stream",
     "text": [
      "Copying Files from wudr: 0it [00:00, ?it/s]\n"
     ]
    },
    {
     "name": "stdout",
     "output_type": "stream",
     "text": [
      "Copied 0 of 0; skipped 0 existing files\n"
     ]
    },
    {
     "name": "stderr",
     "output_type": "stream",
     "text": [
      "Copying Files from wudr: 0it [00:00, ?it/s]\n"
     ]
    },
    {
     "name": "stdout",
     "output_type": "stream",
     "text": [
      "Copied 0 of 0; skipped 0 existing files\n"
     ]
    },
    {
     "name": "stderr",
     "output_type": "stream",
     "text": [
      "Copying Files from wudr: 0it [00:00, ?it/s]\n"
     ]
    },
    {
     "name": "stdout",
     "output_type": "stream",
     "text": [
      "Copied 0 of 0; skipped 0 existing files\n"
     ]
    },
    {
     "name": "stderr",
     "output_type": "stream",
     "text": [
      "Copying Files from wudr: 0it [00:00, ?it/s]\n"
     ]
    },
    {
     "name": "stdout",
     "output_type": "stream",
     "text": [
      "Copied 0 of 0; skipped 0 existing files\n"
     ]
    },
    {
     "name": "stderr",
     "output_type": "stream",
     "text": [
      "Copying Files from wudr: 0it [00:00, ?it/s]\n"
     ]
    },
    {
     "name": "stdout",
     "output_type": "stream",
     "text": [
      "Copied 0 of 0; skipped 0 existing files\n"
     ]
    },
    {
     "name": "stderr",
     "output_type": "stream",
     "text": [
      "Copying Files from wudr: 0it [00:00, ?it/s]\n"
     ]
    },
    {
     "name": "stdout",
     "output_type": "stream",
     "text": [
      "Copied 0 of 0; skipped 0 existing files\n"
     ]
    },
    {
     "name": "stderr",
     "output_type": "stream",
     "text": [
      "Copying Files from wudr: 0it [00:00, ?it/s]\n"
     ]
    },
    {
     "name": "stdout",
     "output_type": "stream",
     "text": [
      "Copied 0 of 0; skipped 0 existing files\n"
     ]
    },
    {
     "name": "stderr",
     "output_type": "stream",
     "text": [
      "Copying Files from wudr: 0it [00:00, ?it/s]\n"
     ]
    },
    {
     "name": "stdout",
     "output_type": "stream",
     "text": [
      "Copied 0 of 0; skipped 0 existing files\n"
     ]
    },
    {
     "name": "stderr",
     "output_type": "stream",
     "text": [
      "Copying Files from wudr: 0it [00:00, ?it/s]\n"
     ]
    },
    {
     "name": "stdout",
     "output_type": "stream",
     "text": [
      "Copied 0 of 0; skipped 0 existing files\n"
     ]
    },
    {
     "name": "stderr",
     "output_type": "stream",
     "text": [
      "Copying Files from wudr: 0it [00:00, ?it/s]\n"
     ]
    },
    {
     "name": "stdout",
     "output_type": "stream",
     "text": [
      "Copied 0 of 0; skipped 0 existing files\n"
     ]
    },
    {
     "name": "stderr",
     "output_type": "stream",
     "text": [
      "Copying Files from wudr: 0it [00:00, ?it/s]\n"
     ]
    },
    {
     "name": "stdout",
     "output_type": "stream",
     "text": [
      "Copied 0 of 0; skipped 0 existing files\n"
     ]
    },
    {
     "name": "stderr",
     "output_type": "stream",
     "text": [
      "Copying Files from wudr: 0it [00:00, ?it/s]\n"
     ]
    },
    {
     "name": "stdout",
     "output_type": "stream",
     "text": [
      "Copied 0 of 0; skipped 0 existing files\n"
     ]
    },
    {
     "name": "stderr",
     "output_type": "stream",
     "text": [
      "Copying Files from wudr: 0it [00:00, ?it/s]\n"
     ]
    },
    {
     "name": "stdout",
     "output_type": "stream",
     "text": [
      "Copied 0 of 0; skipped 0 existing files\n"
     ]
    },
    {
     "name": "stderr",
     "output_type": "stream",
     "text": [
      "Copying Files from wudr: 0it [00:00, ?it/s]\n"
     ]
    },
    {
     "name": "stdout",
     "output_type": "stream",
     "text": [
      "Copied 0 of 0; skipped 0 existing files\n"
     ]
    },
    {
     "name": "stderr",
     "output_type": "stream",
     "text": [
      "Copying Files from wudr: 0it [00:00, ?it/s]\n"
     ]
    },
    {
     "name": "stdout",
     "output_type": "stream",
     "text": [
      "Copied 0 of 0; skipped 0 existing files\n"
     ]
    },
    {
     "name": "stderr",
     "output_type": "stream",
     "text": [
      "Copying Files from wudr: 0it [00:00, ?it/s]\n"
     ]
    },
    {
     "name": "stdout",
     "output_type": "stream",
     "text": [
      "Copied 0 of 0; skipped 0 existing files\n"
     ]
    },
    {
     "name": "stderr",
     "output_type": "stream",
     "text": [
      "Copying Files from wudr: 0it [00:00, ?it/s]\n"
     ]
    },
    {
     "name": "stdout",
     "output_type": "stream",
     "text": [
      "Copied 0 of 0; skipped 0 existing files\n"
     ]
    },
    {
     "name": "stderr",
     "output_type": "stream",
     "text": [
      "Copying Files from wudr: 0it [00:00, ?it/s]\n"
     ]
    },
    {
     "name": "stdout",
     "output_type": "stream",
     "text": [
      "Copied 0 of 0; skipped 0 existing files\n"
     ]
    },
    {
     "name": "stderr",
     "output_type": "stream",
     "text": [
      "Copying Files from wudr: 0it [00:00, ?it/s]\n"
     ]
    },
    {
     "name": "stdout",
     "output_type": "stream",
     "text": [
      "Copied 0 of 0; skipped 0 existing files\n"
     ]
    },
    {
     "name": "stderr",
     "output_type": "stream",
     "text": [
      "Copying Files from wudr: 0it [00:00, ?it/s]\n"
     ]
    },
    {
     "name": "stdout",
     "output_type": "stream",
     "text": [
      "Copied 0 of 0; skipped 0 existing files\n"
     ]
    },
    {
     "name": "stderr",
     "output_type": "stream",
     "text": [
      "Copying Files from wudr: 0it [00:00, ?it/s]\n"
     ]
    },
    {
     "name": "stdout",
     "output_type": "stream",
     "text": [
      "Copied 0 of 0; skipped 0 existing files\n"
     ]
    },
    {
     "name": "stderr",
     "output_type": "stream",
     "text": [
      "Copying Files from wudr: 0it [00:00, ?it/s]\n"
     ]
    },
    {
     "name": "stdout",
     "output_type": "stream",
     "text": [
      "Copied 0 of 0; skipped 0 existing files\n"
     ]
    },
    {
     "name": "stderr",
     "output_type": "stream",
     "text": [
      "Copying Files from wudr: 0it [00:00, ?it/s]\n"
     ]
    },
    {
     "name": "stdout",
     "output_type": "stream",
     "text": [
      "Copied 0 of 0; skipped 0 existing files\n"
     ]
    },
    {
     "name": "stderr",
     "output_type": "stream",
     "text": [
      "Copying Files from wudr: 0it [00:00, ?it/s]\n"
     ]
    },
    {
     "name": "stdout",
     "output_type": "stream",
     "text": [
      "Copied 0 of 0; skipped 0 existing files\n"
     ]
    },
    {
     "name": "stderr",
     "output_type": "stream",
     "text": [
      "Copying Files from wudr: 0it [00:00, ?it/s]\n"
     ]
    },
    {
     "name": "stdout",
     "output_type": "stream",
     "text": [
      "Copied 0 of 0; skipped 0 existing files\n"
     ]
    },
    {
     "name": "stderr",
     "output_type": "stream",
     "text": [
      "Copying Files from wudr: 0it [00:00, ?it/s]\n"
     ]
    },
    {
     "name": "stdout",
     "output_type": "stream",
     "text": [
      "Copied 0 of 0; skipped 0 existing files\n"
     ]
    },
    {
     "name": "stderr",
     "output_type": "stream",
     "text": [
      "Copying Files from wudr: 0it [00:00, ?it/s]\n"
     ]
    },
    {
     "name": "stdout",
     "output_type": "stream",
     "text": [
      "Copied 0 of 0; skipped 0 existing files\n"
     ]
    },
    {
     "name": "stderr",
     "output_type": "stream",
     "text": [
      "Copying Files from wudr: 0it [00:00, ?it/s]\n"
     ]
    },
    {
     "name": "stdout",
     "output_type": "stream",
     "text": [
      "Copied 0 of 0; skipped 0 existing files\n"
     ]
    },
    {
     "name": "stderr",
     "output_type": "stream",
     "text": [
      "Copying Files from wudr: 0it [00:00, ?it/s]\n"
     ]
    },
    {
     "name": "stdout",
     "output_type": "stream",
     "text": [
      "Copied 0 of 0; skipped 0 existing files\n"
     ]
    },
    {
     "name": "stderr",
     "output_type": "stream",
     "text": [
      "Copying Files from wudr: 0it [00:00, ?it/s]\n"
     ]
    },
    {
     "name": "stdout",
     "output_type": "stream",
     "text": [
      "Copied 0 of 0; skipped 0 existing files\n"
     ]
    },
    {
     "name": "stderr",
     "output_type": "stream",
     "text": [
      "Copying Files from wudr: 0it [00:00, ?it/s]\n"
     ]
    },
    {
     "name": "stdout",
     "output_type": "stream",
     "text": [
      "Copied 0 of 0; skipped 0 existing files\n"
     ]
    },
    {
     "name": "stderr",
     "output_type": "stream",
     "text": [
      "Copying Files from wudr: 0it [00:00, ?it/s]\n"
     ]
    },
    {
     "name": "stdout",
     "output_type": "stream",
     "text": [
      "Copied 0 of 0; skipped 0 existing files\n"
     ]
    },
    {
     "name": "stderr",
     "output_type": "stream",
     "text": [
      "Copying Files from wudr: 0it [00:00, ?it/s]\n"
     ]
    },
    {
     "name": "stdout",
     "output_type": "stream",
     "text": [
      "Copied 0 of 0; skipped 0 existing files\n"
     ]
    },
    {
     "name": "stderr",
     "output_type": "stream",
     "text": [
      "Copying Files from wudr: 0it [00:00, ?it/s]\n"
     ]
    },
    {
     "name": "stdout",
     "output_type": "stream",
     "text": [
      "Copied 0 of 0; skipped 0 existing files\n"
     ]
    },
    {
     "name": "stderr",
     "output_type": "stream",
     "text": [
      "Copying Files from wudr: 0it [00:00, ?it/s]\n"
     ]
    },
    {
     "name": "stdout",
     "output_type": "stream",
     "text": [
      "Copied 0 of 0; skipped 0 existing files\n"
     ]
    },
    {
     "name": "stderr",
     "output_type": "stream",
     "text": [
      "Copying Files from wudr: 0it [00:00, ?it/s]\n"
     ]
    },
    {
     "name": "stdout",
     "output_type": "stream",
     "text": [
      "Copied 0 of 0; skipped 0 existing files\n"
     ]
    },
    {
     "name": "stderr",
     "output_type": "stream",
     "text": [
      "Copying Files from wudr: 0it [00:00, ?it/s]\n"
     ]
    },
    {
     "name": "stdout",
     "output_type": "stream",
     "text": [
      "Copied 0 of 0; skipped 0 existing files\n"
     ]
    },
    {
     "name": "stderr",
     "output_type": "stream",
     "text": [
      "Copying Files from wudr: 0it [00:00, ?it/s]\n"
     ]
    },
    {
     "name": "stdout",
     "output_type": "stream",
     "text": [
      "Copied 0 of 0; skipped 0 existing files\n"
     ]
    },
    {
     "name": "stderr",
     "output_type": "stream",
     "text": [
      "Copying Files from wudr: 0it [00:00, ?it/s]\n"
     ]
    },
    {
     "name": "stdout",
     "output_type": "stream",
     "text": [
      "Copied 0 of 0; skipped 0 existing files\n"
     ]
    },
    {
     "name": "stderr",
     "output_type": "stream",
     "text": [
      "Copying Files from wudr: 0it [00:00, ?it/s]\n"
     ]
    },
    {
     "name": "stdout",
     "output_type": "stream",
     "text": [
      "Copied 0 of 0; skipped 0 existing files\n"
     ]
    },
    {
     "name": "stderr",
     "output_type": "stream",
     "text": [
      "Copying Files from wudr: 0it [00:00, ?it/s]\n"
     ]
    },
    {
     "name": "stdout",
     "output_type": "stream",
     "text": [
      "Copied 0 of 0; skipped 0 existing files\n"
     ]
    },
    {
     "name": "stderr",
     "output_type": "stream",
     "text": [
      "Copying Files from wudr: 0it [00:00, ?it/s]\n"
     ]
    },
    {
     "name": "stdout",
     "output_type": "stream",
     "text": [
      "Copied 0 of 0; skipped 0 existing files\n"
     ]
    },
    {
     "name": "stderr",
     "output_type": "stream",
     "text": [
      "Copying Files from wudr: 0it [00:00, ?it/s]\n"
     ]
    },
    {
     "name": "stdout",
     "output_type": "stream",
     "text": [
      "Copied 0 of 0; skipped 0 existing files\n"
     ]
    },
    {
     "name": "stderr",
     "output_type": "stream",
     "text": [
      "Copying Files from wudr: 0it [00:00, ?it/s]\n"
     ]
    },
    {
     "name": "stdout",
     "output_type": "stream",
     "text": [
      "Copied 0 of 0; skipped 0 existing files\n"
     ]
    },
    {
     "name": "stderr",
     "output_type": "stream",
     "text": [
      "Copying Files from wudr: 0it [00:00, ?it/s]\n"
     ]
    },
    {
     "name": "stdout",
     "output_type": "stream",
     "text": [
      "Copied 0 of 0; skipped 0 existing files\n"
     ]
    },
    {
     "name": "stderr",
     "output_type": "stream",
     "text": [
      "Copying Files from wudr: 0it [00:00, ?it/s]\n"
     ]
    },
    {
     "name": "stdout",
     "output_type": "stream",
     "text": [
      "Copied 0 of 0; skipped 0 existing files\n"
     ]
    },
    {
     "name": "stderr",
     "output_type": "stream",
     "text": [
      "Copying Files from wudr: 0it [00:00, ?it/s]\n"
     ]
    },
    {
     "name": "stdout",
     "output_type": "stream",
     "text": [
      "Copied 0 of 0; skipped 0 existing files\n"
     ]
    },
    {
     "name": "stderr",
     "output_type": "stream",
     "text": [
      "Copying Files from wudr: 0it [00:00, ?it/s]\n"
     ]
    },
    {
     "name": "stdout",
     "output_type": "stream",
     "text": [
      "Copied 0 of 0; skipped 0 existing files\n"
     ]
    },
    {
     "name": "stderr",
     "output_type": "stream",
     "text": [
      "Copying Files from wudr: 0it [00:00, ?it/s]\n"
     ]
    },
    {
     "name": "stdout",
     "output_type": "stream",
     "text": [
      "Copied 0 of 0; skipped 0 existing files\n"
     ]
    },
    {
     "name": "stderr",
     "output_type": "stream",
     "text": [
      "Copying Files from wudr: 0it [00:00, ?it/s]\n"
     ]
    },
    {
     "name": "stdout",
     "output_type": "stream",
     "text": [
      "Copied 0 of 0; skipped 0 existing files\n"
     ]
    },
    {
     "name": "stderr",
     "output_type": "stream",
     "text": [
      "Copying Files from wudr: 0it [00:00, ?it/s]\n"
     ]
    },
    {
     "name": "stdout",
     "output_type": "stream",
     "text": [
      "Copied 0 of 0; skipped 0 existing files\n"
     ]
    },
    {
     "name": "stderr",
     "output_type": "stream",
     "text": [
      "Copying Files from wudr: 0it [00:00, ?it/s]\n"
     ]
    },
    {
     "name": "stdout",
     "output_type": "stream",
     "text": [
      "Copied 0 of 0; skipped 0 existing files\n"
     ]
    },
    {
     "name": "stderr",
     "output_type": "stream",
     "text": [
      "Copying Files from wudr: 0it [00:00, ?it/s]\n"
     ]
    },
    {
     "name": "stdout",
     "output_type": "stream",
     "text": [
      "Copied 0 of 0; skipped 0 existing files\n"
     ]
    },
    {
     "name": "stderr",
     "output_type": "stream",
     "text": [
      "Copying Files from wudr: 0it [00:00, ?it/s]\n"
     ]
    },
    {
     "name": "stdout",
     "output_type": "stream",
     "text": [
      "Copied 0 of 0; skipped 0 existing files\n"
     ]
    },
    {
     "name": "stderr",
     "output_type": "stream",
     "text": [
      "Copying Files from wudr: 0it [00:00, ?it/s]\n"
     ]
    },
    {
     "name": "stdout",
     "output_type": "stream",
     "text": [
      "Copied 0 of 0; skipped 0 existing files\n"
     ]
    },
    {
     "name": "stderr",
     "output_type": "stream",
     "text": [
      "Copying Files from wudr: 0it [00:00, ?it/s]\n"
     ]
    },
    {
     "name": "stdout",
     "output_type": "stream",
     "text": [
      "Copied 0 of 0; skipped 0 existing files\n"
     ]
    },
    {
     "name": "stderr",
     "output_type": "stream",
     "text": [
      "Copying Files from wudr: 0it [00:00, ?it/s]\n"
     ]
    },
    {
     "name": "stdout",
     "output_type": "stream",
     "text": [
      "Copied 0 of 0; skipped 0 existing files\n"
     ]
    },
    {
     "name": "stderr",
     "output_type": "stream",
     "text": [
      "Copying Files from wudr: 0it [00:00, ?it/s]\n"
     ]
    },
    {
     "name": "stdout",
     "output_type": "stream",
     "text": [
      "Copied 0 of 0; skipped 0 existing files\n"
     ]
    },
    {
     "name": "stderr",
     "output_type": "stream",
     "text": [
      "Copying Files from wudr: 0it [00:00, ?it/s]\n"
     ]
    },
    {
     "name": "stdout",
     "output_type": "stream",
     "text": [
      "Copied 0 of 0; skipped 0 existing files\n"
     ]
    },
    {
     "name": "stderr",
     "output_type": "stream",
     "text": [
      "Copying Files from wudr: 0it [00:00, ?it/s]\n"
     ]
    },
    {
     "name": "stdout",
     "output_type": "stream",
     "text": [
      "Copied 0 of 0; skipped 0 existing files\n"
     ]
    },
    {
     "name": "stderr",
     "output_type": "stream",
     "text": [
      "Copying Files from wudr: 0it [00:00, ?it/s]\n"
     ]
    },
    {
     "name": "stdout",
     "output_type": "stream",
     "text": [
      "Copied 0 of 0; skipped 0 existing files\n"
     ]
    },
    {
     "name": "stderr",
     "output_type": "stream",
     "text": [
      "Copying Files from wudr: 0it [00:00, ?it/s]\n"
     ]
    },
    {
     "name": "stdout",
     "output_type": "stream",
     "text": [
      "Copied 0 of 0; skipped 0 existing files\n"
     ]
    },
    {
     "name": "stderr",
     "output_type": "stream",
     "text": [
      "Copying Files from wudr: 0it [00:00, ?it/s]\n"
     ]
    },
    {
     "name": "stdout",
     "output_type": "stream",
     "text": [
      "Copied 0 of 0; skipped 0 existing files\n"
     ]
    },
    {
     "name": "stderr",
     "output_type": "stream",
     "text": [
      "Copying Files from wudr: 0it [00:00, ?it/s]\n"
     ]
    },
    {
     "name": "stdout",
     "output_type": "stream",
     "text": [
      "Copied 0 of 0; skipped 0 existing files\n"
     ]
    },
    {
     "name": "stderr",
     "output_type": "stream",
     "text": [
      "Copying Files from wudr: 0it [00:00, ?it/s]\n"
     ]
    },
    {
     "name": "stdout",
     "output_type": "stream",
     "text": [
      "Copied 0 of 0; skipped 0 existing files\n"
     ]
    },
    {
     "name": "stderr",
     "output_type": "stream",
     "text": [
      "Copying Files from wudr: 0it [00:00, ?it/s]\n"
     ]
    },
    {
     "name": "stdout",
     "output_type": "stream",
     "text": [
      "Copied 0 of 0; skipped 0 existing files\n"
     ]
    },
    {
     "name": "stderr",
     "output_type": "stream",
     "text": [
      "Copying Files from wudr: 0it [00:00, ?it/s]\n"
     ]
    },
    {
     "name": "stdout",
     "output_type": "stream",
     "text": [
      "Copied 0 of 0; skipped 0 existing files\n"
     ]
    },
    {
     "name": "stderr",
     "output_type": "stream",
     "text": [
      "Copying Files from wudr: 0it [00:00, ?it/s]\n"
     ]
    },
    {
     "name": "stdout",
     "output_type": "stream",
     "text": [
      "Copied 0 of 0; skipped 0 existing files\n"
     ]
    },
    {
     "name": "stderr",
     "output_type": "stream",
     "text": [
      "Copying Files from wudr: 0it [00:00, ?it/s]\n"
     ]
    },
    {
     "name": "stdout",
     "output_type": "stream",
     "text": [
      "Copied 0 of 0; skipped 0 existing files\n"
     ]
    },
    {
     "name": "stderr",
     "output_type": "stream",
     "text": [
      "Copying Files from wudr: 0it [00:00, ?it/s]\n"
     ]
    },
    {
     "name": "stdout",
     "output_type": "stream",
     "text": [
      "Copied 0 of 0; skipped 0 existing files\n"
     ]
    },
    {
     "name": "stderr",
     "output_type": "stream",
     "text": [
      "Copying Files from wudr: 0it [00:00, ?it/s]\n"
     ]
    },
    {
     "name": "stdout",
     "output_type": "stream",
     "text": [
      "Copied 0 of 0; skipped 0 existing files\n"
     ]
    },
    {
     "name": "stderr",
     "output_type": "stream",
     "text": [
      "Copying Files from wudr: 0it [00:00, ?it/s]\n"
     ]
    },
    {
     "name": "stdout",
     "output_type": "stream",
     "text": [
      "Copied 0 of 0; skipped 0 existing files\n"
     ]
    },
    {
     "name": "stderr",
     "output_type": "stream",
     "text": [
      "Copying Files from wudr: 0it [00:00, ?it/s]\n"
     ]
    },
    {
     "name": "stdout",
     "output_type": "stream",
     "text": [
      "Copied 0 of 0; skipped 0 existing files\n"
     ]
    },
    {
     "name": "stderr",
     "output_type": "stream",
     "text": [
      "Copying Files from wudr: 0it [00:00, ?it/s]\n"
     ]
    },
    {
     "name": "stdout",
     "output_type": "stream",
     "text": [
      "Copied 0 of 0; skipped 0 existing files\n"
     ]
    },
    {
     "name": "stderr",
     "output_type": "stream",
     "text": [
      "Copying Files from wudr: 0it [00:00, ?it/s]\n"
     ]
    },
    {
     "name": "stdout",
     "output_type": "stream",
     "text": [
      "Copied 0 of 0; skipped 0 existing files\n"
     ]
    },
    {
     "name": "stderr",
     "output_type": "stream",
     "text": [
      "Copying Files from wudr: 0it [00:00, ?it/s]\n"
     ]
    },
    {
     "name": "stdout",
     "output_type": "stream",
     "text": [
      "Copied 0 of 0; skipped 0 existing files\n"
     ]
    },
    {
     "name": "stderr",
     "output_type": "stream",
     "text": [
      "Copying Files from wudr: 0it [00:00, ?it/s]\n"
     ]
    },
    {
     "name": "stdout",
     "output_type": "stream",
     "text": [
      "Copied 0 of 0; skipped 0 existing files\n"
     ]
    },
    {
     "name": "stderr",
     "output_type": "stream",
     "text": [
      "Copying Files from wudr: 0it [00:00, ?it/s]\n"
     ]
    },
    {
     "name": "stdout",
     "output_type": "stream",
     "text": [
      "Copied 0 of 0; skipped 0 existing files\n"
     ]
    },
    {
     "name": "stderr",
     "output_type": "stream",
     "text": [
      "Copying Files from wudr: 0it [00:00, ?it/s]\n"
     ]
    },
    {
     "name": "stdout",
     "output_type": "stream",
     "text": [
      "Copied 0 of 0; skipped 0 existing files\n"
     ]
    },
    {
     "name": "stderr",
     "output_type": "stream",
     "text": [
      "Copying Files from wudr: 0it [00:00, ?it/s]\n"
     ]
    },
    {
     "name": "stdout",
     "output_type": "stream",
     "text": [
      "Copied 0 of 0; skipped 0 existing files\n"
     ]
    },
    {
     "name": "stderr",
     "output_type": "stream",
     "text": [
      "Copying Files from wudr: 0it [00:00, ?it/s]\n"
     ]
    },
    {
     "name": "stdout",
     "output_type": "stream",
     "text": [
      "Copied 0 of 0; skipped 0 existing files\n"
     ]
    },
    {
     "name": "stderr",
     "output_type": "stream",
     "text": [
      "Copying Files from wudr: 0it [00:00, ?it/s]\n"
     ]
    },
    {
     "name": "stdout",
     "output_type": "stream",
     "text": [
      "Copied 0 of 0; skipped 0 existing files\n"
     ]
    },
    {
     "name": "stderr",
     "output_type": "stream",
     "text": [
      "Copying Files from wudr: 0it [00:00, ?it/s]\n"
     ]
    },
    {
     "name": "stdout",
     "output_type": "stream",
     "text": [
      "Copied 0 of 0; skipped 0 existing files\n"
     ]
    },
    {
     "name": "stderr",
     "output_type": "stream",
     "text": [
      "Copying Files from wudr: 0it [00:00, ?it/s]\n"
     ]
    },
    {
     "name": "stdout",
     "output_type": "stream",
     "text": [
      "Copied 0 of 0; skipped 0 existing files\n"
     ]
    },
    {
     "name": "stderr",
     "output_type": "stream",
     "text": [
      "Copying Files from wudr: 0it [00:00, ?it/s]\n"
     ]
    },
    {
     "name": "stdout",
     "output_type": "stream",
     "text": [
      "Copied 0 of 0; skipped 0 existing files\n"
     ]
    },
    {
     "name": "stderr",
     "output_type": "stream",
     "text": [
      "Copying Files from wudr: 0it [00:00, ?it/s]\n"
     ]
    },
    {
     "name": "stdout",
     "output_type": "stream",
     "text": [
      "Copied 0 of 0; skipped 0 existing files\n"
     ]
    },
    {
     "name": "stderr",
     "output_type": "stream",
     "text": [
      "Copying Files from wudr: 0it [00:00, ?it/s]\n"
     ]
    },
    {
     "name": "stdout",
     "output_type": "stream",
     "text": [
      "Copied 0 of 0; skipped 0 existing files\n"
     ]
    },
    {
     "name": "stderr",
     "output_type": "stream",
     "text": [
      "Copying Files from wudr: 0it [00:00, ?it/s]\n"
     ]
    },
    {
     "name": "stdout",
     "output_type": "stream",
     "text": [
      "Copied 0 of 0; skipped 0 existing files\n"
     ]
    },
    {
     "name": "stderr",
     "output_type": "stream",
     "text": [
      "Copying Files from wudr: 0it [00:00, ?it/s]\n"
     ]
    },
    {
     "name": "stdout",
     "output_type": "stream",
     "text": [
      "Copied 0 of 0; skipped 0 existing files\n"
     ]
    },
    {
     "name": "stderr",
     "output_type": "stream",
     "text": [
      "Copying Files from wudr: 0it [00:00, ?it/s]\n"
     ]
    },
    {
     "name": "stdout",
     "output_type": "stream",
     "text": [
      "Copied 0 of 0; skipped 0 existing files\n"
     ]
    },
    {
     "name": "stderr",
     "output_type": "stream",
     "text": [
      "Copying Files from wudr: 0it [00:00, ?it/s]\n"
     ]
    },
    {
     "name": "stdout",
     "output_type": "stream",
     "text": [
      "Copied 0 of 0; skipped 0 existing files\n"
     ]
    },
    {
     "name": "stderr",
     "output_type": "stream",
     "text": [
      "Copying Files from wudr: 0it [00:00, ?it/s]\n"
     ]
    },
    {
     "name": "stdout",
     "output_type": "stream",
     "text": [
      "Copied 0 of 0; skipped 0 existing files\n"
     ]
    },
    {
     "name": "stderr",
     "output_type": "stream",
     "text": [
      "Copying Files from wudr: 0it [00:00, ?it/s]\n"
     ]
    },
    {
     "name": "stdout",
     "output_type": "stream",
     "text": [
      "Copied 0 of 0; skipped 0 existing files\n"
     ]
    },
    {
     "name": "stderr",
     "output_type": "stream",
     "text": [
      "Copying Files from wudr: 0it [00:00, ?it/s]\n"
     ]
    },
    {
     "name": "stdout",
     "output_type": "stream",
     "text": [
      "Copied 0 of 0; skipped 0 existing files\n"
     ]
    },
    {
     "ename": "KeyboardInterrupt",
     "evalue": "",
     "output_type": "error",
     "traceback": [
      "\u001b[0;31m---------------------------------------------------------------------------\u001b[0m",
      "\u001b[0;31mKeyboardInterrupt\u001b[0m                         Traceback (most recent call last)",
      "Cell \u001b[0;32mIn[21], line 16\u001b[0m\n\u001b[1;32m     14\u001b[0m     os\u001b[38;5;241m.\u001b[39mmakedirs(dst, exist_ok\u001b[38;5;241m=\u001b[39m\u001b[38;5;28;01mTrue\u001b[39;00m)\n\u001b[1;32m     15\u001b[0m glob_ \u001b[38;5;241m=\u001b[39m \u001b[38;5;124mf\u001b[39m\u001b[38;5;124m'\u001b[39m\u001b[38;5;132;01m{\u001b[39;00msrc\u001b[38;5;132;01m}\u001b[39;00m\u001b[38;5;124m_\u001b[39m\u001b[38;5;132;01m{\u001b[39;00mstation\u001b[38;5;132;01m}\u001b[39;00m\u001b[38;5;124m_\u001b[39m\u001b[38;5;132;01m{\u001b[39;00mmask\u001b[38;5;132;01m}\u001b[39;00m\u001b[38;5;124m'\u001b[39m\n\u001b[0;32m---> 16\u001b[0m \u001b[43mlist_and_copy_gcs_bucket\u001b[49m\u001b[43m(\u001b[49m\u001b[43mcommand\u001b[49m\u001b[43m,\u001b[49m\u001b[43m \u001b[49m\u001b[43mbucket\u001b[49m\u001b[43m,\u001b[49m\u001b[43m \u001b[49m\u001b[43mdst\u001b[49m\u001b[43m,\u001b[49m\u001b[43m \u001b[49m\u001b[43mglob\u001b[49m\u001b[38;5;241;43m=\u001b[39;49m\u001b[43mglob_\u001b[49m\u001b[43m,\u001b[49m\u001b[43m \u001b[49m\u001b[43mdry_run\u001b[49m\u001b[38;5;241;43m=\u001b[39;49m\u001b[38;5;28;43;01mFalse\u001b[39;49;00m\u001b[43m,\u001b[49m\u001b[43m \u001b[49m\u001b[43moverwrite\u001b[49m\u001b[38;5;241;43m=\u001b[39;49m\u001b[38;5;28;43;01mFalse\u001b[39;49;00m\u001b[43m)\u001b[49m\n",
      "File \u001b[0;32m~/PycharmProjects/swim-rs/utils/google_bucket.py:11\u001b[0m, in \u001b[0;36mlist_and_copy_gcs_bucket\u001b[0;34m(cmd_path, bucket_path, local_dir, glob, dry_run, overwrite)\u001b[0m\n\u001b[1;32m      9\u001b[0m list_cmd \u001b[38;5;241m=\u001b[39m [cmd_path, \u001b[38;5;124m'\u001b[39m\u001b[38;5;124mls\u001b[39m\u001b[38;5;124m'\u001b[39m, os\u001b[38;5;241m.\u001b[39mpath\u001b[38;5;241m.\u001b[39mjoin(prepend, bucket_path)]\n\u001b[1;32m     10\u001b[0m list_process \u001b[38;5;241m=\u001b[39m subprocess\u001b[38;5;241m.\u001b[39mPopen(list_cmd, stdout\u001b[38;5;241m=\u001b[39msubprocess\u001b[38;5;241m.\u001b[39mPIPE, stderr\u001b[38;5;241m=\u001b[39msubprocess\u001b[38;5;241m.\u001b[39mPIPE)\n\u001b[0;32m---> 11\u001b[0m stdout, stderr \u001b[38;5;241m=\u001b[39m \u001b[43mlist_process\u001b[49m\u001b[38;5;241;43m.\u001b[39;49m\u001b[43mcommunicate\u001b[49m\u001b[43m(\u001b[49m\u001b[43m)\u001b[49m\n\u001b[1;32m     13\u001b[0m \u001b[38;5;28;01mif\u001b[39;00m stderr:\n\u001b[1;32m     14\u001b[0m     \u001b[38;5;28;01mraise\u001b[39;00m \u001b[38;5;167;01mValueError\u001b[39;00m(\u001b[38;5;124mf\u001b[39m\u001b[38;5;124m'\u001b[39m\u001b[38;5;124mError listing bucket: \u001b[39m\u001b[38;5;132;01m{\u001b[39;00mstderr\u001b[38;5;241m.\u001b[39mdecode()\u001b[38;5;132;01m}\u001b[39;00m\u001b[38;5;124m'\u001b[39m)\n",
      "File \u001b[0;32m~/miniconda3/envs/swim/lib/python3.9/subprocess.py:1134\u001b[0m, in \u001b[0;36mPopen.communicate\u001b[0;34m(self, input, timeout)\u001b[0m\n\u001b[1;32m   1131\u001b[0m     endtime \u001b[38;5;241m=\u001b[39m \u001b[38;5;28;01mNone\u001b[39;00m\n\u001b[1;32m   1133\u001b[0m \u001b[38;5;28;01mtry\u001b[39;00m:\n\u001b[0;32m-> 1134\u001b[0m     stdout, stderr \u001b[38;5;241m=\u001b[39m \u001b[38;5;28;43mself\u001b[39;49m\u001b[38;5;241;43m.\u001b[39;49m\u001b[43m_communicate\u001b[49m\u001b[43m(\u001b[49m\u001b[38;5;28;43minput\u001b[39;49m\u001b[43m,\u001b[49m\u001b[43m \u001b[49m\u001b[43mendtime\u001b[49m\u001b[43m,\u001b[49m\u001b[43m \u001b[49m\u001b[43mtimeout\u001b[49m\u001b[43m)\u001b[49m\n\u001b[1;32m   1135\u001b[0m \u001b[38;5;28;01mexcept\u001b[39;00m \u001b[38;5;167;01mKeyboardInterrupt\u001b[39;00m:\n\u001b[1;32m   1136\u001b[0m     \u001b[38;5;66;03m# https://bugs.python.org/issue25942\u001b[39;00m\n\u001b[1;32m   1137\u001b[0m     \u001b[38;5;66;03m# See the detailed comment in .wait().\u001b[39;00m\n\u001b[1;32m   1138\u001b[0m     \u001b[38;5;28;01mif\u001b[39;00m timeout \u001b[38;5;129;01mis\u001b[39;00m \u001b[38;5;129;01mnot\u001b[39;00m \u001b[38;5;28;01mNone\u001b[39;00m:\n",
      "File \u001b[0;32m~/miniconda3/envs/swim/lib/python3.9/subprocess.py:1995\u001b[0m, in \u001b[0;36mPopen._communicate\u001b[0;34m(self, input, endtime, orig_timeout)\u001b[0m\n\u001b[1;32m   1988\u001b[0m     \u001b[38;5;28mself\u001b[39m\u001b[38;5;241m.\u001b[39m_check_timeout(endtime, orig_timeout,\n\u001b[1;32m   1989\u001b[0m                         stdout, stderr,\n\u001b[1;32m   1990\u001b[0m                         skip_check_and_raise\u001b[38;5;241m=\u001b[39m\u001b[38;5;28;01mTrue\u001b[39;00m)\n\u001b[1;32m   1991\u001b[0m     \u001b[38;5;28;01mraise\u001b[39;00m \u001b[38;5;167;01mRuntimeError\u001b[39;00m(  \u001b[38;5;66;03m# Impossible :)\u001b[39;00m\n\u001b[1;32m   1992\u001b[0m         \u001b[38;5;124m'\u001b[39m\u001b[38;5;124m_check_timeout(..., skip_check_and_raise=True) \u001b[39m\u001b[38;5;124m'\u001b[39m\n\u001b[1;32m   1993\u001b[0m         \u001b[38;5;124m'\u001b[39m\u001b[38;5;124mfailed to raise TimeoutExpired.\u001b[39m\u001b[38;5;124m'\u001b[39m)\n\u001b[0;32m-> 1995\u001b[0m ready \u001b[38;5;241m=\u001b[39m \u001b[43mselector\u001b[49m\u001b[38;5;241;43m.\u001b[39;49m\u001b[43mselect\u001b[49m\u001b[43m(\u001b[49m\u001b[43mtimeout\u001b[49m\u001b[43m)\u001b[49m\n\u001b[1;32m   1996\u001b[0m \u001b[38;5;28mself\u001b[39m\u001b[38;5;241m.\u001b[39m_check_timeout(endtime, orig_timeout, stdout, stderr)\n\u001b[1;32m   1998\u001b[0m \u001b[38;5;66;03m# XXX Rewrite these to use non-blocking I/O on the file\u001b[39;00m\n\u001b[1;32m   1999\u001b[0m \u001b[38;5;66;03m# objects; they are no longer using C stdio!\u001b[39;00m\n",
      "File \u001b[0;32m~/miniconda3/envs/swim/lib/python3.9/selectors.py:416\u001b[0m, in \u001b[0;36m_PollLikeSelector.select\u001b[0;34m(self, timeout)\u001b[0m\n\u001b[1;32m    414\u001b[0m ready \u001b[38;5;241m=\u001b[39m []\n\u001b[1;32m    415\u001b[0m \u001b[38;5;28;01mtry\u001b[39;00m:\n\u001b[0;32m--> 416\u001b[0m     fd_event_list \u001b[38;5;241m=\u001b[39m \u001b[38;5;28;43mself\u001b[39;49m\u001b[38;5;241;43m.\u001b[39;49m\u001b[43m_selector\u001b[49m\u001b[38;5;241;43m.\u001b[39;49m\u001b[43mpoll\u001b[49m\u001b[43m(\u001b[49m\u001b[43mtimeout\u001b[49m\u001b[43m)\u001b[49m\n\u001b[1;32m    417\u001b[0m \u001b[38;5;28;01mexcept\u001b[39;00m \u001b[38;5;167;01mInterruptedError\u001b[39;00m:\n\u001b[1;32m    418\u001b[0m     \u001b[38;5;28;01mreturn\u001b[39;00m ready\n",
      "\u001b[0;31mKeyboardInterrupt\u001b[0m: "
     ]
    }
   ],
   "source": [
    "# Copy to local directory; Note the flux-station specific for-loop\n",
    "# use the following for a full station network extract:\n",
    "stations = gdf[FEATURE_ID].tolist()\n",
    "\n",
    "# # use this for just Crane\n",
    "# stations = [selected_feature]\n",
    "\n",
    "for src in ['ndvi', 'etf']:\n",
    "    for mask in ['inv_irr', 'irr']:\n",
    "        for station in stations:\n",
    "            dst = os.path.join(data, 'landsat', 'extracts', src, mask)\n",
    "            if not os.path.isdir(dst):\n",
    "                os.makedirs(dst, exist_ok=True)\n",
    "            glob_ = f'{src}_{station}_{mask}'\n",
    "            list_and_copy_gcs_bucket(command, bucket, dst, glob=glob_, dry_run=False, overwrite=False)"
   ]
  },
  {
   "cell_type": "code",
   "execution_count": 22,
   "id": "61026502-85bd-49cb-94b9-9f754eb3a079",
   "metadata": {
    "scrolled": true
   },
   "outputs": [
    {
     "name": "stdout",
     "output_type": "stream",
     "text": [
      "/home/dgketchum/PycharmProjects/swim-rs/tutorials/4_Flux_Network/data/landsat/extracts/ndvi/inv_irr\n"
     ]
    },
    {
     "name": "stderr",
     "output_type": "stream",
     "text": [
      "Processing Time Series:  46%|████████▋          | 17/37 [00:32<00:37,  1.90s/it]\n"
     ]
    },
    {
     "ename": "ValueError",
     "evalue": "Shape of passed values is (79, 78), indices imply (79, 1)",
     "output_type": "error",
     "traceback": [
      "\u001b[0;31m---------------------------------------------------------------------------\u001b[0m",
      "\u001b[0;31mValueError\u001b[0m                                Traceback (most recent call last)",
      "Cell \u001b[0;32mIn[22], line 18\u001b[0m\n\u001b[1;32m     15\u001b[0m src \u001b[38;5;241m=\u001b[39m os\u001b[38;5;241m.\u001b[39mpath\u001b[38;5;241m.\u001b[39mjoin(tables, \u001b[38;5;124m'\u001b[39m\u001b[38;5;132;01m{}\u001b[39;00m\u001b[38;5;124m_\u001b[39m\u001b[38;5;132;01m{}\u001b[39;00m\u001b[38;5;124m_\u001b[39m\u001b[38;5;132;01m{}\u001b[39;00m\u001b[38;5;124m.csv\u001b[39m\u001b[38;5;124m'\u001b[39m\u001b[38;5;241m.\u001b[39mformat(\u001b[38;5;124m'\u001b[39m\u001b[38;5;124mtutorial\u001b[39m\u001b[38;5;124m'\u001b[39m, sensing_param, mask_type))\n\u001b[1;32m     16\u001b[0m src_ct \u001b[38;5;241m=\u001b[39m os\u001b[38;5;241m.\u001b[39mpath\u001b[38;5;241m.\u001b[39mjoin(tables, \u001b[38;5;124m'\u001b[39m\u001b[38;5;132;01m{}\u001b[39;00m\u001b[38;5;124m_\u001b[39m\u001b[38;5;132;01m{}\u001b[39;00m\u001b[38;5;124m_\u001b[39m\u001b[38;5;132;01m{}\u001b[39;00m\u001b[38;5;124m_ct.csv\u001b[39m\u001b[38;5;124m'\u001b[39m\u001b[38;5;241m.\u001b[39mformat(\u001b[38;5;124m'\u001b[39m\u001b[38;5;124mtutorial\u001b[39m\u001b[38;5;124m'\u001b[39m, sensing_param, mask_type))\n\u001b[0;32m---> 18\u001b[0m \u001b[43msparse_landsat_time_series\u001b[49m\u001b[43m(\u001b[49m\u001b[43mshapefile_path\u001b[49m\u001b[43m,\u001b[49m\u001b[43m \u001b[49m\u001b[43mee_data\u001b[49m\u001b[43m,\u001b[49m\u001b[43m \u001b[49m\u001b[43myrs\u001b[49m\u001b[43m,\u001b[49m\u001b[43m \u001b[49m\u001b[43msrc\u001b[49m\u001b[43m,\u001b[49m\u001b[43m \u001b[49m\u001b[43msrc_ct\u001b[49m\u001b[43m,\u001b[49m\u001b[43m \u001b[49m\u001b[43mfeature_id\u001b[49m\u001b[38;5;241;43m=\u001b[39;49m\u001b[43mFEATURE_ID\u001b[49m\u001b[43m,\u001b[49m\u001b[43m \u001b[49m\u001b[43mselect\u001b[49m\u001b[38;5;241;43m=\u001b[39;49m\u001b[38;5;28;43;01mNone\u001b[39;49;00m\u001b[43m)\u001b[49m\n",
      "File \u001b[0;32m~/PycharmProjects/swim-rs/prep/landsat_sensing.py:112\u001b[0m, in \u001b[0;36msparse_landsat_time_series\u001b[0;34m(in_shp, csv_dir, years, out_csv, out_csv_ct, feature_id, select)\u001b[0m\n\u001b[1;32m    110\u001b[0m f_idx \u001b[38;5;241m=\u001b[39m [c\u001b[38;5;241m.\u001b[39msplit(\u001b[38;5;124m'\u001b[39m\u001b[38;5;124m_\u001b[39m\u001b[38;5;124m'\u001b[39m)[\u001b[38;5;241m-\u001b[39m\u001b[38;5;241m1\u001b[39m] \u001b[38;5;28;01mfor\u001b[39;00m c \u001b[38;5;129;01min\u001b[39;00m cols]\n\u001b[1;32m    111\u001b[0m f_idx \u001b[38;5;241m=\u001b[39m [pd\u001b[38;5;241m.\u001b[39mto_datetime(i) \u001b[38;5;28;01mfor\u001b[39;00m i \u001b[38;5;129;01min\u001b[39;00m f_idx]\n\u001b[0;32m--> 112\u001b[0m field \u001b[38;5;241m=\u001b[39m \u001b[43mpd\u001b[49m\u001b[38;5;241;43m.\u001b[39;49m\u001b[43mDataFrame\u001b[49m\u001b[43m(\u001b[49m\u001b[43mcolumns\u001b[49m\u001b[38;5;241;43m=\u001b[39;49m\u001b[43m[\u001b[49m\u001b[43msid\u001b[49m\u001b[43m]\u001b[49m\u001b[43m,\u001b[49m\u001b[43m \u001b[49m\u001b[43mdata\u001b[49m\u001b[38;5;241;43m=\u001b[39;49m\u001b[43mfield\u001b[49m\u001b[43m[\u001b[49m\u001b[43mcols\u001b[49m\u001b[43m]\u001b[49m\u001b[38;5;241;43m.\u001b[39;49m\u001b[43mvalues\u001b[49m\u001b[38;5;241;43m.\u001b[39;49m\u001b[43mT\u001b[49m\u001b[43m,\u001b[49m\u001b[43m \u001b[49m\u001b[43mindex\u001b[49m\u001b[38;5;241;43m=\u001b[39;49m\u001b[43mf_idx\u001b[49m\u001b[43m)\u001b[49m\n\u001b[1;32m    113\u001b[0m duplicates \u001b[38;5;241m=\u001b[39m field[field\u001b[38;5;241m.\u001b[39mindex\u001b[38;5;241m.\u001b[39mduplicated(keep\u001b[38;5;241m=\u001b[39m\u001b[38;5;28;01mFalse\u001b[39;00m)]\n\u001b[1;32m    114\u001b[0m \u001b[38;5;28;01mif\u001b[39;00m \u001b[38;5;129;01mnot\u001b[39;00m duplicates\u001b[38;5;241m.\u001b[39mempty:\n",
      "File \u001b[0;32m~/miniconda3/envs/swim/lib/python3.9/site-packages/pandas/core/frame.py:827\u001b[0m, in \u001b[0;36mDataFrame.__init__\u001b[0;34m(self, data, index, columns, dtype, copy)\u001b[0m\n\u001b[1;32m    816\u001b[0m         mgr \u001b[38;5;241m=\u001b[39m dict_to_mgr(\n\u001b[1;32m    817\u001b[0m             \u001b[38;5;66;03m# error: Item \"ndarray\" of \"Union[ndarray, Series, Index]\" has no\u001b[39;00m\n\u001b[1;32m    818\u001b[0m             \u001b[38;5;66;03m# attribute \"name\"\u001b[39;00m\n\u001b[0;32m   (...)\u001b[0m\n\u001b[1;32m    824\u001b[0m             copy\u001b[38;5;241m=\u001b[39m_copy,\n\u001b[1;32m    825\u001b[0m         )\n\u001b[1;32m    826\u001b[0m     \u001b[38;5;28;01melse\u001b[39;00m:\n\u001b[0;32m--> 827\u001b[0m         mgr \u001b[38;5;241m=\u001b[39m \u001b[43mndarray_to_mgr\u001b[49m\u001b[43m(\u001b[49m\n\u001b[1;32m    828\u001b[0m \u001b[43m            \u001b[49m\u001b[43mdata\u001b[49m\u001b[43m,\u001b[49m\n\u001b[1;32m    829\u001b[0m \u001b[43m            \u001b[49m\u001b[43mindex\u001b[49m\u001b[43m,\u001b[49m\n\u001b[1;32m    830\u001b[0m \u001b[43m            \u001b[49m\u001b[43mcolumns\u001b[49m\u001b[43m,\u001b[49m\n\u001b[1;32m    831\u001b[0m \u001b[43m            \u001b[49m\u001b[43mdtype\u001b[49m\u001b[38;5;241;43m=\u001b[39;49m\u001b[43mdtype\u001b[49m\u001b[43m,\u001b[49m\n\u001b[1;32m    832\u001b[0m \u001b[43m            \u001b[49m\u001b[43mcopy\u001b[49m\u001b[38;5;241;43m=\u001b[39;49m\u001b[43mcopy\u001b[49m\u001b[43m,\u001b[49m\n\u001b[1;32m    833\u001b[0m \u001b[43m            \u001b[49m\u001b[43mtyp\u001b[49m\u001b[38;5;241;43m=\u001b[39;49m\u001b[43mmanager\u001b[49m\u001b[43m,\u001b[49m\n\u001b[1;32m    834\u001b[0m \u001b[43m        \u001b[49m\u001b[43m)\u001b[49m\n\u001b[1;32m    836\u001b[0m \u001b[38;5;66;03m# For data is list-like, or Iterable (will consume into list)\u001b[39;00m\n\u001b[1;32m    837\u001b[0m \u001b[38;5;28;01melif\u001b[39;00m is_list_like(data):\n",
      "File \u001b[0;32m~/miniconda3/envs/swim/lib/python3.9/site-packages/pandas/core/internals/construction.py:336\u001b[0m, in \u001b[0;36mndarray_to_mgr\u001b[0;34m(values, index, columns, dtype, copy, typ)\u001b[0m\n\u001b[1;32m    331\u001b[0m \u001b[38;5;66;03m# _prep_ndarraylike ensures that values.ndim == 2 at this point\u001b[39;00m\n\u001b[1;32m    332\u001b[0m index, columns \u001b[38;5;241m=\u001b[39m _get_axes(\n\u001b[1;32m    333\u001b[0m     values\u001b[38;5;241m.\u001b[39mshape[\u001b[38;5;241m0\u001b[39m], values\u001b[38;5;241m.\u001b[39mshape[\u001b[38;5;241m1\u001b[39m], index\u001b[38;5;241m=\u001b[39mindex, columns\u001b[38;5;241m=\u001b[39mcolumns\n\u001b[1;32m    334\u001b[0m )\n\u001b[0;32m--> 336\u001b[0m \u001b[43m_check_values_indices_shape_match\u001b[49m\u001b[43m(\u001b[49m\u001b[43mvalues\u001b[49m\u001b[43m,\u001b[49m\u001b[43m \u001b[49m\u001b[43mindex\u001b[49m\u001b[43m,\u001b[49m\u001b[43m \u001b[49m\u001b[43mcolumns\u001b[49m\u001b[43m)\u001b[49m\n\u001b[1;32m    338\u001b[0m \u001b[38;5;28;01mif\u001b[39;00m typ \u001b[38;5;241m==\u001b[39m \u001b[38;5;124m\"\u001b[39m\u001b[38;5;124marray\u001b[39m\u001b[38;5;124m\"\u001b[39m:\n\u001b[1;32m    339\u001b[0m     \u001b[38;5;28;01mif\u001b[39;00m \u001b[38;5;28missubclass\u001b[39m(values\u001b[38;5;241m.\u001b[39mdtype\u001b[38;5;241m.\u001b[39mtype, \u001b[38;5;28mstr\u001b[39m):\n",
      "File \u001b[0;32m~/miniconda3/envs/swim/lib/python3.9/site-packages/pandas/core/internals/construction.py:420\u001b[0m, in \u001b[0;36m_check_values_indices_shape_match\u001b[0;34m(values, index, columns)\u001b[0m\n\u001b[1;32m    418\u001b[0m passed \u001b[38;5;241m=\u001b[39m values\u001b[38;5;241m.\u001b[39mshape\n\u001b[1;32m    419\u001b[0m implied \u001b[38;5;241m=\u001b[39m (\u001b[38;5;28mlen\u001b[39m(index), \u001b[38;5;28mlen\u001b[39m(columns))\n\u001b[0;32m--> 420\u001b[0m \u001b[38;5;28;01mraise\u001b[39;00m \u001b[38;5;167;01mValueError\u001b[39;00m(\u001b[38;5;124mf\u001b[39m\u001b[38;5;124m\"\u001b[39m\u001b[38;5;124mShape of passed values is \u001b[39m\u001b[38;5;132;01m{\u001b[39;00mpassed\u001b[38;5;132;01m}\u001b[39;00m\u001b[38;5;124m, indices imply \u001b[39m\u001b[38;5;132;01m{\u001b[39;00mimplied\u001b[38;5;132;01m}\u001b[39;00m\u001b[38;5;124m\"\u001b[39m)\n",
      "\u001b[0;31mValueError\u001b[0m: Shape of passed values is (79, 78), indices imply (79, 1)"
     ]
    }
   ],
   "source": [
    "# Write to interpolated time series\n",
    "types_ = ['inv_irr', 'irr']\n",
    "sensing_params = ['ndvi', 'etf']\n",
    "\n",
    "for mask_type in types_:\n",
    "\n",
    "    for sensing_param in sensing_params:\n",
    "        \n",
    "        yrs = [x for x in range(1987, 2024)]\n",
    "\n",
    "        ee_data, src = None, None\n",
    "\n",
    "        ee_data = os.path.join(extracts, sensing_param, mask_type)\n",
    "        src = os.path.join(tables, '{}_{}_{}.csv'.format('calibration', sensing_param, mask_type))\n",
    "        src_ct = os.path.join(tables, '{}_{}_{}_ct.csv'.format('calibration', sensing_param, mask_type))\n",
    "\n",
    "        sparse_landsat_time_series(shapefile_path, ee_data, yrs, src, src_ct, feature_id=FEATURE_ID, select=None)"
   ]
  },
  {
   "cell_type": "code",
   "execution_count": 23,
   "id": "3a1b7a11-b7dc-4fef-874b-c05bf560d884",
   "metadata": {},
   "outputs": [
    {
     "name": "stdout",
     "output_type": "stream",
     "text": [
      "etf_inv_irr_ct\n",
      "ndvi_inv_irr_ct\n",
      "etf_inv_irr\n",
      "etf_inv_irr_ct\n",
      "etf_irr_ct\n",
      "ndvi_irr\n",
      "etf_irr\n",
      "etf_irr_ct\n",
      "etf_inv_irr\n",
      "ndvi_inv_irr\n",
      "ndvi_irr_ct\n",
      "ndvi_inv_irr_ct\n",
      "ndvi_inv_irr\n",
      "etf_irr\n",
      "ndvi_irr_ct\n",
      "ndvi_irr\n"
     ]
    }
   ],
   "source": [
    "remote_sensing_file = os.path.join(landsat, 'remote_sensing.csv')\n",
    "join_remote_sensing(tables, remote_sensing_file)"
   ]
  },
  {
   "cell_type": "markdown",
   "id": "f635e95b-6da4-4458-aacd-c5d5aa4026c1",
   "metadata": {},
   "source": [
    "### 2. Other Earth Engine Extracts"
   ]
  },
  {
   "cell_type": "code",
   "execution_count": 47,
   "id": "1ad8414b-1195-4e34-8551-f90b909286d2",
   "metadata": {},
   "outputs": [],
   "source": [
    "snow_dst = os.path.join(data, 'snodas', 'extracts')\n",
    "if not os.path.isdir(snow_dst):\n",
    "    os.makedirs(snow_dst, exist_ok=True)"
   ]
  },
  {
   "cell_type": "code",
   "execution_count": 28,
   "id": "cfb2589c-b69b-40c0-baac-7be1d16907f0",
   "metadata": {},
   "outputs": [
    {
     "name": "stderr",
     "output_type": "stream",
     "text": [
      "Extracting SNODAS: 100%|██████████████████| 240/240 [00:00<00:00, 187594.66it/s]"
     ]
    },
    {
     "name": "stdout",
     "output_type": "stream",
     "text": [
      "SNODAS exported 0, skipped 240 existing files\n"
     ]
    },
    {
     "name": "stderr",
     "output_type": "stream",
     "text": [
      "\n"
     ]
    }
   ],
   "source": [
    "fields =  'users/dgketchum/fields/flux'\n",
    "sample_snodas_swe(fields, bucket, debug=False, check_dir=snow_dst, overwrite=False, feature_id=None)"
   ]
  },
  {
   "cell_type": "code",
   "execution_count": 34,
   "id": "117894faf2e742e8",
   "metadata": {
    "scrolled": true
   },
   "outputs": [
    {
     "name": "stdout",
     "output_type": "stream",
     "text": [
      "calibration_ssurgo\n"
     ]
    }
   ],
   "source": [
    "# Since we're getting Flux stations from the Eastern US, outside coverage of IrrMapper, we'll get LANID where necessary\n",
    "description = 'calibration_irr'\n",
    "get_irrigation(fields, description, debug=False, selector=FEATURE_ID, lanid=True)\n",
    "description = 'calibration_ssurgo'\n",
    "get_ssurgo(fields, description, debug=False, selector=FEATURE_ID)"
   ]
  },
  {
   "cell_type": "code",
   "execution_count": 30,
   "id": "59b0c6bd-fa68-4c57-9707-98f2bf101294",
   "metadata": {
    "scrolled": true
   },
   "outputs": [
    {
     "name": "stderr",
     "output_type": "stream",
     "text": [
      "Copying Files from wudr: 0it [00:00, ?it/s]"
     ]
    },
    {
     "name": "stdout",
     "output_type": "stream",
     "text": [
      "Copied 0 of 0; skipped 0 existing files\n"
     ]
    },
    {
     "name": "stderr",
     "output_type": "stream",
     "text": [
      "\n"
     ]
    }
   ],
   "source": [
    "glob_ = 'swe'\n",
    "list_and_copy_gcs_bucket(command, bucket, snow_dst, glob=glob_, dry_run=False, overwrite=False)"
   ]
  },
  {
   "cell_type": "code",
   "execution_count": 48,
   "id": "1613ecfa-5a90-4ef0-949b-2fd5278a55e6",
   "metadata": {},
   "outputs": [
    {
     "name": "stderr",
     "output_type": "stream",
     "text": [
      "Processing CSV files: 100%|██████████████████| 240/240 [00:01<00:00, 128.97it/s]\n"
     ]
    },
    {
     "name": "stdout",
     "output_type": "stream",
     "text": [
      "wrote /home/dgketchum/PycharmProjects/swim-rs/tutorials/4_Flux_Network/data/snodas/snodas.json\n"
     ]
    }
   ],
   "source": [
    "snow =  os.path.join(data, 'snodas', 'snodas.json')\n",
    "create_timeseries_json(snow_dst, snow, feature_id=FEATURE_ID)"
   ]
  },
  {
   "cell_type": "code",
   "execution_count": 32,
   "id": "bf2820cc-a605-4251-bafd-7b2b825ee7f7",
   "metadata": {},
   "outputs": [
    {
     "name": "stderr",
     "output_type": "stream",
     "text": [
      "Copying Files from wudr: 100%|█████████████████| 1/1 [00:00<00:00, 11814.94it/s]"
     ]
    },
    {
     "name": "stdout",
     "output_type": "stream",
     "text": [
      "Copied 0 of 1; skipped 1 existing files\n"
     ]
    },
    {
     "name": "stderr",
     "output_type": "stream",
     "text": [
      "\n"
     ]
    }
   ],
   "source": [
    "description = 'calibration_ssurgo'\n",
    "dst = os.path.join(data, 'properties')\n",
    "list_and_copy_gcs_bucket(command, bucket, dst, glob=description, dry_run=False, overwrite=False)"
   ]
  },
  {
   "cell_type": "code",
   "execution_count": 35,
   "id": "cdcbfd16-73f6-48e4-a898-5108bd035355",
   "metadata": {},
   "outputs": [
    {
     "name": "stderr",
     "output_type": "stream",
     "text": [
      "Copying Files from wudr: 100%|████████████████████| 1/1 [00:01<00:00,  1.51s/it]"
     ]
    },
    {
     "name": "stdout",
     "output_type": "stream",
     "text": [
      "Copied 1 of 1; skipped 0 existing files\n"
     ]
    },
    {
     "name": "stderr",
     "output_type": "stream",
     "text": [
      "\n"
     ]
    }
   ],
   "source": [
    "description = 'calibration_irr'\n",
    "dst = os.path.join(data, 'properties')\n",
    "list_and_copy_gcs_bucket(command, bucket, dst, glob=description, dry_run=False, overwrite=True)"
   ]
  },
  {
   "cell_type": "code",
   "execution_count": 49,
   "id": "be468701-6532-4b5c-b381-31307d67ef66",
   "metadata": {},
   "outputs": [],
   "source": [
    "irr = os.path.join(data, 'properties', 'calibration_irr.csv')\n",
    "ssurgo = os.path.join(data, 'properties', 'calibration_ssurgo.csv')\n",
    "properties_json = os.path.join(data, 'properties', 'calibration_properties.json')\n",
    "\n",
    "write_field_properties(shp=shapefile_path, irr=irr, ssurgo=ssurgo, js=properties_json, index_col=FEATURE_ID, shp_add=None,\n",
    "                       targets=None)"
   ]
  },
  {
   "cell_type": "code",
   "execution_count": 50,
   "id": "afd02e2e-ed84-4472-ad3f-46093d68de63",
   "metadata": {},
   "outputs": [
    {
     "data": {
      "text/plain": [
       "{'irr': {'1987': 0.478813559322034,\n",
       "  '1988': 0.0,\n",
       "  '1989': 0.4797347089167283,\n",
       "  '1990': 0.0,\n",
       "  '1991': 0.0067059690493736,\n",
       "  '1992': 0.3462048636698602,\n",
       "  '1993': 0.7598747236551219,\n",
       "  '1994': 0.0,\n",
       "  '1995': 0.0067059690493736,\n",
       "  '1996': 0.6436624907885043,\n",
       "  '1997': 1.0,\n",
       "  '1998': 1.0,\n",
       "  '1999': 1.0,\n",
       "  '2000': 1.0,\n",
       "  '2001': 1.0,\n",
       "  '2002': 1.0,\n",
       "  '2003': 1.0,\n",
       "  '2004': 1.0,\n",
       "  '2005': 0.1387988209285188,\n",
       "  '2006': 1.0,\n",
       "  '2007': 1.0,\n",
       "  '2008': 1.0,\n",
       "  '2009': 1.0,\n",
       "  '2010': 1.0,\n",
       "  '2011': 1.0,\n",
       "  '2012': 1.0,\n",
       "  '2013': 1.0,\n",
       "  '2014': 1.0,\n",
       "  '2015': 1.0,\n",
       "  '2016': 1.0,\n",
       "  '2017': 1.0,\n",
       "  '2018': 1.0,\n",
       "  '2019': 1.0,\n",
       "  '2020': 1.0,\n",
       "  '2021': 1.0,\n",
       "  '2022': 1.0,\n",
       "  '2023': 1.0,\n",
       "  '2024': 1.0},\n",
       " 'awc': 0.1000000014901161,\n",
       " 'ksat': 5.363800048828125,\n",
       " 'clay': 24.399999618530277,\n",
       " 'sand': 39.29999923706055,\n",
       " 'area_sq_m': 69528.82373430512}"
      ]
     },
     "execution_count": 50,
     "metadata": {},
     "output_type": "execute_result"
    }
   ],
   "source": [
    "with open(properties_json, 'r') as f:\n",
    "    properties_dict = json.load(f)\n",
    "properties_dict['S2']"
   ]
  },
  {
   "cell_type": "markdown",
   "id": "6ff5d1c1-2abb-499c-9282-a9177570ab8d",
   "metadata": {},
   "source": [
    "Data looks good."
   ]
  },
  {
   "cell_type": "code",
   "execution_count": 51,
   "id": "531bcc3e-4413-4354-94bf-e7deeac1f040",
   "metadata": {},
   "outputs": [
    {
     "name": "stderr",
     "output_type": "stream",
     "text": [
      "Analyzing Irrigation:   4%|▊                    | 6/161 [00:00<00:06, 23.26it/s]"
     ]
    },
    {
     "name": "stdout",
     "output_type": "stream",
     "text": [
      "US-MC1: 2023 has 730/1095 nan\n",
      "US-Ne1: 1987 has 730/1095 nan\n",
      "US-Ne1: 1988 has 732/1098 nan\n",
      "US-Ne1: 1989 has 730/1095 nan\n",
      "US-Ne1: 1990 has 730/1095 nan\n",
      "US-Ne1: 1991 has 730/1095 nan\n",
      "US-Ne1: 1992 has 732/1098 nan\n",
      "US-Ne1: 1993 has 730/1095 nan\n",
      "US-Ne1: 1994 has 730/1095 nan\n",
      "US-Ne1: 1995 has 730/1095 nan\n",
      "US-Ne1: 1996 has 732/1098 nan\n",
      "US-Ne1: 1997 has 730/1095 nan\n",
      "US-Ne1: 1998 has 730/1095 nan\n",
      "US-Ne1: 1999 has 730/1095 nan\n",
      "US-Ne1: 2000 has 732/1098 nan\n",
      "US-Ne1: 2001 has 730/1095 nan\n",
      "US-Ne1: 2002 has 730/1095 nan\n",
      "US-Ne1: 2003 has 730/1095 nan\n",
      "US-Ne1: 2004 has 732/1098 nan\n",
      "US-Ne1: 2005 has 730/1095 nan\n",
      "US-Ne1: 2006 has 730/1095 nan\n",
      "US-Ne1: 2007 has 730/1095 nan\n",
      "US-Ne1: 2008 has 732/1098 nan\n",
      "US-Ne1: 2009 has 730/1095 nan\n",
      "US-Ne1: 2010 has 730/1095 nan\n",
      "US-Ne1: 2011 has 730/1095 nan\n",
      "US-Ne1: 2012 has 732/1098 nan\n",
      "US-Ne1: 2013 has 730/1095 nan\n",
      "US-Ne1: 2014 has 730/1095 nan\n",
      "US-Ne1: 2015 has 730/1095 nan\n",
      "US-Ne1: 2016 has 732/1098 nan\n",
      "US-Ne1: 2017 has 730/1095 nan\n",
      "US-Ne1: 2019 has 730/1095 nan\n",
      "US-Ne1: 2020 has 732/1098 nan\n",
      "US-Ne1: 2021 has 730/1095 nan\n",
      "US-Ne1: 2022 has 730/1095 nan\n",
      "US-Ne1: 2023 has 730/1095 nan\n",
      "US-Ne2: 1987 has 730/1095 nan\n",
      "US-Ne2: 1988 has 732/1098 nan\n",
      "US-Ne2: 1989 has 730/1095 nan\n",
      "US-Ne2: 1990 has 730/1095 nan\n",
      "US-Ne2: 1991 has 730/1095 nan\n",
      "US-Ne2: 1992 has 732/1098 nan\n",
      "US-Ne2: 1993 has 730/1095 nan\n",
      "US-Ne2: 1994 has 730/1095 nan\n",
      "US-Ne2: 1995 has 730/1095 nan\n",
      "US-Ne2: 1996 has 732/1098 nan\n",
      "US-Ne2: 1997 has 730/1095 nan\n",
      "US-Ne2: 1999 has 730/1095 nan\n",
      "US-Ne2: 2000 has 732/1098 nan\n",
      "US-Ne2: 2001 has 730/1095 nan\n",
      "US-Ne2: 2002 has 730/1095 nan\n",
      "US-Ne2: 2003 has 730/1095 nan\n",
      "US-Ne2: 2004 has 732/1098 nan\n",
      "US-Ne2: 2005 has 730/1095 nan\n",
      "US-Ne2: 2006 has 730/1095 nan\n",
      "US-Ne2: 2007 has 730/1095 nan\n",
      "US-Ne2: 2008 has 732/1098 nan\n",
      "US-Ne2: 2009 has 730/1095 nan\n",
      "US-Ne2: 2010 has 730/1095 nan\n",
      "US-Ne2: 2011 has 730/1095 nan\n",
      "US-Ne2: 2012 has 732/1098 nan\n",
      "US-Ne2: 2013 has 730/1095 nan\n",
      "US-Ne2: 2014 has 730/1095 nan\n",
      "US-Ne2: 2015 has 730/1095 nan\n",
      "US-Ne2: 2016 has 732/1098 nan\n",
      "US-Ne2: 2017 has 730/1095 nan\n",
      "US-Ne2: 2018 has 730/1095 nan\n",
      "US-Ne2: 2019 has 730/1095 nan\n",
      "US-Ne2: 2020 has 732/1098 nan\n",
      "US-Ne2: 2021 has 730/1095 nan\n",
      "US-Ne2: 2022 has 730/1095 nan\n",
      "US-Ne2: 2023 has 730/1095 nan\n",
      "US-Ne3: 1987 has 730/1095 nan\n",
      "US-Ne3: 1988 has 732/1098 nan\n",
      "US-Ne3: 1989 has 730/1095 nan\n",
      "US-Ne3: 1990 has 730/1095 nan\n",
      "US-Ne3: 1991 has 730/1095 nan\n",
      "US-Ne3: 1992 has 732/1098 nan\n",
      "US-Ne3: 1993 has 730/1095 nan\n",
      "US-Ne3: 1994 has 730/1095 nan\n",
      "US-Ne3: 1995 has 730/1095 nan\n",
      "US-Ne3: 1996 has 732/1098 nan\n",
      "US-Ne3: 1997 has 730/1095 nan\n",
      "US-Ne3: 1998 has 730/1095 nan\n",
      "US-Ne3: 2000 has 732/1098 nan\n",
      "US-Ne3: 2003 has 730/1095 nan\n",
      "US-Ne3: 2004 has 732/1098 nan\n",
      "US-Ne3: 2006 has 730/1095 nan\n",
      "US-Ne3: 2007 has 730/1095 nan\n",
      "US-Ne3: 2008 has 732/1098 nan\n",
      "US-Ne3: 2009 has 730/1095 nan\n",
      "US-Ne3: 2010 has 730/1095 nan\n",
      "US-Ne3: 2015 has 730/1095 nan\n",
      "US-Ne3: 2016 has 732/1098 nan\n",
      "US-Ne3: 2017 has 730/1095 nan\n",
      "US-Ne3: 2018 has 730/1095 nan\n",
      "US-Ne3: 2020 has 732/1098 nan\n",
      "US-Ne3: 2021 has 730/1095 nan\n",
      "US-Ne3: 2022 has 730/1095 nan\n",
      "US-Ne3: 2023 has 730/1095 nan\n"
     ]
    },
    {
     "name": "stderr",
     "output_type": "stream",
     "text": [
      "Analyzing Irrigation:  10%|█▉                  | 16/161 [00:00<00:05, 26.03it/s]"
     ]
    },
    {
     "name": "stdout",
     "output_type": "stream",
     "text": [
      "US-Bi1: 2023 has 730/1095 nan\n",
      "US-Bi2: 2023 has 730/1095 nan\n",
      "US-Tw2: 2023 has 730/1095 nan\n",
      "US-Tw3: 2023 has 730/1095 nan\n"
     ]
    },
    {
     "name": "stderr",
     "output_type": "stream",
     "text": [
      "Analyzing Irrigation:  53%|██████████▏        | 86/161 [00:01<00:00, 105.60it/s]"
     ]
    },
    {
     "name": "stdout",
     "output_type": "stream",
     "text": [
      "US-Twt: 2023 has 730/1095 nan\n",
      "US-Ro4: 2002 has 730/1095 nan\n",
      "US-Ro4: 2003 has 730/1095 nan\n",
      "US-Ro4: 2006 has 730/1095 nan\n",
      "US-Ro4: 2007 has 730/1095 nan\n",
      "US-Ro4: 2018 has 730/1095 nan\n",
      "US-Sne: 2023 has 730/1095 nan\n"
     ]
    },
    {
     "name": "stderr",
     "output_type": "stream",
     "text": [
      "Analyzing Irrigation:  73%|█████████████▏    | 118/161 [00:01<00:00, 116.03it/s]"
     ]
    },
    {
     "name": "stdout",
     "output_type": "stream",
     "text": [
      "KV_4: 2023 has 730/1095 nan\n",
      "MR: 2023 has 730/1095 nan\n",
      "B_01: 2023 has 730/1095 nan\n",
      "B_11: 2023 has 730/1095 nan\n",
      "manilacotton: 1987 has 730/1095 nan\n",
      "manilacotton: 1988 has 732/1098 nan\n",
      "manilacotton: 1989 has 730/1095 nan\n",
      "manilacotton: 1990 has 730/1095 nan\n",
      "manilacotton: 1991 has 730/1095 nan\n",
      "manilacotton: 1992 has 732/1098 nan\n",
      "manilacotton: 1993 has 730/1095 nan\n",
      "manilacotton: 1994 has 730/1095 nan\n",
      "manilacotton: 1995 has 730/1095 nan\n",
      "manilacotton: 1996 has 732/1098 nan\n",
      "manilacotton: 1997 has 730/1095 nan\n",
      "manilacotton: 1998 has 730/1095 nan\n",
      "manilacotton: 1999 has 730/1095 nan\n",
      "manilacotton: 2000 has 732/1098 nan\n",
      "manilacotton: 2001 has 730/1095 nan\n",
      "manilacotton: 2002 has 730/1095 nan\n",
      "manilacotton: 2003 has 730/1095 nan\n",
      "manilacotton: 2004 has 732/1098 nan\n",
      "manilacotton: 2005 has 730/1095 nan\n",
      "manilacotton: 2006 has 730/1095 nan\n",
      "manilacotton: 2007 has 730/1095 nan\n",
      "manilacotton: 2008 has 732/1098 nan\n",
      "manilacotton: 2009 has 730/1095 nan\n",
      "manilacotton: 2010 has 730/1095 nan\n",
      "manilacotton: 2011 has 730/1095 nan\n",
      "manilacotton: 2012 has 732/1098 nan\n",
      "manilacotton: 2013 has 730/1095 nan\n",
      "manilacotton: 2014 has 730/1095 nan\n",
      "manilacotton: 2015 has 730/1095 nan\n",
      "manilacotton: 2016 has 732/1098 nan\n",
      "manilacotton: 2017 has 730/1095 nan\n",
      "manilacotton: 2018 has 730/1095 nan\n",
      "manilacotton: 2019 has 730/1095 nan\n",
      "manilacotton: 2020 has 732/1098 nan\n",
      "manilacotton: 2021 has 730/1095 nan\n",
      "manilacotton: 2022 has 730/1095 nan\n",
      "manilacotton: 2023 has 730/1095 nan\n",
      "US-OF1: 1998 has 730/1095 nan\n",
      "US-OF1: 1999 has 730/1095 nan\n",
      "US-OF1: 2000 has 732/1098 nan\n",
      "US-OF1: 2001 has 730/1095 nan\n",
      "US-OF1: 2002 has 730/1095 nan\n",
      "US-OF1: 2004 has 732/1098 nan\n",
      "US-OF1: 2005 has 730/1095 nan\n",
      "US-OF1: 2006 has 730/1095 nan\n",
      "US-OF1: 2007 has 730/1095 nan\n",
      "US-OF1: 2008 has 732/1098 nan\n",
      "US-OF1: 2009 has 730/1095 nan\n",
      "US-OF1: 2010 has 730/1095 nan\n",
      "US-OF1: 2011 has 730/1095 nan\n",
      "US-OF1: 2012 has 732/1098 nan\n",
      "US-OF1: 2013 has 730/1095 nan\n",
      "US-OF1: 2014 has 730/1095 nan\n",
      "US-OF1: 2016 has 732/1098 nan\n",
      "US-OF1: 2017 has 730/1095 nan\n",
      "US-OF1: 2018 has 730/1095 nan\n",
      "US-OF1: 2019 has 730/1095 nan\n",
      "US-OF1: 2020 has 732/1098 nan\n",
      "US-OF1: 2021 has 730/1095 nan\n",
      "US-OF1: 2022 has 730/1095 nan\n",
      "US-OF1: 2023 has 730/1095 nan\n",
      "US-OF2: 1998 has 730/1095 nan\n",
      "US-OF2: 1999 has 730/1095 nan\n",
      "US-OF2: 2000 has 732/1098 nan\n",
      "US-OF2: 2001 has 730/1095 nan\n",
      "US-OF2: 2002 has 730/1095 nan\n",
      "US-OF2: 2004 has 732/1098 nan\n",
      "US-OF2: 2005 has 730/1095 nan\n",
      "US-OF2: 2006 has 730/1095 nan\n",
      "US-OF2: 2007 has 730/1095 nan\n",
      "US-OF2: 2008 has 732/1098 nan\n",
      "US-OF2: 2009 has 730/1095 nan\n",
      "US-OF2: 2010 has 730/1095 nan\n",
      "US-OF2: 2011 has 730/1095 nan\n",
      "US-OF2: 2012 has 732/1098 nan\n",
      "US-OF2: 2013 has 730/1095 nan\n",
      "US-OF2: 2014 has 730/1095 nan\n",
      "US-OF2: 2015 has 730/1095 nan\n",
      "US-OF2: 2016 has 732/1098 nan\n",
      "US-OF2: 2017 has 730/1095 nan\n",
      "US-OF2: 2018 has 730/1095 nan\n",
      "US-OF2: 2019 has 730/1095 nan\n",
      "US-OF2: 2020 has 732/1098 nan\n",
      "US-OF2: 2021 has 730/1095 nan\n",
      "US-OF2: 2022 has 730/1095 nan\n",
      "US-OF2: 2023 has 730/1095 nan\n",
      "US-OF4: 1998 has 730/1095 nan\n",
      "US-OF4: 1999 has 730/1095 nan\n",
      "US-OF4: 2000 has 732/1098 nan\n",
      "US-OF4: 2001 has 730/1095 nan\n",
      "US-OF4: 2002 has 730/1095 nan\n",
      "US-OF4: 2004 has 732/1098 nan\n",
      "US-OF4: 2005 has 730/1095 nan\n",
      "US-OF4: 2006 has 730/1095 nan\n",
      "US-OF4: 2007 has 730/1095 nan\n",
      "US-OF4: 2008 has 732/1098 nan\n",
      "US-OF4: 2009 has 730/1095 nan\n",
      "US-OF4: 2010 has 730/1095 nan\n",
      "US-OF4: 2011 has 730/1095 nan\n",
      "US-OF4: 2012 has 732/1098 nan\n",
      "US-OF4: 2013 has 730/1095 nan\n",
      "US-OF4: 2014 has 730/1095 nan\n",
      "US-OF4: 2016 has 732/1098 nan\n",
      "US-OF4: 2017 has 730/1095 nan\n",
      "US-OF4: 2018 has 730/1095 nan\n",
      "US-OF4: 2019 has 730/1095 nan\n",
      "US-OF4: 2020 has 732/1098 nan\n"
     ]
    },
    {
     "name": "stderr",
     "output_type": "stream",
     "text": [
      "Analyzing Irrigation:  82%|███████████████▌   | 132/161 [00:01<00:00, 80.35it/s]"
     ]
    },
    {
     "name": "stdout",
     "output_type": "stream",
     "text": [
      "US-OF4: 2021 has 730/1095 nan\n",
      "US-OF4: 2022 has 730/1095 nan\n",
      "US-OF4: 2023 has 730/1095 nan\n",
      "US-OF6: 1998 has 730/1095 nan\n",
      "US-OF6: 1999 has 730/1095 nan\n",
      "US-OF6: 2000 has 732/1098 nan\n",
      "US-OF6: 2001 has 730/1095 nan\n",
      "US-OF6: 2002 has 730/1095 nan\n",
      "US-OF6: 2003 has 730/1095 nan\n",
      "US-OF6: 2004 has 732/1098 nan\n",
      "US-OF6: 2005 has 730/1095 nan\n",
      "US-OF6: 2006 has 730/1095 nan\n",
      "US-OF6: 2007 has 730/1095 nan\n",
      "US-OF6: 2008 has 732/1098 nan\n",
      "US-OF6: 2009 has 730/1095 nan\n",
      "US-OF6: 2010 has 730/1095 nan\n",
      "US-OF6: 2011 has 730/1095 nan\n",
      "US-OF6: 2012 has 732/1098 nan\n",
      "US-OF6: 2013 has 730/1095 nan\n",
      "US-OF6: 2014 has 730/1095 nan\n",
      "US-OF6: 2015 has 730/1095 nan\n",
      "US-OF6: 2016 has 732/1098 nan\n",
      "US-OF6: 2017 has 730/1095 nan\n",
      "US-OF6: 2018 has 730/1095 nan\n",
      "US-OF6: 2019 has 730/1095 nan\n",
      "US-OF6: 2020 has 732/1098 nan\n",
      "US-OF6: 2021 has 730/1095 nan\n",
      "US-OF6: 2022 has 730/1095 nan\n",
      "US-OF6: 2023 has 730/1095 nan\n",
      "ET_8: 2023 has 730/1095 nan\n",
      "MB_Pch: 2023 has 730/1095 nan\n",
      "BAR012: 2023 has 730/1095 nan\n",
      "RIP760: 2023 has 730/1095 nan\n",
      "SLM001: 2023 has 730/1095 nan\n",
      "LYS_NE: 1987 has 730/1095 nan\n",
      "LYS_NE: 1988 has 732/1098 nan\n",
      "LYS_NE: 1989 has 730/1095 nan\n",
      "LYS_NE: 1990 has 730/1095 nan\n",
      "LYS_NE: 1991 has 730/1095 nan\n",
      "LYS_NE: 1992 has 732/1098 nan\n",
      "LYS_NE: 1993 has 730/1095 nan\n",
      "LYS_NE: 1994 has 730/1095 nan\n",
      "LYS_NE: 1995 has 730/1095 nan\n",
      "LYS_NE: 1996 has 732/1098 nan\n",
      "LYS_NE: 1997 has 730/1095 nan\n",
      "LYS_NE: 1998 has 730/1095 nan\n",
      "LYS_NE: 1999 has 730/1095 nan\n",
      "LYS_NE: 2000 has 732/1098 nan\n",
      "LYS_NE: 2001 has 730/1095 nan\n",
      "LYS_NE: 2002 has 730/1095 nan\n",
      "LYS_NE: 2004 has 732/1098 nan\n",
      "LYS_NE: 2006 has 730/1095 nan\n",
      "LYS_NE: 2007 has 730/1095 nan\n",
      "LYS_NE: 2008 has 732/1098 nan\n",
      "LYS_NE: 2009 has 730/1095 nan\n",
      "LYS_NE: 2010 has 730/1095 nan\n",
      "LYS_NE: 2011 has 730/1095 nan\n",
      "LYS_NE: 2013 has 730/1095 nan\n",
      "LYS_NE: 2014 has 730/1095 nan\n",
      "LYS_NE: 2015 has 730/1095 nan\n",
      "LYS_NE: 2016 has 732/1098 nan\n",
      "LYS_NE: 2018 has 730/1095 nan\n",
      "LYS_NE: 2019 has 730/1095 nan\n",
      "LYS_NE: 2020 has 732/1098 nan\n"
     ]
    },
    {
     "name": "stderr",
     "output_type": "stream",
     "text": [
      "Analyzing Irrigation:  89%|████████████████▉  | 143/161 [00:02<00:00, 42.51it/s]"
     ]
    },
    {
     "name": "stdout",
     "output_type": "stream",
     "text": [
      "LYS_NE: 2021 has 730/1095 nan\n",
      "LYS_NE: 2022 has 730/1095 nan\n",
      "LYS_NE: 2023 has 730/1095 nan\n",
      "LYS_NW: 1987 has 730/1095 nan\n",
      "LYS_NW: 1988 has 732/1098 nan\n",
      "LYS_NW: 1989 has 730/1095 nan\n",
      "LYS_NW: 1990 has 730/1095 nan\n",
      "LYS_NW: 1991 has 730/1095 nan\n",
      "LYS_NW: 1992 has 732/1098 nan\n",
      "LYS_NW: 1993 has 730/1095 nan\n",
      "LYS_NW: 1994 has 730/1095 nan\n",
      "LYS_NW: 1995 has 730/1095 nan\n",
      "LYS_NW: 1996 has 732/1098 nan\n",
      "LYS_NW: 1997 has 730/1095 nan\n",
      "LYS_NW: 1998 has 730/1095 nan\n",
      "LYS_NW: 1999 has 730/1095 nan\n",
      "LYS_NW: 2004 has 732/1098 nan\n",
      "LYS_NW: 2008 has 732/1098 nan\n",
      "LYS_NW: 2012 has 732/1098 nan\n",
      "LYS_NW: 2013 has 730/1095 nan\n",
      "LYS_NW: 2014 has 730/1095 nan\n",
      "LYS_NW: 2015 has 730/1095 nan\n",
      "LYS_NW: 2016 has 732/1098 nan\n",
      "LYS_NW: 2018 has 730/1095 nan\n",
      "LYS_NW: 2019 has 730/1095 nan\n",
      "LYS_NW: 2020 has 732/1098 nan\n",
      "LYS_NW: 2021 has 730/1095 nan\n",
      "LYS_NW: 2022 has 730/1095 nan\n",
      "LYS_NW: 2023 has 730/1095 nan\n",
      "LYS_SE: 1987 has 730/1095 nan\n",
      "LYS_SE: 1988 has 732/1098 nan\n",
      "LYS_SE: 1989 has 730/1095 nan\n",
      "LYS_SE: 1990 has 730/1095 nan\n",
      "LYS_SE: 1991 has 730/1095 nan\n",
      "LYS_SE: 1992 has 732/1098 nan\n",
      "LYS_SE: 1993 has 730/1095 nan\n",
      "LYS_SE: 1994 has 730/1095 nan\n",
      "LYS_SE: 1995 has 730/1095 nan\n",
      "LYS_SE: 1996 has 732/1098 nan\n",
      "LYS_SE: 1997 has 730/1095 nan\n",
      "LYS_SE: 1998 has 730/1095 nan\n",
      "LYS_SE: 1999 has 730/1095 nan\n",
      "LYS_SE: 2000 has 732/1098 nan\n",
      "LYS_SE: 2001 has 730/1095 nan\n",
      "LYS_SE: 2002 has 730/1095 nan\n",
      "LYS_SE: 2003 has 730/1095 nan\n",
      "LYS_SE: 2004 has 732/1098 nan\n",
      "LYS_SE: 2006 has 730/1095 nan\n",
      "LYS_SE: 2007 has 730/1095 nan\n",
      "LYS_SE: 2008 has 732/1098 nan\n",
      "LYS_SE: 2009 has 730/1095 nan\n",
      "LYS_SE: 2010 has 730/1095 nan\n",
      "LYS_SE: 2011 has 730/1095 nan\n",
      "LYS_SE: 2013 has 730/1095 nan\n",
      "LYS_SE: 2014 has 730/1095 nan\n",
      "LYS_SE: 2015 has 730/1095 nan\n",
      "LYS_SE: 2016 has 732/1098 nan\n",
      "LYS_SE: 2018 has 730/1095 nan\n",
      "LYS_SE: 2019 has 730/1095 nan\n",
      "LYS_SE: 2020 has 732/1098 nan\n",
      "LYS_SE: 2021 has 730/1095 nan\n",
      "LYS_SE: 2022 has 730/1095 nan\n",
      "LYS_SE: 2023 has 730/1095 nan\n",
      "LYS_SW: 1987 has 730/1095 nan\n",
      "LYS_SW: 1988 has 732/1098 nan\n",
      "LYS_SW: 1989 has 730/1095 nan\n",
      "LYS_SW: 1990 has 730/1095 nan\n",
      "LYS_SW: 1991 has 730/1095 nan\n",
      "LYS_SW: 1992 has 732/1098 nan\n",
      "LYS_SW: 1993 has 730/1095 nan\n",
      "LYS_SW: 1994 has 730/1095 nan\n",
      "LYS_SW: 1995 has 730/1095 nan\n",
      "LYS_SW: 1996 has 732/1098 nan\n",
      "LYS_SW: 1997 has 730/1095 nan\n",
      "LYS_SW: 1998 has 730/1095 nan\n",
      "LYS_SW: 1999 has 730/1095 nan\n",
      "LYS_SW: 2001 has 730/1095 nan\n",
      "LYS_SW: 2003 has 730/1095 nan\n",
      "LYS_SW: 2004 has 732/1098 nan\n",
      "LYS_SW: 2006 has 730/1095 nan\n",
      "LYS_SW: 2007 has 730/1095 nan\n",
      "LYS_SW: 2008 has 732/1098 nan\n",
      "LYS_SW: 2009 has 730/1095 nan\n",
      "LYS_SW: 2010 has 730/1095 nan\n",
      "LYS_SW: 2011 has 730/1095 nan\n",
      "LYS_SW: 2012 has 732/1098 nan\n",
      "LYS_SW: 2013 has 730/1095 nan\n",
      "LYS_SW: 2014 has 730/1095 nan\n",
      "LYS_SW: 2015 has 730/1095 nan\n",
      "LYS_SW: 2016 has 732/1098 nan\n",
      "LYS_SW: 2018 has 730/1095 nan\n",
      "LYS_SW: 2019 has 730/1095 nan\n",
      "LYS_SW: 2020 has 732/1098 nan\n",
      "LYS_SW: 2021 has 730/1095 nan\n",
      "LYS_SW: 2022 has 730/1095 nan\n",
      "LYS_SW: 2023 has 730/1095 nan\n",
      "Almond_Low: 2023 has 730/1095 nan\n"
     ]
    },
    {
     "name": "stderr",
     "output_type": "stream",
     "text": [
      "Analyzing Irrigation:  94%|█████████████████▊ | 151/161 [00:03<00:00, 27.89it/s]"
     ]
    },
    {
     "name": "stdout",
     "output_type": "stream",
     "text": [
      "S2: 2023 has 730/1095 nan\n",
      "ALARC2_Smith6: 2023 has 730/1095 nan\n",
      "JPL1_JV114: 2023 has 730/1095 nan\n",
      "JPL1_Smith5: 2023 has 730/1095 nan\n",
      "UA1_HartFarm: 2023 has 730/1095 nan\n",
      "UA1_JV187: 2023 has 730/1095 nan\n"
     ]
    },
    {
     "name": "stderr",
     "output_type": "stream",
     "text": [
      "Analyzing Irrigation:  98%|██████████████████▌| 157/161 [00:04<00:00, 19.54it/s]"
     ]
    },
    {
     "name": "stdout",
     "output_type": "stream",
     "text": [
      "UA1_KN18: 2023 has 730/1095 nan\n",
      "UA2_JV330: 2023 has 730/1095 nan\n",
      "UA2_KN20: 2023 has 730/1095 nan\n",
      "UA3_JV108: 2023 has 730/1095 nan\n"
     ]
    },
    {
     "name": "stderr",
     "output_type": "stream",
     "text": [
      "Analyzing Irrigation: 100%|███████████████████| 161/161 [00:04<00:00, 33.01it/s]"
     ]
    },
    {
     "name": "stdout",
     "output_type": "stream",
     "text": [
      "UA3_KN15: 2023 has 730/1095 nan\n",
      "stonevillesoy: 1999 has 730/1095 nan\n",
      "stonevillesoy: 2001 has 730/1095 nan\n",
      "stonevillesoy: 2002 has 730/1095 nan\n",
      "stonevillesoy: 2003 has 730/1095 nan\n",
      "stonevillesoy: 2005 has 730/1095 nan\n",
      "stonevillesoy: 2007 has 730/1095 nan\n",
      "stonevillesoy: 2010 has 730/1095 nan\n",
      "stonevillesoy: 2011 has 730/1095 nan\n",
      "stonevillesoy: 2012 has 732/1098 nan\n",
      "stonevillesoy: 2014 has 730/1095 nan\n",
      "stonevillesoy: 2015 has 730/1095 nan\n",
      "stonevillesoy: 2019 has 730/1095 nan\n",
      "stonevillesoy: 2020 has 732/1098 nan\n",
      "stonevillesoy: 2021 has 730/1095 nan\n",
      "stonevillesoy: 2022 has 730/1095 nan\n",
      "stonevillesoy: 2023 has 730/1095 nan\n",
      "wrote /home/dgketchum/PycharmProjects/swim-rs/tutorials/4_Flux_Network/data/landsat/calibration_cuttings.json\n"
     ]
    },
    {
     "name": "stderr",
     "output_type": "stream",
     "text": [
      "\n"
     ]
    }
   ],
   "source": [
    "cuttings_json = os.path.join(landsat, 'calibration_cuttings.json')\n",
    "detect_cuttings(remote_sensing_file, irr, irr_threshold=0.1, out_json=cuttings_json, select=None)"
   ]
  },
  {
   "cell_type": "markdown",
   "id": "eec7acaa-eda8-49df-a974-8cdf68ce0114",
   "metadata": {},
   "source": [
    "### 3. Meteorology Data"
   ]
  },
  {
   "cell_type": "markdown",
   "id": "10c304b2-8e4a-48fb-84d0-2a24faee5439",
   "metadata": {},
   "source": [
    "Since we are analyzing scattered stations, we accept we will need a different GridMET time series for each station, so we won't save any time associating each field with indexed GridMET cells (like we did with the cluster of fields). Therefore instead of using `find_gridmet_points` as we did in the previous tutorial, we can use the faster `get_gridmet_corrections`, which outputs the same things: a shapefile with the `GFID`s and a `json` file that has each GFID monthly correction factor. The difference is that the `GFID` is just a sequence of integers. This is all we need to proceed with downloading and process the GridMET data.\n",
    "\n",
    "This has the added benefit of removing the dependency on a vector representation of the GridMET grid, which requires downloading a raster, vectorizing it, and manipulating that shapefile, which is described in the docstring of `find_gridmet_points`.\n",
    "\n",
    "If running extractions for the entire flux network, you will need to replace the bias correction GeoTIFF residing in this tutorial's `data` directory with the CONUS rasters from Earth Engine (`projects/ee-dgketchum/assets/swim/gridmet_bias_correction`). See https://developers.google.com/earth-engine/guides/exporting_images for tips on downloading.\n",
    "\n",
    "Let's run the function to extract correction factors and download the data for Crane:"
   ]
  },
  {
   "cell_type": "code",
   "execution_count": 52,
   "id": "1b0354a6-27bc-45a8-8643-5d5fb09bba39",
   "metadata": {},
   "outputs": [],
   "source": [
    "correction_tifs = os.path.join(data, 'bias_correction_tif')\n",
    "\n",
    "fields_gridmet = os.path.join(data, 'gis', 'flux_fields_gfid.shp')\n",
    "\n",
    "gridmet_factors = os.path.join(data, 'gis', 'flux_fields_gfid.json')\n",
    "\n",
    "met = os.path.join(data, 'met_timeseries')\n",
    "if not os.path.isdir(met):\n",
    "    os.mkdir(met)"
   ]
  },
  {
   "cell_type": "code",
   "execution_count": 57,
   "id": "27fe2ff1-808f-4e15-ae06-848551af7624",
   "metadata": {},
   "outputs": [
    {
     "name": "stdout",
     "output_type": "stream",
     "text": [
      "Find field-gridmet joins\n"
     ]
    },
    {
     "name": "stderr",
     "output_type": "stream",
     "text": [
      "Assigning GridMET IDs: 100%|██████████████████| 161/161 [01:26<00:00,  1.86it/s]"
     ]
    },
    {
     "name": "stdout",
     "output_type": "stream",
     "text": [
      "Writing 161 of 161 input features\n"
     ]
    },
    {
     "name": "stderr",
     "output_type": "stream",
     "text": [
      "\n"
     ]
    }
   ],
   "source": [
    "get_gridmet_corrections(fields=shapefile_path,\n",
    "                        gridmet_ras=correction_tifs,\n",
    "                        fields_join=fields_gridmet,\n",
    "                        factors_js=gridmet_factors,\n",
    "                        feature_id=FEATURE_ID,\n",
    "                        field_select=None)"
   ]
  },
  {
   "cell_type": "code",
   "execution_count": 59,
   "id": "0ef86e77-6b07-4686-b0cb-ddc7d1a67b26",
   "metadata": {},
   "outputs": [
    {
     "name": "stderr",
     "output_type": "stream",
     "text": [
      "Downloading GridMET: 100%|██████████████████| 161/161 [00:00<00:00, 5106.30it/s]\n"
     ]
    }
   ],
   "source": [
    "download_gridmet(fields_gridmet, gridmet_factors, met, start='1987-01-01', end='2023-12-31',\n",
    "                 overwrite=False, feature_id=FEATURE_ID, target_fields=None)"
   ]
  },
  {
   "cell_type": "markdown",
   "id": "1b458655-1232-4ae7-9c94-09acc4c1a3a8",
   "metadata": {},
   "source": [
    "### 4. Model Preparation"
   ]
  },
  {
   "cell_type": "markdown",
   "id": "15d663d8-6b4a-42f1-ae1b-3a1b14255569",
   "metadata": {},
   "source": [
    "Now that we have out data together, the rest of the prep process is the same as in the first tutorial."
   ]
  },
  {
   "cell_type": "code",
   "execution_count": 60,
   "id": "8857ef8d-9c66-4345-b176-3b47eba3c2b0",
   "metadata": {},
   "outputs": [],
   "source": [
    "joined_timeseries = os.path.join(data, 'input_timeseries')\n",
    "if not os.path.isdir(joined_timeseries):\n",
    "    os.mkdir(joined_timeseries)"
   ]
  },
  {
   "cell_type": "code",
   "execution_count": 62,
   "id": "a8afa0eb-ecb4-4098-af66-d4cfe937f45b",
   "metadata": {
    "scrolled": true
   },
   "outputs": [
    {
     "name": "stderr",
     "output_type": "stream",
     "text": [
      "  1%|▎                                          | 1/161 [00:01<04:34,  1.72s/it]"
     ]
    },
    {
     "name": "stdout",
     "output_type": "stream",
     "text": [
      "US-A32 in 1987 has only nan in ndvi_irr and ndvi_inv_irr\n"
     ]
    },
    {
     "name": "stderr",
     "output_type": "stream",
     "text": [
      "  1%|▌                                          | 2/161 [00:03<04:12,  1.59s/it]"
     ]
    },
    {
     "name": "stdout",
     "output_type": "stream",
     "text": [
      "US-A74 in 1987 has only nan in ndvi_irr and ndvi_inv_irr\n"
     ]
    },
    {
     "name": "stderr",
     "output_type": "stream",
     "text": [
      "  2%|█                                          | 4/161 [00:06<04:29,  1.72s/it]"
     ]
    },
    {
     "name": "stdout",
     "output_type": "stream",
     "text": [
      "US-AR1 in 1987 has only nan in ndvi_irr and ndvi_inv_irr\n"
     ]
    },
    {
     "name": "stderr",
     "output_type": "stream",
     "text": [
      "  3%|█▎                                         | 5/161 [00:08<04:14,  1.63s/it]"
     ]
    },
    {
     "name": "stdout",
     "output_type": "stream",
     "text": [
      "US-ARb in 1987 has only nan in ndvi_irr and ndvi_inv_irr\n"
     ]
    },
    {
     "name": "stderr",
     "output_type": "stream",
     "text": [
      "  4%|█▌                                         | 6/161 [00:10<04:13,  1.64s/it]"
     ]
    },
    {
     "name": "stdout",
     "output_type": "stream",
     "text": [
      "US-ARc in 1987 has only nan in ndvi_irr and ndvi_inv_irr\n"
     ]
    },
    {
     "name": "stderr",
     "output_type": "stream",
     "text": [
      "  4%|█▊                                         | 7/161 [00:11<04:06,  1.60s/it]"
     ]
    },
    {
     "name": "stdout",
     "output_type": "stream",
     "text": [
      "US-ARM in 1987 has only nan in ndvi_irr and ndvi_inv_irr\n"
     ]
    },
    {
     "name": "stderr",
     "output_type": "stream",
     "text": [
      "  7%|██▊                                       | 11/161 [00:19<04:37,  1.85s/it]"
     ]
    },
    {
     "name": "stdout",
     "output_type": "stream",
     "text": [
      "US-Bkg in 1987 has only nan in ndvi_irr and ndvi_inv_irr\n"
     ]
    },
    {
     "name": "stderr",
     "output_type": "stream",
     "text": [
      "  7%|███▏                                      | 12/161 [00:21<04:25,  1.78s/it]"
     ]
    },
    {
     "name": "stdout",
     "output_type": "stream",
     "text": [
      "US-Blk in 1987 has only nan in ndvi_irr and ndvi_inv_irr\n"
     ]
    },
    {
     "name": "stderr",
     "output_type": "stream",
     "text": [
      "  9%|███▋                                      | 14/161 [00:24<04:22,  1.78s/it]"
     ]
    },
    {
     "name": "stdout",
     "output_type": "stream",
     "text": [
      "US-Bo1 in 1987 has only nan in ndvi_irr and ndvi_inv_irr\n"
     ]
    },
    {
     "name": "stderr",
     "output_type": "stream",
     "text": [
      "  9%|███▉                                      | 15/161 [00:26<04:07,  1.69s/it]"
     ]
    },
    {
     "name": "stdout",
     "output_type": "stream",
     "text": [
      "US-Br1 in 1987 has only nan in ndvi_irr and ndvi_inv_irr\n"
     ]
    },
    {
     "name": "stderr",
     "output_type": "stream",
     "text": [
      " 10%|████▏                                     | 16/161 [00:27<03:57,  1.64s/it]"
     ]
    },
    {
     "name": "stdout",
     "output_type": "stream",
     "text": [
      "US-Br3 in 1987 has only nan in ndvi_irr and ndvi_inv_irr\n"
     ]
    },
    {
     "name": "stderr",
     "output_type": "stream",
     "text": [
      " 11%|████▍                                     | 17/161 [00:29<03:50,  1.60s/it]"
     ]
    },
    {
     "name": "stdout",
     "output_type": "stream",
     "text": [
      "US-Ced in 1987 has only nan in ndvi_irr and ndvi_inv_irr\n"
     ]
    },
    {
     "name": "stderr",
     "output_type": "stream",
     "text": [
      " 12%|████▉                                     | 19/161 [00:33<04:05,  1.73s/it]"
     ]
    },
    {
     "name": "stdout",
     "output_type": "stream",
     "text": [
      "US-CRT in 1987 has only nan in ndvi_irr and ndvi_inv_irr\n"
     ]
    },
    {
     "name": "stderr",
     "output_type": "stream",
     "text": [
      " 12%|█████▏                                    | 20/161 [00:34<03:52,  1.65s/it]"
     ]
    },
    {
     "name": "stdout",
     "output_type": "stream",
     "text": [
      "US-Ctn in 1987 has only nan in ndvi_irr and ndvi_inv_irr\n"
     ]
    },
    {
     "name": "stderr",
     "output_type": "stream",
     "text": [
      " 14%|█████▋                                    | 22/161 [00:38<03:58,  1.72s/it]"
     ]
    },
    {
     "name": "stdout",
     "output_type": "stream",
     "text": [
      "US-Dix in 1987 has only nan in ndvi_irr and ndvi_inv_irr\n"
     ]
    },
    {
     "name": "stderr",
     "output_type": "stream",
     "text": [
      " 14%|██████                                    | 23/161 [00:40<03:48,  1.65s/it]"
     ]
    },
    {
     "name": "stdout",
     "output_type": "stream",
     "text": [
      "US-Dk1 in 1987 has only nan in ndvi_irr and ndvi_inv_irr\n"
     ]
    },
    {
     "name": "stderr",
     "output_type": "stream",
     "text": [
      " 15%|██████▎                                   | 24/161 [00:41<03:46,  1.65s/it]"
     ]
    },
    {
     "name": "stdout",
     "output_type": "stream",
     "text": [
      "US-Dk2 in 1987 has only nan in ndvi_irr and ndvi_inv_irr\n"
     ]
    },
    {
     "name": "stderr",
     "output_type": "stream",
     "text": [
      " 16%|██████▌                                   | 25/161 [00:43<03:41,  1.63s/it]"
     ]
    },
    {
     "name": "stdout",
     "output_type": "stream",
     "text": [
      "US-Esm in 1987 has only nan in ndvi_irr and ndvi_inv_irr\n"
     ]
    },
    {
     "name": "stderr",
     "output_type": "stream",
     "text": [
      " 17%|███████▎                                  | 28/161 [00:49<04:03,  1.83s/it]"
     ]
    },
    {
     "name": "stdout",
     "output_type": "stream",
     "text": [
      "US-FR2 in 1987 has only nan in ndvi_irr and ndvi_inv_irr\n"
     ]
    },
    {
     "name": "stderr",
     "output_type": "stream",
     "text": [
      " 20%|████████▎                                 | 32/161 [00:57<04:10,  1.94s/it]"
     ]
    },
    {
     "name": "stdout",
     "output_type": "stream",
     "text": [
      "US-GMF in 1987 has only nan in ndvi_irr and ndvi_inv_irr\n"
     ]
    },
    {
     "name": "stderr",
     "output_type": "stream",
     "text": [
      " 20%|████████▌                                 | 33/161 [00:59<04:03,  1.90s/it]"
     ]
    },
    {
     "name": "stdout",
     "output_type": "stream",
     "text": [
      "US-Goo in 1987 has only nan in ndvi_irr and ndvi_inv_irr\n"
     ]
    },
    {
     "name": "stderr",
     "output_type": "stream",
     "text": [
      " 22%|█████████▏                                | 35/161 [01:03<04:02,  1.92s/it]"
     ]
    },
    {
     "name": "stdout",
     "output_type": "stream",
     "text": [
      "US-Hn3 in 1989 has only nan in etf_irr and etf_inv_irr\n"
     ]
    },
    {
     "name": "stderr",
     "output_type": "stream",
     "text": [
      " 22%|█████████▍                                | 36/161 [01:05<03:45,  1.81s/it]"
     ]
    },
    {
     "name": "stdout",
     "output_type": "stream",
     "text": [
      "US-IB1 in 1987 has only nan in ndvi_irr and ndvi_inv_irr\n"
     ]
    },
    {
     "name": "stderr",
     "output_type": "stream",
     "text": [
      " 23%|█████████▋                                | 37/161 [01:06<03:33,  1.72s/it]"
     ]
    },
    {
     "name": "stdout",
     "output_type": "stream",
     "text": [
      "US-IB2 in 1987 has only nan in ndvi_irr and ndvi_inv_irr\n"
     ]
    },
    {
     "name": "stderr",
     "output_type": "stream",
     "text": [
      " 24%|██████████▏                               | 39/161 [01:10<03:34,  1.76s/it]"
     ]
    },
    {
     "name": "stdout",
     "output_type": "stream",
     "text": [
      "US-KLS in 1987 has only nan in ndvi_irr and ndvi_inv_irr\n"
     ]
    },
    {
     "name": "stderr",
     "output_type": "stream",
     "text": [
      " 25%|██████████▍                               | 40/161 [01:11<03:23,  1.68s/it]"
     ]
    },
    {
     "name": "stdout",
     "output_type": "stream",
     "text": [
      "US-KM4 in 1987 has only nan in ndvi_irr and ndvi_inv_irr\n"
     ]
    },
    {
     "name": "stderr",
     "output_type": "stream",
     "text": [
      " 25%|██████████▋                               | 41/161 [01:13<03:24,  1.70s/it]"
     ]
    },
    {
     "name": "stdout",
     "output_type": "stream",
     "text": [
      "US-KS2 in 1987 has only nan in ndvi_irr and ndvi_inv_irr\n"
     ]
    },
    {
     "name": "stderr",
     "output_type": "stream",
     "text": [
      " 29%|████████████▎                             | 47/161 [01:26<03:44,  1.97s/it]"
     ]
    },
    {
     "name": "stdout",
     "output_type": "stream",
     "text": [
      "US-Me6 in 1988 has only nan in etf_irr and etf_inv_irr\n"
     ]
    },
    {
     "name": "stderr",
     "output_type": "stream",
     "text": [
      " 31%|█████████████                             | 50/161 [01:32<03:33,  1.92s/it]"
     ]
    },
    {
     "name": "stdout",
     "output_type": "stream",
     "text": [
      "US-MMS in 1987 has only nan in ndvi_irr and ndvi_inv_irr\n"
     ]
    },
    {
     "name": "stderr",
     "output_type": "stream",
     "text": [
      " 32%|█████████████▎                            | 51/161 [01:33<03:16,  1.78s/it]"
     ]
    },
    {
     "name": "stdout",
     "output_type": "stream",
     "text": [
      "US-MOz in 1987 has only nan in ndvi_irr and ndvi_inv_irr\n"
     ]
    },
    {
     "name": "stderr",
     "output_type": "stream",
     "text": [
      " 32%|█████████████▌                            | 52/161 [01:35<03:09,  1.74s/it]"
     ]
    },
    {
     "name": "stdout",
     "output_type": "stream",
     "text": [
      "US-NC2 in 1987 has only nan in ndvi_irr and ndvi_inv_irr\n"
     ]
    },
    {
     "name": "stderr",
     "output_type": "stream",
     "text": [
      " 33%|█████████████▊                            | 53/161 [01:36<02:58,  1.66s/it]"
     ]
    },
    {
     "name": "stdout",
     "output_type": "stream",
     "text": [
      "US-NC3 in 1987 has only nan in ndvi_irr and ndvi_inv_irr\n"
     ]
    },
    {
     "name": "stderr",
     "output_type": "stream",
     "text": [
      " 34%|██████████████                            | 54/161 [01:38<02:51,  1.60s/it]"
     ]
    },
    {
     "name": "stdout",
     "output_type": "stream",
     "text": [
      "US-NC4 in 1987 has only nan in ndvi_irr and ndvi_inv_irr\n"
     ]
    },
    {
     "name": "stderr",
     "output_type": "stream",
     "text": [
      " 34%|██████████████▎                           | 55/161 [01:39<02:44,  1.56s/it]"
     ]
    },
    {
     "name": "stdout",
     "output_type": "stream",
     "text": [
      "US-Ne1 in 1987 has only nan in ndvi_irr and ndvi_inv_irr\n"
     ]
    },
    {
     "name": "stderr",
     "output_type": "stream",
     "text": [
      " 35%|██████████████▌                           | 56/161 [01:41<02:40,  1.53s/it]"
     ]
    },
    {
     "name": "stdout",
     "output_type": "stream",
     "text": [
      "US-Ne2 in 1987 has only nan in ndvi_irr and ndvi_inv_irr\n"
     ]
    },
    {
     "name": "stderr",
     "output_type": "stream",
     "text": [
      " 35%|██████████████▊                           | 57/161 [01:42<02:37,  1.51s/it]"
     ]
    },
    {
     "name": "stdout",
     "output_type": "stream",
     "text": [
      "US-Ne3 in 1987 has only nan in ndvi_irr and ndvi_inv_irr\n"
     ]
    },
    {
     "name": "stderr",
     "output_type": "stream",
     "text": [
      " 37%|███████████████▍                          | 59/161 [01:46<03:00,  1.77s/it]"
     ]
    },
    {
     "name": "stdout",
     "output_type": "stream",
     "text": [
      "US-Oho in 1987 has only nan in ndvi_irr and ndvi_inv_irr\n"
     ]
    },
    {
     "name": "stderr",
     "output_type": "stream",
     "text": [
      " 37%|███████████████▋                          | 60/161 [01:48<02:49,  1.68s/it]"
     ]
    },
    {
     "name": "stdout",
     "output_type": "stream",
     "text": [
      "US-Ro1 in 1987 has only nan in ndvi_irr and ndvi_inv_irr\n"
     ]
    },
    {
     "name": "stderr",
     "output_type": "stream",
     "text": [
      " 38%|███████████████▉                          | 61/161 [01:49<02:42,  1.62s/it]"
     ]
    },
    {
     "name": "stdout",
     "output_type": "stream",
     "text": [
      "US-Ro2 in 1987 has only nan in ndvi_irr and ndvi_inv_irr\n"
     ]
    },
    {
     "name": "stderr",
     "output_type": "stream",
     "text": [
      " 39%|████████████████▏                         | 62/161 [01:51<02:35,  1.57s/it]"
     ]
    },
    {
     "name": "stdout",
     "output_type": "stream",
     "text": [
      "US-Ro3 in 1987 has only nan in ndvi_irr and ndvi_inv_irr\n"
     ]
    },
    {
     "name": "stderr",
     "output_type": "stream",
     "text": [
      " 39%|████████████████▍                         | 63/161 [01:52<02:30,  1.54s/it]"
     ]
    },
    {
     "name": "stdout",
     "output_type": "stream",
     "text": [
      "US-Ro4 in 1987 has only nan in ndvi_irr and ndvi_inv_irr\n"
     ]
    },
    {
     "name": "stderr",
     "output_type": "stream",
     "text": [
      " 40%|████████████████▋                         | 64/161 [01:54<02:31,  1.57s/it]"
     ]
    },
    {
     "name": "stdout",
     "output_type": "stream",
     "text": [
      "US-Ro5 in 1987 has only nan in ndvi_irr and ndvi_inv_irr\n"
     ]
    },
    {
     "name": "stderr",
     "output_type": "stream",
     "text": [
      " 40%|████████████████▉                         | 65/161 [01:55<02:27,  1.53s/it]"
     ]
    },
    {
     "name": "stdout",
     "output_type": "stream",
     "text": [
      "US-Ro6 in 1987 has only nan in ndvi_irr and ndvi_inv_irr\n"
     ]
    },
    {
     "name": "stderr",
     "output_type": "stream",
     "text": [
      " 45%|██████████████████▊                       | 72/161 [02:10<02:55,  1.97s/it]"
     ]
    },
    {
     "name": "stdout",
     "output_type": "stream",
     "text": [
      "US-SdH in 1987 has only nan in ndvi_irr and ndvi_inv_irr\n"
     ]
    },
    {
     "name": "stderr",
     "output_type": "stream",
     "text": [
      " 45%|███████████████████                       | 73/161 [02:12<02:41,  1.84s/it]"
     ]
    },
    {
     "name": "stdout",
     "output_type": "stream",
     "text": [
      "US-Skr in 1987 has only nan in ndvi_irr and ndvi_inv_irr\n"
     ]
    },
    {
     "name": "stderr",
     "output_type": "stream",
     "text": [
      " 46%|███████████████████▎                      | 74/161 [02:14<02:34,  1.78s/it]"
     ]
    },
    {
     "name": "stdout",
     "output_type": "stream",
     "text": [
      "US-Slt in 1987 has only nan in ndvi_irr and ndvi_inv_irr\n"
     ]
    },
    {
     "name": "stderr",
     "output_type": "stream",
     "text": [
      " 49%|████████████████████▌                     | 79/161 [02:25<02:57,  2.17s/it]"
     ]
    },
    {
     "name": "stdout",
     "output_type": "stream",
     "text": [
      "US-SP2 in 1987 has only nan in ndvi_irr and ndvi_inv_irr\n"
     ]
    },
    {
     "name": "stderr",
     "output_type": "stream",
     "text": [
      " 50%|████████████████████▊                     | 80/161 [02:27<02:42,  2.01s/it]"
     ]
    },
    {
     "name": "stdout",
     "output_type": "stream",
     "text": [
      "US-SP3 in 1987 has only nan in ndvi_irr and ndvi_inv_irr\n"
     ]
    },
    {
     "name": "stderr",
     "output_type": "stream",
     "text": [
      " 50%|█████████████████████▏                    | 81/161 [02:29<02:35,  1.94s/it]"
     ]
    },
    {
     "name": "stdout",
     "output_type": "stream",
     "text": [
      "US-SP4 in 1987 has only nan in ndvi_irr and ndvi_inv_irr\n"
     ]
    },
    {
     "name": "stderr",
     "output_type": "stream",
     "text": [
      " 57%|███████████████████████▋                  | 91/161 [02:51<02:26,  2.09s/it]"
     ]
    },
    {
     "name": "stdout",
     "output_type": "stream",
     "text": [
      "US-WBW in 1987 has only nan in ndvi_irr and ndvi_inv_irr\n"
     ]
    },
    {
     "name": "stderr",
     "output_type": "stream",
     "text": [
      " 57%|████████████████████████                  | 92/161 [02:53<02:12,  1.93s/it]"
     ]
    },
    {
     "name": "stdout",
     "output_type": "stream",
     "text": [
      "US-WCr in 1987 has only nan in ndvi_irr and ndvi_inv_irr\n"
     ]
    },
    {
     "name": "stderr",
     "output_type": "stream",
     "text": [
      " 58%|████████████████████████▌                 | 94/161 [02:57<02:10,  1.95s/it]"
     ]
    },
    {
     "name": "stdout",
     "output_type": "stream",
     "text": [
      "US-xAE in 1987 has only nan in ndvi_irr and ndvi_inv_irr\n"
     ]
    },
    {
     "name": "stderr",
     "output_type": "stream",
     "text": [
      " 59%|████████████████████████▊                 | 95/161 [02:59<02:04,  1.89s/it]"
     ]
    },
    {
     "name": "stdout",
     "output_type": "stream",
     "text": [
      "US-xDC in 1987 has only nan in ndvi_irr and ndvi_inv_irr\n"
     ]
    },
    {
     "name": "stderr",
     "output_type": "stream",
     "text": [
      " 60%|█████████████████████████                 | 96/161 [03:00<01:56,  1.79s/it]"
     ]
    },
    {
     "name": "stdout",
     "output_type": "stream",
     "text": [
      "US-xDL in 1987 has only nan in ndvi_irr and ndvi_inv_irr\n"
     ]
    },
    {
     "name": "stderr",
     "output_type": "stream",
     "text": [
      " 60%|█████████████████████████▎                | 97/161 [03:02<01:49,  1.72s/it]"
     ]
    },
    {
     "name": "stdout",
     "output_type": "stream",
     "text": [
      "US-xDS in 1987 has only nan in ndvi_irr and ndvi_inv_irr\n"
     ]
    },
    {
     "name": "stderr",
     "output_type": "stream",
     "text": [
      " 61%|█████████████████████████▊                | 99/161 [03:06<01:55,  1.86s/it]"
     ]
    },
    {
     "name": "stdout",
     "output_type": "stream",
     "text": [
      "US-xNG in 1987 has only nan in ndvi_irr and ndvi_inv_irr\n"
     ]
    },
    {
     "name": "stderr",
     "output_type": "stream",
     "text": [
      " 63%|█████████████████████████▉               | 102/161 [03:12<01:54,  1.94s/it]"
     ]
    },
    {
     "name": "stdout",
     "output_type": "stream",
     "text": [
      "US-xSB in 1987 has only nan in ndvi_irr and ndvi_inv_irr\n"
     ]
    },
    {
     "name": "stderr",
     "output_type": "stream",
     "text": [
      " 65%|██████████████████████████▍              | 104/161 [03:16<01:49,  1.92s/it]"
     ]
    },
    {
     "name": "stdout",
     "output_type": "stream",
     "text": [
      "US-xST in 1987 has only nan in ndvi_irr and ndvi_inv_irr\n"
     ]
    },
    {
     "name": "stderr",
     "output_type": "stream",
     "text": [
      " 65%|██████████████████████████▋              | 105/161 [03:18<01:43,  1.85s/it]"
     ]
    },
    {
     "name": "stdout",
     "output_type": "stream",
     "text": [
      "US-xUN in 1987 has only nan in ndvi_irr and ndvi_inv_irr\n"
     ]
    },
    {
     "name": "stderr",
     "output_type": "stream",
     "text": [
      " 67%|███████████████████████████▌             | 108/161 [03:24<01:41,  1.92s/it]"
     ]
    },
    {
     "name": "stdout",
     "output_type": "stream",
     "text": [
      "Ellendale in 1987 has only nan in ndvi_irr and ndvi_inv_irr\n"
     ]
    },
    {
     "name": "stderr",
     "output_type": "stream",
     "text": [
      " 68%|███████████████████████████▊             | 109/161 [03:26<01:33,  1.80s/it]"
     ]
    },
    {
     "name": "stdout",
     "output_type": "stream",
     "text": [
      "manilacotton in 1987 has only nan in ndvi_irr and ndvi_inv_irr\n"
     ]
    },
    {
     "name": "stderr",
     "output_type": "stream",
     "text": [
      " 68%|████████████████████████████             | 110/161 [03:27<01:26,  1.70s/it]"
     ]
    },
    {
     "name": "stdout",
     "output_type": "stream",
     "text": [
      "stonevillesoy in 1987 has only nan in ndvi_irr and ndvi_inv_irr\n"
     ]
    },
    {
     "name": "stderr",
     "output_type": "stream",
     "text": [
      " 69%|████████████████████████████▎            | 111/161 [03:29<01:25,  1.71s/it]"
     ]
    },
    {
     "name": "stdout",
     "output_type": "stream",
     "text": [
      "US-OF1 in 1987 has only nan in ndvi_irr and ndvi_inv_irr\n"
     ]
    },
    {
     "name": "stderr",
     "output_type": "stream",
     "text": [
      " 70%|████████████████████████████▌            | 112/161 [03:30<01:20,  1.64s/it]"
     ]
    },
    {
     "name": "stdout",
     "output_type": "stream",
     "text": [
      "US-OF2 in 1987 has only nan in ndvi_irr and ndvi_inv_irr\n"
     ]
    },
    {
     "name": "stderr",
     "output_type": "stream",
     "text": [
      " 70%|████████████████████████████▊            | 113/161 [03:32<01:16,  1.59s/it]"
     ]
    },
    {
     "name": "stdout",
     "output_type": "stream",
     "text": [
      "US-OF4 in 1987 has only nan in ndvi_irr and ndvi_inv_irr\n"
     ]
    },
    {
     "name": "stderr",
     "output_type": "stream",
     "text": [
      " 71%|█████████████████████████████            | 114/161 [03:33<01:12,  1.54s/it]"
     ]
    },
    {
     "name": "stdout",
     "output_type": "stream",
     "text": [
      "US-OF6 in 1987 has only nan in ndvi_irr and ndvi_inv_irr\n"
     ]
    },
    {
     "name": "stderr",
     "output_type": "stream",
     "text": [
      " 80%|████████████████████████████████▊        | 129/161 [04:06<01:04,  2.00s/it]"
     ]
    },
    {
     "name": "stdout",
     "output_type": "stream",
     "text": [
      "LYS_NE in 1987 has only nan in ndvi_irr and ndvi_inv_irr\n"
     ]
    },
    {
     "name": "stderr",
     "output_type": "stream",
     "text": [
      " 81%|█████████████████████████████████        | 130/161 [04:07<00:56,  1.84s/it]"
     ]
    },
    {
     "name": "stdout",
     "output_type": "stream",
     "text": [
      "LYS_NW in 1987 has only nan in ndvi_irr and ndvi_inv_irr\n"
     ]
    },
    {
     "name": "stderr",
     "output_type": "stream",
     "text": [
      " 81%|█████████████████████████████████▎       | 131/161 [04:09<00:51,  1.73s/it]"
     ]
    },
    {
     "name": "stdout",
     "output_type": "stream",
     "text": [
      "LYS_SE in 1987 has only nan in ndvi_irr and ndvi_inv_irr\n"
     ]
    },
    {
     "name": "stderr",
     "output_type": "stream",
     "text": [
      " 82%|█████████████████████████████████▌       | 132/161 [04:10<00:47,  1.65s/it]"
     ]
    },
    {
     "name": "stdout",
     "output_type": "stream",
     "text": [
      "LYS_SW in 1987 has only nan in ndvi_irr and ndvi_inv_irr\n"
     ]
    },
    {
     "name": "stderr",
     "output_type": "stream",
     "text": [
      " 89%|████████████████████████████████████▋    | 144/161 [04:36<00:34,  2.03s/it]"
     ]
    },
    {
     "name": "stdout",
     "output_type": "stream",
     "text": [
      "AFD in 1990 has only nan in etf_irr and etf_inv_irr\n"
     ]
    },
    {
     "name": "stderr",
     "output_type": "stream",
     "text": [
      " 93%|█████████████████████████████████████▉   | 149/161 [04:47<00:24,  2.02s/it]"
     ]
    },
    {
     "name": "stdout",
     "output_type": "stream",
     "text": [
      "KV_1 in 1994 has only nan in etf_irr and etf_inv_irr\n"
     ]
    },
    {
     "name": "stderr",
     "output_type": "stream",
     "text": [
      "100%|█████████████████████████████████████████| 161/161 [05:14<00:00,  1.95s/it]"
     ]
    },
    {
     "name": "stdout",
     "output_type": "stream",
     "text": [
      "WRV_2 in 1989 has only nan in etf_irr and etf_inv_irr\n",
      "88 fields were successfully processed\n",
      "1 fields were dropped due to missing data\n"
     ]
    },
    {
     "name": "stderr",
     "output_type": "stream",
     "text": [
      "\n"
     ]
    },
    {
     "data": {
      "text/plain": [
       "'/home/dgketchum/PycharmProjects/swim-rs/tutorials/4_Flux_Network/data/input_timeseries'"
      ]
     },
     "execution_count": 62,
     "metadata": {},
     "output_type": "execute_result"
    }
   ],
   "source": [
    "params = ['etf_inv_irr',\n",
    "          'ndvi_inv_irr',\n",
    "          'etf_irr',\n",
    "          'ndvi_irr']\n",
    "params += ['{}_ct'.format(p) for p in params]\n",
    "\n",
    "join_daily_timeseries(fields=fields_gridmet,\n",
    "                      gridmet_dir=met,\n",
    "                      landsat_table=remote_sensing_file,\n",
    "                      snow=snow,\n",
    "                      dst_dir=joined_timeseries,\n",
    "                      overwrite=True,\n",
    "                      start_date='1987-01-01',\n",
    "                      end_date='2022-12-31', \n",
    "                      feature_id=FEATURE_ID,\n",
    "                      **{'params': params})\n",
    "joined_timeseries"
   ]
  },
  {
   "cell_type": "code",
   "execution_count": 59,
   "id": "8c42ea6c-0d29-409f-988b-09a47dd9f1d6",
   "metadata": {},
   "outputs": [
    {
     "name": "stderr",
     "output_type": "stream",
     "text": [
      "100%|█████████████████████████████████████████████| 1/1 [00:00<00:00,  2.01it/s]\n"
     ]
    },
    {
     "name": "stdout",
     "output_type": "stream",
     "text": [
      "wrote /home/dgketchum/PycharmProjects/swim-rs/tutorials/3_Crane/data/prepped_input.json\n"
     ]
    }
   ],
   "source": [
    "# the model input file\n",
    "prepped_input = os.path.join(data, 'prepped_input.json')\n",
    "\n",
    "processed_targets, excluded_targets = prep_fields_json(properties_json, joined_timeseries, prepped_input,\n",
    "                                                       target_plots=[selected_feature], irr_data=cuttings_json)"
   ]
  },
  {
   "cell_type": "markdown",
   "id": "1a55e21c-aaca-4759-bbe6-df0e1a4e95d3",
   "metadata": {},
   "source": [
    "Note: If you're just running the single station, the code will warn you're missing the other 160 stations. It's not a problem.\n",
    "\n",
    "Hopefully, that went quick. In Step 2, we'll run an uncalibrated model."
   ]
  }
 ],
 "metadata": {
  "kernelspec": {
   "display_name": "Python 3 (ipykernel)",
   "language": "python",
   "name": "python3"
  },
  "language_info": {
   "codemirror_mode": {
    "name": "ipython",
    "version": 3
   },
   "file_extension": ".py",
   "mimetype": "text/x-python",
   "name": "python",
   "nbconvert_exporter": "python",
   "pygments_lexer": "ipython3",
   "version": "3.9.18"
  }
 },
 "nbformat": 4,
 "nbformat_minor": 5
}
